{
 "cells": [
  {
   "cell_type": "code",
   "execution_count": 1,
   "metadata": {},
   "outputs": [
    {
     "name": "stdout",
     "output_type": "stream",
     "text": [
      "[[1]_2 + [1]_2*x^2  in Z/2Z[x]]_[1]_2 + [1]_2*x^2 + [1]_2*x^3  in Z/2Z[x]  in Z/2Z/([1]_2 + [1]_2*x^2 + [1]_2*x^3  in Z/2Z[x])\n",
      "[[1]_2 + [1]_2*x + [1]_2*x^2  in Z/2Z[x]]_[1]_2 + [1]_2*x^2 + [1]_2*x^3  in Z/2Z[x]  in Z/2Z/([1]_2 + [1]_2*x^2 + [1]_2*x^3  in Z/2Z[x])\n"
     ]
    }
   ],
   "source": [
    "from tocas import Restklassenring, Polynomring, PolynomringElement\n",
    "\n",
    "from polynom_restklassenring import PolynomRestklassenring, PolynomRestklassenringElement\n",
    "\n",
    "Z_2 = Restklassenring(2)\n",
    "K_X = Polynomring(Z_2)\n",
    "F = PolynomRestklassenring(PolynomringElement([1, 0, 1, 1], K_X))\n",
    "a = PolynomRestklassenringElement([1, 0, 1], F)\n",
    "b = PolynomRestklassenringElement([1, 1, 1], F)\n",
    "print(a)\n",
    "print(b)"
   ]
  },
  {
   "cell_type": "code",
   "execution_count": 2,
   "metadata": {},
   "outputs": [
    {
     "name": "stdout",
     "output_type": "stream",
     "text": [
      "[[1]_2 + [1]_2*x^2  in Z/2Z[x]]_[1]_2 + [1]_2*x^2 + [1]_2*x^3  in Z/2Z[x]  in Z/2Z/([1]_2 + [1]_2*x^2 + [1]_2*x^3  in Z/2Z[x])\n",
      "[[1]_2 + [1]_2*x^2  in Z/2Z[x]]_[1]_2 + [1]_2*x^2 + [1]_2*x^3  in Z/2Z[x]  in Z/2Z/([1]_2 + [1]_2*x^2 + [1]_2*x^3  in Z/2Z[x])\n",
      "[[0]_2  in Z/2Z[x]]_[1]_2 + [1]_2*x^2 + [1]_2*x^3  in Z/2Z[x]  in Z/2Z/([1]_2 + [1]_2*x^2 + [1]_2*x^3  in Z/2Z[x])\n"
     ]
    }
   ],
   "source": [
    "print(3 * a)\n",
    "print(Z_2.element(3) * a)\n",
    "print(F.null * a)"
   ]
  },
  {
   "cell_type": "code",
   "execution_count": 3,
   "metadata": {},
   "outputs": [
    {
     "name": "stdout",
     "output_type": "stream",
     "text": [
      "[[1]_2 + [1]_2*x^2  in Z/2Z[x]]_[1]_2 + [1]_2*x^2 + [1]_2*x^3  in Z/2Z[x]  in Z/2Z/([1]_2 + [1]_2*x^2 + [1]_2*x^3  in Z/2Z[x])\n"
     ]
    }
   ],
   "source": [
    "print(F.eins * a)"
   ]
  },
  {
   "cell_type": "code",
   "execution_count": 4,
   "metadata": {},
   "outputs": [
    {
     "name": "stdout",
     "output_type": "stream",
     "text": [
      "[[1]_2  in Z/2Z[x]]_[1]_2 + [1]_2*x^2 + [1]_2*x^3  in Z/2Z[x]  in Z/2Z/([1]_2 + [1]_2*x^2 + [1]_2*x^3  in Z/2Z[x])\n"
     ]
    }
   ],
   "source": [
    "print(a * b)"
   ]
  },
  {
   "cell_type": "code",
   "execution_count": 5,
   "metadata": {},
   "outputs": [
    {
     "name": "stdout",
     "output_type": "stream",
     "text": [
      "[[1]_2 + [1]_2*x + [1]_2*x^2  in Z/2Z[x]]_[1]_2 + [1]_2*x^2 + [1]_2*x^3  in Z/2Z[x]  in Z/2Z/([1]_2 + [1]_2*x^2 + [1]_2*x^3  in Z/2Z[x])\n",
      "[[1]_2  in Z/2Z[x]]_[1]_2 + [1]_2*x^2 + [1]_2*x^3  in Z/2Z[x]  in Z/2Z/([1]_2 + [1]_2*x^2 + [1]_2*x^3  in Z/2Z[x])\n",
      "[[1]_2 + [1]_2*x^2  in Z/2Z[x]]_[1]_2 + [1]_2*x^2 + [1]_2*x^3  in Z/2Z[x]  in Z/2Z/([1]_2 + [1]_2*x^2 + [1]_2*x^3  in Z/2Z[x])\n",
      "[[1]_2  in Z/2Z[x]]_[1]_2 + [1]_2*x^2 + [1]_2*x^3  in Z/2Z[x]  in Z/2Z/([1]_2 + [1]_2*x^2 + [1]_2*x^3  in Z/2Z[x])\n"
     ]
    }
   ],
   "source": [
    "print(a.invers())\n",
    "print(a * a.invers())\n",
    "print(b.invers())\n",
    "print(b * b.invers())"
   ]
  },
  {
   "cell_type": "code",
   "execution_count": 6,
   "metadata": {},
   "outputs": [
    {
     "name": "stdout",
     "output_type": "stream",
     "text": [
      "[[0]_2  in Z/2Z[x]]_[1]_2 + [1]_2*x^2 + [1]_2*x^3  in Z/2Z[x]  in Z/2Z/([1]_2 + [1]_2*x^2 + [1]_2*x^3  in Z/2Z[x])\n",
      "[[0]_2  in Z/2Z[x]]_[1]_2 + [1]_2*x^2 + [1]_2*x^3  in Z/2Z[x]  in Z/2Z/([1]_2 + [1]_2*x^2 + [1]_2*x^3  in Z/2Z[x])\n",
      "[[1]_2*x^2  in Z/2Z[x]]_[1]_2 + [1]_2*x^2 + [1]_2*x^3  in Z/2Z[x]  in Z/2Z/([1]_2 + [1]_2*x^2 + [1]_2*x^3  in Z/2Z[x])\n"
     ]
    }
   ],
   "source": [
    "print(F.random())\n",
    "print(F.random())\n",
    "print(F.random())"
   ]
  },
  {
   "cell_type": "code",
   "execution_count": null,
   "metadata": {},
   "outputs": [],
   "source": []
  }
 ],
 "metadata": {
  "kernelspec": {
   "display_name": "Python 3",
   "language": "python",
   "name": "python3"
  },
  "language_info": {
   "codemirror_mode": {
    "name": "ipython",
    "version": 3
   },
   "file_extension": ".py",
   "mimetype": "text/x-python",
   "name": "python",
   "nbconvert_exporter": "python",
   "pygments_lexer": "ipython3",
   "version": "3.6.5"
  }
 },
 "nbformat": 4,
 "nbformat_minor": 2
}
