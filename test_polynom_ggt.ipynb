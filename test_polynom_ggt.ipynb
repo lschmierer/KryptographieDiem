{
 "cells": [
  {
   "cell_type": "code",
   "execution_count": 1,
   "metadata": {},
   "outputs": [
    {
     "name": "stdout",
     "output_type": "stream",
     "text": [
      "(2/1) + (1/1)*x^2 in Q[x]\n",
      "(1/1)*x in Q[x]\n"
     ]
    }
   ],
   "source": [
    "from tocas import Polynomring, PolynomringElement\n",
    "\n",
    "import format_extension\n",
    "from bruchzahlring import Q\n",
    "\n",
    "R_X = Polynomring(Q)\n",
    "print(PolynomringElement([2, 0, 1], R_X))\n",
    "print(PolynomringElement([0, 1], R_X))"
   ]
  },
  {
   "cell_type": "code",
   "execution_count": 2,
   "metadata": {},
   "outputs": [
    {
     "name": "stdout",
     "output_type": "stream",
     "text": [
      "(1/1)*x in Q[x]\n",
      "(2/1) in Q[x]\n"
     ]
    }
   ],
   "source": [
    "import polynom_extension\n",
    "\n",
    "a = PolynomringElement([2, 0, 1], R_X)\n",
    "b = PolynomringElement([0, 1], R_X)\n",
    "print(a // b)\n",
    "print(a % b)"
   ]
  },
  {
   "cell_type": "code",
   "execution_count": 3,
   "metadata": {
    "scrolled": false
   },
   "outputs": [
    {
     "name": "stdout",
     "output_type": "stream",
     "text": [
      "((1/1) in Q[x], (1/2) in Q[x], (-1/2)*x in Q[x])\n"
     ]
    }
   ],
   "source": [
    "print(Polynomring.ExtGGT(a, b))"
   ]
  },
  {
   "cell_type": "code",
   "execution_count": 4,
   "metadata": {},
   "outputs": [
    {
     "name": "stdout",
     "output_type": "stream",
     "text": [
      "((1/1) in Q[x], (1/2) in Q[x], (-1/4)*x in Q[x])\n"
     ]
    }
   ],
   "source": [
    "a = PolynomringElement([2, 0, 0, 1], R_X)\n",
    "b = PolynomringElement([0, 0, 2], R_X)\n",
    "\n",
    "print(Polynomring.ExtGGT(a, b))"
   ]
  },
  {
   "cell_type": "code",
   "execution_count": 5,
   "metadata": {},
   "outputs": [
    {
     "name": "stdout",
     "output_type": "stream",
     "text": [
      "[1]_5*x in ℤ/5ℤ[x]\n",
      "[2]_5 in ℤ/5ℤ[x]\n"
     ]
    }
   ],
   "source": [
    "from tocas import Restklassenring\n",
    "\n",
    "Z_5 = Restklassenring(5)\n",
    "\n",
    "K_X = Polynomring(Z_5)\n",
    "a = PolynomringElement([2, 0, 1], K_X)\n",
    "b = PolynomringElement([0, 1], K_X)\n",
    "print(a // b)\n",
    "print(a % b)"
   ]
  },
  {
   "cell_type": "code",
   "execution_count": 6,
   "metadata": {},
   "outputs": [
    {
     "name": "stdout",
     "output_type": "stream",
     "text": [
      "([1]_5 in ℤ/5ℤ[x], [3]_5 in ℤ/5ℤ[x], [2]_5*x in ℤ/5ℤ[x])\n"
     ]
    }
   ],
   "source": [
    "print(Polynomring.ExtGGT(a, b))"
   ]
  },
  {
   "cell_type": "code",
   "execution_count": 7,
   "metadata": {
    "scrolled": true
   },
   "outputs": [
    {
     "name": "stdout",
     "output_type": "stream",
     "text": [
      "([1]_5 in ℤ/5ℤ[x], [3]_5 in ℤ/5ℤ[x], [2]_5*x in ℤ/5ℤ[x])\n"
     ]
    }
   ],
   "source": [
    "print(K_X.ext_ggt(a, b))"
   ]
  },
  {
   "cell_type": "code",
   "execution_count": null,
   "metadata": {},
   "outputs": [],
   "source": []
  }
 ],
 "metadata": {
  "kernelspec": {
   "display_name": "Python 3",
   "language": "python",
   "name": "python3"
  },
  "language_info": {
   "codemirror_mode": {
    "name": "ipython",
    "version": 3
   },
   "file_extension": ".py",
   "mimetype": "text/x-python",
   "name": "python",
   "nbconvert_exporter": "python",
   "pygments_lexer": "ipython3",
   "version": "3.6.5"
  }
 },
 "nbformat": 4,
 "nbformat_minor": 2
}
