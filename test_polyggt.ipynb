{
 "cells": [
  {
   "cell_type": "code",
   "execution_count": 1,
   "metadata": {},
   "outputs": [
    {
     "name": "stdout",
     "output_type": "stream",
     "text": [
      "2/1 + 1/1*x^2  in Q[x]\n",
      "1/1*x  in Q[x]\n"
     ]
    }
   ],
   "source": [
    "from tocas import Polynomring, PolynomringElement\n",
    "\n",
    "from bruchzahlring import BruchzahlringElement, Q\n",
    "\n",
    "R_X = Polynomring(Q)\n",
    "print(PolynomringElement([2, 0, 1], R_X))\n",
    "print(PolynomringElement([0, 1], R_X))"
   ]
  },
  {
   "cell_type": "code",
   "execution_count": 2,
   "metadata": {},
   "outputs": [
    {
     "name": "stdout",
     "output_type": "stream",
     "text": [
      "1/1*x  in Q[x]\n",
      "1/2*x  in Q[x]\n"
     ]
    }
   ],
   "source": [
    "import polyggt\n",
    "\n",
    "a = PolynomringElement([2, 0, 1], R_X)\n",
    "b = PolynomringElement([0, 1], R_X)\n",
    "print(a // b)\n",
    "\n",
    "print(PolynomringElement([0, 1], R_X) // PolynomringElement([2], R_X))"
   ]
  },
  {
   "cell_type": "code",
   "execution_count": 3,
   "metadata": {
    "scrolled": false
   },
   "outputs": [
    {
     "name": "stdout",
     "output_type": "stream",
     "text": [
      "(2/1  in Q[x], 1/1  in Q[x], -1/1*x  in Q[x])\n"
     ]
    }
   ],
   "source": [
    "print(Polynomring.ExtGGT(a, b))"
   ]
  },
  {
   "cell_type": "code",
   "execution_count": 4,
   "metadata": {},
   "outputs": [
    {
     "name": "stdout",
     "output_type": "stream",
     "text": [
      "(2/1  in Q[x], 1/1  in Q[x], -1/2*x  in Q[x])\n"
     ]
    }
   ],
   "source": [
    "a = PolynomringElement([2, 0, 0, 1], R_X)\n",
    "b = PolynomringElement([0, 0, 2], R_X)\n",
    "\n",
    "print(Polynomring.ExtGGT(a, b))"
   ]
  },
  {
   "cell_type": "code",
   "execution_count": null,
   "metadata": {},
   "outputs": [],
   "source": []
  }
 ],
 "metadata": {
  "kernelspec": {
   "display_name": "Python 3",
   "language": "python",
   "name": "python3"
  },
  "language_info": {
   "codemirror_mode": {
    "name": "ipython",
    "version": 3
   },
   "file_extension": ".py",
   "mimetype": "text/x-python",
   "name": "python",
   "nbconvert_exporter": "python",
   "pygments_lexer": "ipython3",
   "version": "3.6.5"
  }
 },
 "nbformat": 4,
 "nbformat_minor": 2
}
