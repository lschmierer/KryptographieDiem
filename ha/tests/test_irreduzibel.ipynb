{
 "cells": [
  {
   "cell_type": "code",
   "execution_count": 1,
   "metadata": {
    "scrolled": true
   },
   "outputs": [
    {
     "name": "stdout",
     "output_type": "stream",
     "text": [
      "False\n",
      "True\n",
      "True\n",
      "False\n",
      "False\n",
      "False\n",
      "True\n",
      "False\n",
      "False\n",
      "False\n",
      "False\n",
      "False\n",
      "True\n",
      "True\n",
      "False\n"
     ]
    }
   ],
   "source": [
    "import project_path\n",
    "from tocas import Restklassenring, Polynomring, PolynomringElement\n",
    "\n",
    "import ha.format_extension\n",
    "import ha.polynom_extension\n",
    "import ha.restklassen_extension\n",
    "\n",
    "Z_2 = Restklassenring(2)\n",
    "K_X = Polynomring(Z_2)\n",
    "\n",
    "'''http://mathworld.wolfram.com/IrreduciblePolynomial.html'''\n",
    "\n",
    "print(PolynomringElement([1], K_X).irreduzibel()) #False\n",
    "print(PolynomringElement([1, 1], K_X).irreduzibel()) #True\n",
    "print(PolynomringElement([0, 1], K_X).irreduzibel()) #True\n",
    "print(PolynomringElement([0, 0, 1], K_X).irreduzibel()) #False\n",
    "print(PolynomringElement([1, 0, 1], K_X).irreduzibel()) #False\n",
    "print(PolynomringElement([0, 1, 1], K_X).irreduzibel()) #False\n",
    "print(PolynomringElement([1, 1, 1], K_X).irreduzibel()) #True\n",
    "print(PolynomringElement([0, 0, 0, 1], K_X).irreduzibel()) #False\n",
    "print(PolynomringElement([0, 0, 1, 1], K_X).irreduzibel()) #False\n",
    "print(PolynomringElement([0, 1, 0, 1], K_X).irreduzibel()) #False\n",
    "print(PolynomringElement([0, 1, 1, 1], K_X).irreduzibel()) #False\n",
    "print(PolynomringElement([1, 0, 0, 1], K_X).irreduzibel()) #False\n",
    "print(PolynomringElement([1, 0, 1, 1], K_X).irreduzibel()) #True \n",
    "print(PolynomringElement([1, 1, 0, 1], K_X).irreduzibel()) #True\n",
    "print(PolynomringElement([1, 1, 1, 1], K_X).irreduzibel()) #False"
   ]
  },
  {
   "cell_type": "code",
   "execution_count": 2,
   "metadata": {},
   "outputs": [
    {
     "name": "stdout",
     "output_type": "stream",
     "text": [
      "False\n",
      "True\n",
      "True\n",
      "False\n",
      "True\n",
      "True\n",
      "True\n",
      "True\n",
      "False\n",
      "False\n",
      "False\n"
     ]
    }
   ],
   "source": [
    "Z_3 = Restklassenring(3)\n",
    "K3_X = Polynomring(Z_3)\n",
    "\n",
    "''' https://baylor-ir.tdl.org/baylor-ir/bitstream/handle/2104/8793/GF3%20Polynomials.pdf?sequence=1 '''\n",
    "''' Achtung. Primitiv -> irreduzibel aber nicht anders herum!'''\n",
    "\n",
    "print(PolynomringElement([1, 1, 1, 2, 1, 1, 1], K3_X).irreduzibel()) #False\n",
    "print(PolynomringElement([2, 2, 1], K3_X).irreduzibel()) #True\n",
    "print(PolynomringElement([2, 1, 1], K3_X).irreduzibel()) #True\n",
    "print(PolynomringElement([1, 1, 1], K3_X).irreduzibel()) #False\n",
    "print(PolynomringElement([1, 2, 0, 1], K3_X).irreduzibel()) #True \n",
    "print(PolynomringElement([1, 2, 1, 1], K3_X).irreduzibel()) #True\n",
    "print(PolynomringElement([1, 0, 2, 1], K3_X).irreduzibel()) #True\n",
    "print(PolynomringElement([1, 1, 2, 1], K3_X).irreduzibel()) #True\n",
    "print(PolynomringElement([1, 2, 2, 1], K3_X).irreduzibel()) #False\n",
    "print(PolynomringElement([1, 1, 1, 1], K3_X).irreduzibel()) #False\n",
    "print(PolynomringElement([2, 2, 1, 1], K3_X).irreduzibel()) #False"
   ]
  },
  {
   "cell_type": "code",
   "execution_count": 3,
   "metadata": {},
   "outputs": [
    {
     "name": "stdout",
     "output_type": "stream",
     "text": [
      "([1] in [ℤ/3ℤ][x], [2]*x in [ℤ/3ℤ][x], [2] + [2]*x + [2]*x^2 in [ℤ/3ℤ][x])\n"
     ]
    }
   ],
   "source": [
    "Z_3 = Restklassenring(3)\n",
    "K3_X = Polynomring(Z_3)\n",
    "\n",
    "g = Polynomring.ExtGGT(PolynomringElement([1, 2, 1, 1], K3_X), PolynomringElement([2, 0, 2], K3_X))\n",
    "print(g)"
   ]
  },
  {
   "cell_type": "code",
   "execution_count": 4,
   "metadata": {},
   "outputs": [
    {
     "name": "stdout",
     "output_type": "stream",
     "text": [
      "True\n"
     ]
    }
   ],
   "source": [
    "print(PolynomringElement([2, 2, 0, 1], K3_X).irreduzibel()) "
   ]
  },
  {
   "cell_type": "code",
   "execution_count": null,
   "metadata": {},
   "outputs": [],
   "source": []
  }
 ],
 "metadata": {
  "kernelspec": {
   "display_name": "Python 3",
   "language": "python",
   "name": "python3"
  },
  "language_info": {
   "codemirror_mode": {
    "name": "ipython",
    "version": 3
   },
   "file_extension": ".py",
   "mimetype": "text/x-python",
   "name": "python",
   "nbconvert_exporter": "python",
   "pygments_lexer": "ipython3",
   "version": "3.6.5"
  }
 },
 "nbformat": 4,
 "nbformat_minor": 2
}
