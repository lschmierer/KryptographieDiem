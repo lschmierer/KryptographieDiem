{
 "cells": [
  {
   "cell_type": "code",
   "execution_count": 1,
   "metadata": {},
   "outputs": [
    {
     "name": "stdout",
     "output_type": "stream",
     "text": [
      "False\n",
      "False\n",
      "False\n",
      "False\n",
      "True\n",
      "False\n",
      "True\n"
     ]
    }
   ],
   "source": [
    "import project_path\n",
    "from tocas import Z, Polynomring, PolynomringElement, Restklassenring\n",
    "\n",
    "import ha.format_extension\n",
    "import ha.ganzzahl_extension\n",
    "import ha.polynom_extension\n",
    "import ha.restklassen_extension\n",
    "from ha.bruchzahlring import Q\n",
    "from ha.polynom_restklassenring import PolynomRestklassenring\n",
    "from ha.endlicher_koerper import EndlicherKoerper\n",
    "\n",
    "KX = Polynomring(Z)\n",
    "R = Restklassenring(6)\n",
    "F = Restklassenring(7)\n",
    "\n",
    "f = PolynomringElement([1, 0, 1], KX)\n",
    "RX_f = PolynomRestklassenring(f)\n",
    "\n",
    "FX = Polynomring(F)\n",
    "g = PolynomringElement([1, 0, 1], FX)\n",
    "FX_g = PolynomRestklassenring(g)\n",
    "\n",
    "print(Z.ist_endlicher_koerper())\n",
    "print(KX.ist_endlicher_koerper())\n",
    "print(Q.ist_endlicher_koerper())\n",
    "print(R.ist_endlicher_koerper())\n",
    "print(F.ist_endlicher_koerper())\n",
    "print(RX_f.ist_endlicher_koerper())\n",
    "print(FX_g.ist_endlicher_koerper())"
   ]
  },
  {
   "cell_type": "code",
   "execution_count": 2,
   "metadata": {},
   "outputs": [
    {
     "name": "stdout",
     "output_type": "stream",
     "text": [
      "[ℤ/3ℤ][x]/([2] + [1]*x + [1]*x^4)\n",
      "[ℤ/3ℤ][x]/([2] + [1]*x + [1]*x^4)\n",
      "[ℤ/7ℤ][x]/([6] + [6]*x + [1]*x^2)\n"
     ]
    }
   ],
   "source": [
    "print(EndlicherKoerper(3, 4))\n",
    "print(EndlicherKoerper(81))\n",
    "print(EndlicherKoerper(F,2))\n"
   ]
  },
  {
   "cell_type": "code",
   "execution_count": 3,
   "metadata": {},
   "outputs": [
    {
     "ename": "TypeError",
     "evalue": "Erstes Argument muss ein endlicher Körper sein",
     "output_type": "error",
     "traceback": [
      "\u001b[0;31m---------------------------------------------------------------------------\u001b[0m",
      "\u001b[0;31mTypeError\u001b[0m                                 Traceback (most recent call last)",
      "\u001b[0;32m<ipython-input-3-3682fa215ba8>\u001b[0m in \u001b[0;36m<module>\u001b[0;34m()\u001b[0m\n\u001b[1;32m      1\u001b[0m \u001b[0;34m'''Dies sollte eine Fehlermeldung auswerfen!'''\u001b[0m\u001b[0;34m\u001b[0m\u001b[0m\n\u001b[0;32m----> 2\u001b[0;31m \u001b[0mprint\u001b[0m\u001b[0;34m(\u001b[0m\u001b[0mEndlicherKoerper\u001b[0m\u001b[0;34m(\u001b[0m\u001b[0mR\u001b[0m\u001b[0;34m,\u001b[0m\u001b[0;36m2\u001b[0m\u001b[0;34m)\u001b[0m\u001b[0;34m)\u001b[0m\u001b[0;34m\u001b[0m\u001b[0m\n\u001b[0m",
      "\u001b[0;32m~/Documents/Krypto/ha/endlicher_koerper.py\u001b[0m in \u001b[0;36mEndlicherKoerper\u001b[0;34m(p, n, variablenname, prime_test)\u001b[0m\n\u001b[1;32m     17\u001b[0m         \u001b[0;32melse\u001b[0m\u001b[0;34m:\u001b[0m\u001b[0;34m\u001b[0m\u001b[0m\n\u001b[1;32m     18\u001b[0m             raise TypeError(\n\u001b[0;32m---> 19\u001b[0;31m                 'Erstes Argument muss ein endlicher Körper sein')\n\u001b[0m\u001b[1;32m     20\u001b[0m     \u001b[0;32melse\u001b[0m\u001b[0;34m:\u001b[0m\u001b[0;34m\u001b[0m\u001b[0m\n\u001b[1;32m     21\u001b[0m         \u001b[0;32mif\u001b[0m \u001b[0;32mnot\u001b[0m \u001b[0mn\u001b[0m\u001b[0;34m:\u001b[0m\u001b[0;34m\u001b[0m\u001b[0m\n",
      "\u001b[0;31mTypeError\u001b[0m: Erstes Argument muss ein endlicher Körper sein"
     ]
    }
   ],
   "source": [
    "'''Dies sollte eine Fehlermeldung auswerfen!'''\n",
    "print(EndlicherKoerper(R,2))"
   ]
  },
  {
   "cell_type": "code",
   "execution_count": null,
   "metadata": {},
   "outputs": [],
   "source": []
  }
 ],
 "metadata": {
  "kernelspec": {
   "display_name": "Python 3",
   "language": "python",
   "name": "python3"
  },
  "language_info": {
   "codemirror_mode": {
    "name": "ipython",
    "version": 3
   },
   "file_extension": ".py",
   "mimetype": "text/x-python",
   "name": "python",
   "nbconvert_exporter": "python",
   "pygments_lexer": "ipython3",
   "version": "3.6.5"
  }
 },
 "nbformat": 4,
 "nbformat_minor": 2
}
