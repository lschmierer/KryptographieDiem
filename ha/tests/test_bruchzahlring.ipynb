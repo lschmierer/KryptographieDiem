{
 "cells": [
  {
   "cell_type": "code",
   "execution_count": 1,
   "metadata": {},
   "outputs": [
    {
     "name": "stdout",
     "output_type": "stream",
     "text": [
      "1/3 in Q\n"
     ]
    }
   ],
   "source": [
    "import project_path\n",
    "from ha.bruchzahlring import BruchzahlringElement, Q\n",
    "\n",
    "print(BruchzahlringElement(1, 3))"
   ]
  },
  {
   "cell_type": "code",
   "execution_count": 2,
   "metadata": {},
   "outputs": [
    {
     "name": "stdout",
     "output_type": "stream",
     "text": [
      "1/3 in Q\n"
     ]
    }
   ],
   "source": [
    "from ha.bruchzahlring import BruchzahlringElement, Q\n",
    "\n",
    "print(BruchzahlringElement(1, 3))"
   ]
  },
  {
   "cell_type": "code",
   "execution_count": 3,
   "metadata": {},
   "outputs": [
    {
     "name": "stdout",
     "output_type": "stream",
     "text": [
      "1/1 in Q\n",
      "7/3 in Q\n"
     ]
    }
   ],
   "source": [
    "print(3 * BruchzahlringElement(1, 3))\n",
    "print(7 * BruchzahlringElement(1, 3))"
   ]
  },
  {
   "cell_type": "code",
   "execution_count": 4,
   "metadata": {},
   "outputs": [
    {
     "name": "stdout",
     "output_type": "stream",
     "text": [
      "1/9 in Q\n",
      "13/12 in Q\n"
     ]
    }
   ],
   "source": [
    "print(BruchzahlringElement(1, 3) * BruchzahlringElement(1, 3))\n",
    "print(BruchzahlringElement(3, 4) + BruchzahlringElement(1, 3))"
   ]
  },
  {
   "cell_type": "code",
   "execution_count": 5,
   "metadata": {},
   "outputs": [
    {
     "name": "stdout",
     "output_type": "stream",
     "text": [
      "4/3 in Q\n",
      "-3/4 in Q\n",
      "3/4 in Q\n",
      "3/4 in Q\n",
      "-3/4 in Q\n"
     ]
    }
   ],
   "source": [
    "print(BruchzahlringElement(3, 4).invers())\n",
    "print(-BruchzahlringElement(3, 4))\n",
    "print(-BruchzahlringElement(-3, 4))\n",
    "print(-BruchzahlringElement(3, -4))\n",
    "print(-BruchzahlringElement(-3, -4))"
   ]
  },
  {
   "cell_type": "code",
   "execution_count": 6,
   "metadata": {},
   "outputs": [
    {
     "name": "stdout",
     "output_type": "stream",
     "text": [
      "1/3 in Q\n",
      "3/1 in Q\n"
     ]
    }
   ],
   "source": [
    "print(Q.element(1, 3))\n",
    "print(Q.element(3))\n"
   ]
  },
  {
   "cell_type": "code",
   "execution_count": null,
   "metadata": {},
   "outputs": [],
   "source": []
  }
 ],
 "metadata": {
  "kernelspec": {
   "display_name": "Python 3",
   "language": "python",
   "name": "python3"
  },
  "language_info": {
   "codemirror_mode": {
    "name": "ipython",
    "version": 3
   },
   "file_extension": ".py",
   "mimetype": "text/x-python",
   "name": "python",
   "nbconvert_exporter": "python",
   "pygments_lexer": "ipython3",
   "version": "3.6.5"
  }
 },
 "nbformat": 4,
 "nbformat_minor": 2
}
