{
 "cells": [
  {
   "cell_type": "code",
   "execution_count": 1,
   "metadata": {},
   "outputs": [
    {
     "name": "stdout",
     "output_type": "stream",
     "text": [
      "True\n",
      "True\n",
      "False\n",
      "False\n"
     ]
    }
   ],
   "source": [
    "from tocas import Restklassenring, Polynomring, PolynomringElement\n",
    "\n",
    "import format_extension\n",
    "import polynom_extension\n",
    "\n",
    "Z_2 = Restklassenring(2)\n",
    "Z_2X = Polynomring(Z_2)\n",
    "print(PolynomringElement([1], Z_2X).irreduzibel())\n",
    "print(PolynomringElement([0, 1], Z_2X).irreduzibel())\n",
    "print(PolynomringElement([1, 0, 1, 1], Z_2X).irreduzibel())\n",
    "print(PolynomringElement([1, 0, 1], Z_2X).irreduzibel())"
   ]
  },
  {
   "cell_type": "code",
   "execution_count": 2,
   "metadata": {},
   "outputs": [
    {
     "name": "stdout",
     "output_type": "stream",
     "text": [
      "True\n"
     ]
    }
   ],
   "source": [
    "Z_3 = Restklassenring(3)\n",
    "Z_3X = Polynomring(Z_3)\n",
    "print(PolynomringElement([1, 0, 2, 2], Z_2X).irreduzibel())"
   ]
  },
  {
   "cell_type": "code",
   "execution_count": null,
   "metadata": {},
   "outputs": [],
   "source": []
  }
 ],
 "metadata": {
  "kernelspec": {
   "display_name": "Python 3",
   "language": "python",
   "name": "python3"
  },
  "language_info": {
   "codemirror_mode": {
    "name": "ipython",
    "version": 3
   },
   "file_extension": ".py",
   "mimetype": "text/x-python",
   "name": "python",
   "nbconvert_exporter": "python",
   "pygments_lexer": "ipython3",
   "version": "3.6.5"
  }
 },
 "nbformat": 4,
 "nbformat_minor": 2
}
