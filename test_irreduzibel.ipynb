{
 "cells": [
  {
   "cell_type": "code",
   "execution_count": 1,
   "metadata": {
    "scrolled": true
   },

   "outputs": [
    {
     "name": "stdout",
     "output_type": "stream",
     "text": [
      "False\n",
      "True\n",
      "True\n",
      "False\n",
      "False\n",
      "False\n",
      "True\n",
      "False\n",
      "False\n",
      "False\n",
      "False\n",
      "False\n",
      "True\n",
      "True\n",

      "False\n"
     ]
    }
   ],
   "source": [
    "from tocas import Restklassenring, Polynomring, PolynomringElement\n",
    "\n",
    "import format_extension\n",
    "import polynom_extension\n",
    "\n",
    "Z_2 = Restklassenring(2)\n",
    "K_X = Polynomring(Z_2)\n",
    "\n",
    "'''http://mathworld.wolfram.com/IrreduciblePolynomial.html'''\n",
    "\n",
    "print(PolynomringElement([1], K_X).irreduzibel()) #False\n",
    "print(PolynomringElement([1, 1], K_X).irreduzibel()) #True\n",
    "print(PolynomringElement([0, 1], K_X).irreduzibel()) #True\n",
    "print(PolynomringElement([0, 0, 1], K_X).irreduzibel()) #False\n",
    "print(PolynomringElement([1, 0, 1], K_X).irreduzibel()) #False\n",
    "print(PolynomringElement([0, 1, 1], K_X).irreduzibel()) #False\n",
    "print(PolynomringElement([1, 1, 1], K_X).irreduzibel()) #True\n",
    "print(PolynomringElement([0, 0, 0, 1], K_X).irreduzibel()) #False\n",
    "print(PolynomringElement([0, 0, 1, 1], K_X).irreduzibel()) #False\n",
    "print(PolynomringElement([0, 1, 0, 1], K_X).irreduzibel()) #False\n",
    "print(PolynomringElement([0, 1, 1, 1], K_X).irreduzibel()) #False\n",
    "print(PolynomringElement([1, 0, 0, 1], K_X).irreduzibel()) #False\n",
    "print(PolynomringElement([1, 0, 1, 1], K_X).irreduzibel()) #True \n",
    "print(PolynomringElement([1, 1, 0, 1], K_X).irreduzibel()) #True\n",
    "print(PolynomringElement([1, 1, 1, 1], K_X).irreduzibel()) #False"

   ]
  },
  {
   "cell_type": "code",
   "execution_count": 2,
   "metadata": {},
   "outputs": [
    {
     "name": "stdout",
     "output_type": "stream",
     "text": [
      "False\n",
      "True\n",
      "True\n",
      "False\n",
      "True\n",
      "True\n",
      "True\n",
      "True\n",
      "False\n",
      "False\n",
      "False\n"
     ]
    }
   ],
   "source": [
    "Z_3 = Restklassenring(3)\n",
    "K3_X = Polynomring(Z_3)\n",
    "\n",
    "''' https://baylor-ir.tdl.org/baylor-ir/bitstream/handle/2104/8793/GF3%20Polynomials.pdf?sequence=1 '''\n",
    "''' Achtung. Primitiv -> irreduzibel aber nicht anders herum!'''\n",
    "\n",
    "print(PolynomringElement([1, 1, 1, 2, 1, 1, 1], K3_X).irreduzibel()) #False\n",
    "print(PolynomringElement([2, 2, 1], K3_X).irreduzibel()) #True\n",
    "print(PolynomringElement([2, 1, 1], K3_X).irreduzibel()) #True\n",
    "print(PolynomringElement([1, 1, 1], K3_X).irreduzibel()) #False\n",
    "print(PolynomringElement([1, 2, 0, 1], K3_X).irreduzibel()) #True \n",
    "print(PolynomringElement([1, 2, 1, 1], K3_X).irreduzibel()) #True\n",
    "print(PolynomringElement([1, 0, 2, 1], K3_X).irreduzibel()) #True\n",
    "print(PolynomringElement([1, 1, 2, 1], K3_X).irreduzibel()) #True\n",
    "print(PolynomringElement([1, 2, 2, 1], K3_X).irreduzibel()) #False\n",
    "print(PolynomringElement([1, 1, 1, 1], K3_X).irreduzibel()) #False\n",
    "print(PolynomringElement([2, 2, 1, 1], K3_X).irreduzibel()) #False"
   ]
  },
  {
   "cell_type": "code",
   "execution_count": 9,
   "metadata": {},
   "outputs": [
    {
     "name": "stdout",
     "output_type": "stream",
     "text": [
      "[2]_3 in [ℤ/3ℤ][x]\n"
     ]
    }
   ],
   "source": [
    "Z_3 = Restklassenring(3)\n",
    "K3_X = Polynomring(Z_3)\n",
    "\n",
    "g = Polynomring.GGT(PolynomringElement([1, 2, 1, 1], K3_X), PolynomringElement([2, 0, 2], K3_X))\n",
    "print(g)"
   ]
  },
  {
   "cell_type": "code",
   "execution_count": 3,
   "metadata": {
    "collapsed": true
   },
   "outputs": [
    {
     "name": "stdout",
     "output_type": "stream",
     "text": [
      "[2]_3 in [ℤ/3ℤ][x]\n",
      "([2]_3 in [ℤ/3ℤ][x], [1]_3 in [ℤ/3ℤ][x], [2]_3 + [1]_3*x + [2]_3*x^2 in [ℤ/3ℤ][x])\n"
     ]
    }
   ],
   "source": []
  },
  {
   "cell_type": "code",
   "execution_count": 10,
   "metadata": {
    "collapsed": true
   },
   "outputs": [
    {
     "data": {
      "text/plain": [
       "33"
      ]
     },
     "execution_count": 10,
     "metadata": {},
     "output_type": "execute_result"
    }
   ],
   "source": []
  },
  {
   "cell_type": "code",
   "execution_count": 7,
   "metadata": {
    "collapsed": true
   },
   "outputs": [
    {
     "name": "stdout",
     "output_type": "stream",
     "text": [
      "False\n",
      "True\n"
     ]
    }
   ],
   "source": []
  },
  {
   "cell_type": "code",
   "execution_count": 6,
   "metadata": {
    "collapsed": true
   },
   "outputs": [
    {
     "ename": "NameError",
     "evalue": "name 'K2_X' is not defined",
     "output_type": "error",
     "traceback": [
      "\u001b[0;31m---------------------------------------------------------------------------\u001b[0m",
      "\u001b[0;31mNameError\u001b[0m                                 Traceback (most recent call last)",
      "\u001b[0;32m<ipython-input-6-52064515b1ff>\u001b[0m in \u001b[0;36m<module>\u001b[0;34m()\u001b[0m\n\u001b[0;32m----> 1\u001b[0;31m \u001b[0mprint\u001b[0m\u001b[0;34m(\u001b[0m\u001b[0mPolynomringElement\u001b[0m\u001b[0;34m(\u001b[0m\u001b[0;34m[\u001b[0m\u001b[0;36m2\u001b[0m\u001b[0;34m,\u001b[0m \u001b[0;36m1\u001b[0m\u001b[0;34m,\u001b[0m \u001b[0;36m1\u001b[0m\u001b[0;34m]\u001b[0m\u001b[0;34m,\u001b[0m \u001b[0mK2_X\u001b[0m\u001b[0;34m)\u001b[0m\u001b[0;34m.\u001b[0m\u001b[0mirreduzibel\u001b[0m\u001b[0;34m(\u001b[0m\u001b[0;34m)\u001b[0m\u001b[0;34m)\u001b[0m\u001b[0;34m\u001b[0m\u001b[0m\n\u001b[0m",
      "\u001b[0;31mNameError\u001b[0m: name 'K2_X' is not defined"
     ]
    }
   ],
   "source": []
  },
  {
   "cell_type": "code",
   "execution_count": 3,
   "metadata": {
    "collapsed": true
   },
   "outputs": [
    {
     "name": "stdout",
     "output_type": "stream",
     "text": [
      "([2]_3 in [ℤ/3ℤ][x], [1]_3 in [ℤ/3ℤ][x], [2]_3 + [1]_3*x + [2]_3*x^2 in [ℤ/3ℤ][x])\n"
     ]
    }
   ],
   "source": []
  },
  {
   "cell_type": "code",
   "execution_count": null,
   "metadata": {},
   "outputs": [],
   "source": []
  }
 ],
 "metadata": {
  "kernelspec": {
   "display_name": "Python 3",
   "language": "python",
   "name": "python3"
  },
  "language_info": {
   "codemirror_mode": {
    "name": "ipython",
    "version": 3
   },
   "file_extension": ".py",
   "mimetype": "text/x-python",
   "name": "python",
   "nbconvert_exporter": "python",
   "pygments_lexer": "ipython3",
   "version": "3.6.5"
  }
 },
 "nbformat": 4,
 "nbformat_minor": 2
}
