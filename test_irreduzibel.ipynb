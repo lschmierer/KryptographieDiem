{
 "cells": [
  {
   "cell_type": "code",
   "execution_count": 3,
   "metadata": {},
   "outputs": [
    {
     "name": "stdout",
     "output_type": "stream",
     "text": [
      "[1]_2*x in [ℤ/2ℤ][x]\n",
      "[1]_2*x^2 in [ℤ/2ℤ][x]\n",
      "[1]_2*x in [ℤ/2ℤ][x]\n",
      "[0]_2 in [ℤ/2ℤ][x]\n",
      "[0]_2 in [ℤ/2ℤ][x]\n",
      "True\n",
      "[1]_2*x in [ℤ/2ℤ][x]\n",
      "[1]_2*x^2 in [ℤ/2ℤ][x]\n",
      "[1]_2*x^2 in [ℤ/2ℤ][x]\n",
      "[0]_2 in [ℤ/2ℤ][x]\n",
      "[0]_2 in [ℤ/2ℤ][x]\n",
      "True\n",
      "[1]_2*x in [ℤ/2ℤ][x]\n",
      "[1]_2*x^2 in [ℤ/2ℤ][x]\n",
      "[1]_2*x^8 in [ℤ/2ℤ][x]\n",
      "[1]_2*x in [ℤ/2ℤ][x]\n",
      "[0]_2 in [ℤ/2ℤ][x]\n",
      "True\n",
      "[1]_2*x in [ℤ/2ℤ][x]\n",
      "[1]_2*x^2 in [ℤ/2ℤ][x]\n",
      "[1]_2*x^4 in [ℤ/2ℤ][x]\n",
      "[1]_2*x in [ℤ/2ℤ][x]\n",
      "[1]_2 + [1]_2*x in [ℤ/2ℤ][x]\n",
      "False\n"
     ]
    }
   ],
   "source": [
    "from tocas import Restklassenring, Polynomring, PolynomringElement\n",
    "\n",
    "import format_extension\n",
    "import polynom_extension\n",
    "\n",
    "Z_2 = Restklassenring(2)\n",
    "K_X = Polynomring(Z_2)\n",
    "print(PolynomringElement([1], K_X).irreduzibel())\n",
    "print(PolynomringElement([0, 1], K_X).irreduzibel())\n",
    "print(PolynomringElement([1, 0, 1, 1], K_X).irreduzibel())\n",
    "print(PolynomringElement([1, 0, 1], K_X).irreduzibel())"
   ]
  },
  {
   "cell_type": "code",
   "execution_count": null,
   "metadata": {},
   "outputs": [],
   "source": []
  }
 ],
 "metadata": {
  "kernelspec": {
   "display_name": "Python 3",
   "language": "python",
   "name": "python3"
  },
  "language_info": {
   "codemirror_mode": {
    "name": "ipython",
    "version": 3
   },
   "file_extension": ".py",
   "mimetype": "text/x-python",
   "name": "python",
   "nbconvert_exporter": "python",
   "pygments_lexer": "ipython3",
   "version": "3.6.5"
  }
 },
 "nbformat": 4,
 "nbformat_minor": 2
}
