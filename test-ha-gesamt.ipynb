{
 "cells": [
  {
   "cell_type": "markdown",
   "metadata": {},
   "source": [
    "Der große Test\n",
    "\n",
    "Dieser Test ist für alle Hausaufgaben. Jede Implementierung sollte diesen Text \"bestehen\".\n"
   ]
  },
  {
   "cell_type": "code",
   "execution_count": 1,
   "metadata": {},
   "outputs": [],
   "source": [
    "from tocas import *\n",
    "\n",
    "import format_extension\n",
    "import polynom_extension\n",
    "import restklassen_extension\n",
    "from bruchzahlring import *\n",
    "from polynom_restklassenring import *\n",
    "from endlicher_koerper import *\n",
    "import prime\n",
    "\n",
    "AKS = prime.aks\n",
    "IstPrim = prime.miller_rabin\n"
   ]
  },
  {
   "cell_type": "code",
   "execution_count": 2,
   "metadata": {},
   "outputs": [],
   "source": [
    "#Q\n",
    "Q = Bruchzahlring()"
   ]
  },
  {
   "cell_type": "code",
   "execution_count": 3,
   "metadata": {},
   "outputs": [
    {
     "data": {
      "text/plain": [
       "Q"
      ]
     },
     "execution_count": 3,
     "metadata": {},
     "output_type": "execute_result"
    }
   ],
   "source": [
    "Q"
   ]
  },
  {
   "cell_type": "code",
   "execution_count": 4,
   "metadata": {},
   "outputs": [
    {
     "data": {
      "text/plain": [
       "(True, False)"
      ]
     },
     "execution_count": 4,
     "metadata": {},
     "output_type": "execute_result"
    }
   ],
   "source": [
    "QQ = Bruchzahlring()\n",
    "Q == QQ, Q == Z"
   ]
  },
  {
   "cell_type": "code",
   "execution_count": 5,
   "metadata": {},
   "outputs": [
    {
     "data": {
      "text/plain": [
       "1/2 in Q"
      ]
     },
     "execution_count": 5,
     "metadata": {},
     "output_type": "execute_result"
    }
   ],
   "source": [
    "BruchzahlringElement(1,2,Q)"
   ]
  },
  {
   "cell_type": "code",
   "execution_count": 6,
   "metadata": {},
   "outputs": [
    {
     "data": {
      "text/plain": [
       "(2/1 in Q, 2/1 in Q, 1/2 in Q, 3/2 in Q, 5/2 in Q)"
      ]
     },
     "execution_count": 6,
     "metadata": {},
     "output_type": "execute_result"
    }
   ],
   "source": [
    "2*Q.eins, Q.eins*2, Q.eins/2, 3*Q.eins/2, 3*Q.eins/2 +1"
   ]
  },
  {
   "cell_type": "code",
   "execution_count": 7,
   "metadata": {},
   "outputs": [],
   "source": [
    "a = 5*Q.eins/3"
   ]
  },
  {
   "cell_type": "code",
   "execution_count": 8,
   "metadata": {},
   "outputs": [
    {
     "data": {
      "text/plain": [
       "3/5 in Q"
      ]
     },
     "execution_count": 8,
     "metadata": {},
     "output_type": "execute_result"
    }
   ],
   "source": [
    "a ** -1"
   ]
  },
  {
   "cell_type": "code",
   "execution_count": 9,
   "metadata": {},
   "outputs": [
    {
     "data": {
      "text/plain": [
       "1/1 in Q"
      ]
     },
     "execution_count": 9,
     "metadata": {},
     "output_type": "execute_result"
    }
   ],
   "source": [
    "a/a"
   ]
  },
  {
   "cell_type": "code",
   "execution_count": 10,
   "metadata": {},
   "outputs": [
    {
     "data": {
      "text/plain": [
       "Q[x]"
      ]
     },
     "execution_count": 10,
     "metadata": {},
     "output_type": "execute_result"
    }
   ],
   "source": [
    "# Q[x]\n",
    "P = Polynomring(Q)\n",
    "P"
   ]
  },
  {
   "cell_type": "code",
   "execution_count": 11,
   "metadata": {},
   "outputs": [
    {
     "data": {
      "text/plain": [
       "(1/1) + (1/1)*x^3 in Q[x]"
      ]
     },
     "execution_count": 11,
     "metadata": {},
     "output_type": "execute_result"
    }
   ],
   "source": [
    "f = P.variable ** 3 + P.eins\n",
    "f"
   ]
  },
  {
   "cell_type": "code",
   "execution_count": 12,
   "metadata": {},
   "outputs": [
    {
     "data": {
      "text/plain": [
       "True"
      ]
     },
     "execution_count": 12,
     "metadata": {},
     "output_type": "execute_result"
    }
   ],
   "source": [
    "g = P.variable ** 3 + Q.eins\n",
    "f == g"
   ]
  },
  {
   "cell_type": "code",
   "execution_count": 13,
   "metadata": {},
   "outputs": [
    {
     "data": {
      "text/plain": [
       "(1/1)*x in Q[x]/((1/1) + (1/1)*x^3)"
      ]
     },
     "execution_count": 13,
     "metadata": {},
     "output_type": "execute_result"
    }
   ],
   "source": [
    "# Q[x]/(x^3 + 1)\n",
    "PR = PolynomRestklassenring(f)\n",
    "a = PR.erzeuger\n",
    "a"
   ]
  },
  {
   "cell_type": "code",
   "execution_count": 14,
   "metadata": {},
   "outputs": [
    {
     "data": {
      "text/plain": [
       "True"
      ]
     },
     "execution_count": 14,
     "metadata": {},
     "output_type": "execute_result"
    }
   ],
   "source": [
    "a == PR.element(P.variable)"
   ]
  },
  {
   "cell_type": "code",
   "execution_count": 15,
   "metadata": {},
   "outputs": [
    {
     "data": {
      "text/plain": [
       "(1/1)*x in Q[x]/((1/1) + (1/1)*x^3)"
      ]
     },
     "execution_count": 15,
     "metadata": {},
     "output_type": "execute_result"
    }
   ],
   "source": [
    "a"
   ]
  },
  {
   "cell_type": "code",
   "execution_count": 16,
   "metadata": {},
   "outputs": [
    {
     "data": {
      "text/plain": [
       "0/1 in Q[x]/((1/1) + (1/1)*x^3)"
      ]
     },
     "execution_count": 16,
     "metadata": {},
     "output_type": "execute_result"
    }
   ],
   "source": [
    "a ** 3 + a**0"
   ]
  },
  {
   "cell_type": "markdown",
   "metadata": {},
   "source": [
    "Das obige ist genau f(a), und dies ist Null. Alternativ kann man auch f in den Restklassenring abbilden:"
   ]
  },
  {
   "cell_type": "code",
   "execution_count": 17,
   "metadata": {},
   "outputs": [
    {
     "data": {
      "text/plain": [
       "0/1 in Q[x]/((1/1) + (1/1)*x^3)"
      ]
     },
     "execution_count": 17,
     "metadata": {},
     "output_type": "execute_result"
    }
   ],
   "source": [
    "PR.element(f)"
   ]
  },
  {
   "cell_type": "code",
   "execution_count": 18,
   "metadata": {},
   "outputs": [
    {
     "data": {
      "text/plain": [
       "(-1/1)*x^2 in Q[x]/((1/1) + (1/1)*x^3)"
      ]
     },
     "execution_count": 18,
     "metadata": {},
     "output_type": "execute_result"
    }
   ],
   "source": [
    "b=a.invers()\n",
    "b"
   ]
  },
  {
   "cell_type": "code",
   "execution_count": 19,
   "metadata": {},
   "outputs": [
    {
     "data": {
      "text/plain": [
       "(1/1) in Q[x]/((1/1) + (1/1)*x^3)"
      ]
     },
     "execution_count": 19,
     "metadata": {},
     "output_type": "execute_result"
    }
   ],
   "source": [
    "a*b"
   ]
  },
  {
   "cell_type": "markdown",
   "metadata": {},
   "source": [
    "Dies ist die 1 in diesem Ring, also stimmt's."
   ]
  },
  {
   "cell_type": "code",
   "execution_count": 20,
   "metadata": {},
   "outputs": [],
   "source": [
    "# F_1009[x]/(x^10 +1)\n",
    "R = Restklassenring(1009)\n",
    "P = Polynomring(R)\n",
    "f = P.variable ** 5 + R.eins\n",
    "PR = PolynomRestklassenring(f)"
   ]
  },
  {
   "cell_type": "code",
   "execution_count": 21,
   "metadata": {},
   "outputs": [
    {
     "data": {
      "text/plain": [
       "[1]*x in [ℤ/1009ℤ][x]/([1] + [1]*x^5)"
      ]
     },
     "execution_count": 21,
     "metadata": {},
     "output_type": "execute_result"
    }
   ],
   "source": [
    "PR.erzeuger"
   ]
  },
  {
   "cell_type": "code",
   "execution_count": 22,
   "metadata": {},
   "outputs": [
    {
     "data": {
      "text/plain": [
       "([354] + [923]*x + [724]*x^2 + [719]*x^3 + [594]*x^4 in [ℤ/1009ℤ][x]/([1] + [1]*x^5),\n",
       " [897] + [549]*x + [875]*x^2 + [399]*x^3 + [916]*x^4 in [ℤ/1009ℤ][x]/([1] + [1]*x^5))"
      ]
     },
     "execution_count": 22,
     "metadata": {},
     "output_type": "execute_result"
    }
   ],
   "source": [
    "a = PR.random()\n",
    "b = PR.random()\n",
    "a,b"
   ]
  },
  {
   "cell_type": "code",
   "execution_count": 23,
   "metadata": {},
   "outputs": [
    {
     "data": {
      "text/plain": [
       "[242] + [463]*x + [590]*x^2 + [109]*x^3 + [501]*x^4 in [ℤ/1009ℤ][x]/([1] + [1]*x^5)"
      ]
     },
     "execution_count": 23,
     "metadata": {},
     "output_type": "execute_result"
    }
   ],
   "source": [
    "a + b"
   ]
  },
  {
   "cell_type": "code",
   "execution_count": 24,
   "metadata": {},
   "outputs": [
    {
     "data": {
      "text/plain": [
       "[635] + [873]*x + [804]*x^2 + [409]*x^3 + [743]*x^4 in [ℤ/1009ℤ][x]/([1] + [1]*x^5)"
      ]
     },
     "execution_count": 24,
     "metadata": {},
     "output_type": "execute_result"
    }
   ],
   "source": [
    "a**2"
   ]
  },
  {
   "cell_type": "code",
   "execution_count": 25,
   "metadata": {},
   "outputs": [
    {
     "data": {
      "text/plain": [
       "[359] + [385]*x + [677]*x^2 + [264]*x^3 + [992]*x^4 in [ℤ/1009ℤ][x]/([1] + [1]*x^5)"
      ]
     },
     "execution_count": 25,
     "metadata": {},
     "output_type": "execute_result"
    }
   ],
   "source": [
    "a ** -1"
   ]
  },
  {
   "cell_type": "code",
   "execution_count": 26,
   "metadata": {},
   "outputs": [
    {
     "data": {
      "text/plain": [
       "[1]*x in [ℤ/1009ℤ][x]/([1] + [1]*x^5)"
      ]
     },
     "execution_count": 26,
     "metadata": {},
     "output_type": "execute_result"
    }
   ],
   "source": [
    "PR.erzeuger"
   ]
  },
  {
   "cell_type": "code",
   "execution_count": 27,
   "metadata": {},
   "outputs": [
    {
     "data": {
      "text/plain": [
       "[0] in [ℤ/1009ℤ][x]/([1] + [1]*x^5)"
      ]
     },
     "execution_count": 27,
     "metadata": {},
     "output_type": "execute_result"
    }
   ],
   "source": [
    "PR.erzeuger ** 5 + PR.eins"
   ]
  },
  {
   "cell_type": "markdown",
   "metadata": {},
   "source": [
    "Sollte [0] sein."
   ]
  },
  {
   "cell_type": "code",
   "execution_count": 28,
   "metadata": {},
   "outputs": [
    {
     "data": {
      "text/plain": [
       "[354] + [923]*x + [724]*x^2 + [719]*x^3 + [594]*x^4 + [1]*y + [1]*y^3 in [[ℤ/1009ℤ][x]/([1] + [1]*x^5)][y]"
      ]
     },
     "execution_count": 28,
     "metadata": {},
     "output_type": "execute_result"
    }
   ],
   "source": [
    "# (F_1009[x]/(x^10 +1))[y]/(f)\n",
    "# (Erweiterung eines Erweiterungskörpers)\n",
    "P2 = Polynomring(PR,\"y\")\n",
    "f = P2.variable**3 + P2.variable + a\n",
    "# Das a am Ende ist kein Schreibfehler. Man kann dafür auch a*P.eins\n",
    "# schreiben.\n",
    "f"
   ]
  },
  {
   "cell_type": "code",
   "execution_count": 29,
   "metadata": {},
   "outputs": [
    {
     "data": {
      "text/plain": [
       "[[ℤ/1009ℤ][x]/([1] + [1]*x^5)][y]/([354] + [923]*x + [724]*x^2 + [719]*x^3 + [594]*x^4 + [1]*y + [1]*y^3)"
      ]
     },
     "execution_count": 29,
     "metadata": {},
     "output_type": "execute_result"
    }
   ],
   "source": [
    "PR2 = PolynomRestklassenring(f)\n",
    "PR2"
   ]
  },
  {
   "cell_type": "code",
   "execution_count": 30,
   "metadata": {},
   "outputs": [
    {
     "data": {
      "text/plain": [
       "[918] + [64]*x + [752]*x^2 + [18]*x^3 + [1001]*x^4 + [778] + [436]*x + [691]*x^2 + [420]*x^3 + [314]*x^4*y + [429] + [997]*x + [160]*x^2 + [75]*x^3 + [685]*x^4*y^2 in [[ℤ/1009ℤ][x]/([1] + [1]*x^5)][y]/([354] + [923]*x + [724]*x^2 + [719]*x^3 + [594]*x^4 + [1]*y + [1]*y^3)"
      ]
     },
     "execution_count": 30,
     "metadata": {},
     "output_type": "execute_result"
    }
   ],
   "source": [
    "c= PR2.random()\n",
    "c"
   ]
  },
  {
   "cell_type": "code",
   "execution_count": 31,
   "metadata": {},
   "outputs": [
    {
     "data": {
      "text/plain": [
       "[847] + [427]*x + [385]*x^2 + [152]*x^3 + [465]*x^4 + [307] + [691]*x + [32]*x^2 + [103]*x^3 + [276]*x^4*y + [381] + [890]*x + [62]*x^2 + [274]*x^3 + [570]*x^4*y^2 in [[ℤ/1009ℤ][x]/([1] + [1]*x^5)][y]/([354] + [923]*x + [724]*x^2 + [719]*x^3 + [594]*x^4 + [1]*y + [1]*y^3)"
      ]
     },
     "execution_count": 31,
     "metadata": {},
     "output_type": "execute_result"
    }
   ],
   "source": [
    "c ** 2"
   ]
  },
  {
   "cell_type": "code",
   "execution_count": 32,
   "metadata": {},
   "outputs": [
    {
     "data": {
      "text/plain": [
       "True"
      ]
     },
     "execution_count": 32,
     "metadata": {},
     "output_type": "execute_result"
    }
   ],
   "source": [
    "(c + 5*PR.erzeuger) - 5*PR.erzeuger == c"
   ]
  },
  {
   "cell_type": "code",
   "execution_count": 33,
   "metadata": {},
   "outputs": [
    {
     "data": {
      "text/plain": [
       "[831] + [915]*x + [455]*x^2 + [413]*x^3 + [906]*x^4 + [146] + [420]*x + [679]*x^2 + [865]*x^3 + [619]*x^4*y + [1008] + [163]*x + [621]*x^2 + [27]*x^3 + [248]*x^4*y^2 in [[ℤ/1009ℤ][x]/([1] + [1]*x^5)][y]/([354] + [923]*x + [724]*x^2 + [719]*x^3 + [594]*x^4 + [1]*y + [1]*y^3)"
      ]
     },
     "execution_count": 33,
     "metadata": {},
     "output_type": "execute_result"
    }
   ],
   "source": [
    "d = c ** -1\n",
    "d"
   ]
  },
  {
   "cell_type": "code",
   "execution_count": 34,
   "metadata": {},
   "outputs": [
    {
     "data": {
      "text/plain": [
       "True"
      ]
     },
     "execution_count": 34,
     "metadata": {},
     "output_type": "execute_result"
    }
   ],
   "source": [
    "c*d == PR2.eins"
   ]
  },
  {
   "cell_type": "markdown",
   "metadata": {},
   "source": [
    "So, das war's ...\n",
    "\n",
    "Und jetzt kommt der Test für Hausaufgabe 3.\n",
    "\n",
    "Natürlich müssen wieder gegebenenfalls Aufrufe angepasst werden."
   ]
  },
  {
   "cell_type": "code",
   "execution_count": 2,
   "metadata": {},
   "outputs": [],
   "source": [
    "i = 10 ** 10\n",
    "while not IstPrim(i):\n",
    "    i += 1\n"
   ]
  },
  {
   "cell_type": "code",
   "execution_count": 3,
   "metadata": {},
   "outputs": [
    {
     "name": "stdout",
     "output_type": "stream",
     "text": [
      "10000000019\n"
     ]
    }
   ],
   "source": [
    "print(i)\n"
   ]
  },
  {
   "cell_type": "markdown",
   "metadata": {},
   "source": [
    "Haben Sie die richtige Zahl, also 10000000019? Ich teste das für Sie."
   ]
  },
  {
   "cell_type": "code",
   "execution_count": 4,
   "metadata": {},
   "outputs": [
    {
     "data": {
      "text/plain": [
       "True"
      ]
     },
     "execution_count": 4,
     "metadata": {},
     "output_type": "execute_result"
    }
   ],
   "source": [
    "i == 10000000019"
   ]
  },
  {
   "cell_type": "markdown",
   "metadata": {},
   "source": [
    "Das AKS-Test ist sehr langsam. Mal schaun, wie weit Sie kommen:"
   ]
  },
  {
   "cell_type": "code",
   "execution_count": 5,
   "metadata": {},
   "outputs": [
    {
     "data": {
      "text/plain": [
       "True"
      ]
     },
     "execution_count": 5,
     "metadata": {},
     "output_type": "execute_result"
    }
   ],
   "source": [
    "AKS(31)"
   ]
  },
  {
   "cell_type": "code",
   "execution_count": 6,
   "metadata": {},
   "outputs": [
    {
     "data": {
      "text/plain": [
       "True"
      ]
     },
     "execution_count": 6,
     "metadata": {},
     "output_type": "execute_result"
    }
   ],
   "source": [
    "AKS(101)"
   ]
  },
  {
   "cell_type": "markdown",
   "metadata": {},
   "source": [
    "Das könnte im Minutenbereich dauern. Für Nicht-Primzahlen geht es aber deutlich schneller, z.B.:"
   ]
  },
  {
   "cell_type": "code",
   "execution_count": 7,
   "metadata": {},
   "outputs": [
    {
     "data": {
      "text/plain": [
       "False"
      ]
     },
     "execution_count": 7,
     "metadata": {},
     "output_type": "execute_result"
    }
   ],
   "source": [
    "AKS(13*17)"
   ]
  },
  {
   "cell_type": "markdown",
   "metadata": {},
   "source": [
    "Das geht bei mir instantan."
   ]
  },
  {
   "cell_type": "markdown",
   "metadata": {},
   "source": [
    "Den Irreduzibilitätstest testen wir anhand der Konstruktion endlicher Körper:"
   ]
  },
  {
   "cell_type": "code",
   "execution_count": 2,
   "metadata": {},
   "outputs": [
    {
     "data": {
      "text/plain": [
       "[ℤ/2ℤ][x]/([1] + [1]*x + [1]*x^2)"
      ]
     },
     "execution_count": 2,
     "metadata": {},
     "output_type": "execute_result"
    }
   ],
   "source": [
    "EndlicherKoerper(4)"
   ]
  },
  {
   "cell_type": "markdown",
   "metadata": {},
   "source": [
    "Diese Antwort ist eindeutig, denn x^2 + x + 1 ist das einzige irreduzible Polynom von Grad 2 über F_2."
   ]
  },
  {
   "cell_type": "code",
   "execution_count": 3,
   "metadata": {},
   "outputs": [
    {
     "data": {
      "text/plain": [
       "ℤ/1009ℤ"
      ]
     },
     "execution_count": 3,
     "metadata": {},
     "output_type": "execute_result"
    }
   ],
   "source": [
    "EndlicherKoerper(1009)"
   ]
  },
  {
   "cell_type": "code",
   "execution_count": 4,
   "metadata": {},
   "outputs": [
    {
     "data": {
      "text/plain": [
       "[ℤ/1009ℤ][x]/([838] + [659]*x + [1]*x^2)"
      ]
     },
     "execution_count": 4,
     "metadata": {},
     "output_type": "execute_result"
    }
   ],
   "source": [
    "EndlicherKoerper(1009,2)"
   ]
  },
  {
   "cell_type": "code",
   "execution_count": 5,
   "metadata": {},
   "outputs": [
    {
     "data": {
      "text/plain": [
       "[ℤ/1009ℤ][x]/([442] + [347]*x + [814]*x^3 + [507]*x^4 + [6]*x^5 + [562]*x^6 + [1]*x^7)"
      ]
     },
     "execution_count": 5,
     "metadata": {},
     "output_type": "execute_result"
    }
   ],
   "source": [
    "EndlicherKoerper(1009,7)"
   ]
  },
  {
   "cell_type": "code",
   "execution_count": 6,
   "metadata": {},
   "outputs": [
    {
     "data": {
      "text/plain": [
       "[ℤ/1009ℤ][x]/([224] + [333]*x + [394]*x^5 + [916]*x^6 + [1]*x^8)"
      ]
     },
     "execution_count": 6,
     "metadata": {},
     "output_type": "execute_result"
    }
   ],
   "source": [
    "EndlicherKoerper(1009,8)"
   ]
  },
  {
   "cell_type": "code",
   "execution_count": 7,
   "metadata": {},
   "outputs": [
    {
     "data": {
      "text/plain": [
       "[ℤ/1009ℤ][x]/([859] + [93]*x + [284]*x^2 + [667]*x^3 + [963]*x^6 + [963]*x^7 + [1]*x^9)"
      ]
     },
     "execution_count": 7,
     "metadata": {},
     "output_type": "execute_result"
    }
   ],
   "source": [
    "EndlicherKoerper(1009,9)"
   ]
  },
  {
   "cell_type": "code",
   "execution_count": 8,
   "metadata": {},
   "outputs": [
    {
     "data": {
      "text/plain": [
       "[ℤ/1009ℤ][x]/([806] + [677]*x + [8]*x^3 + [877]*x^4 + [510]*x^5 + [630]*x^6 + [880]*x^8 + [694]*x^9 + [1]*x^10)"
      ]
     },
     "execution_count": 8,
     "metadata": {},
     "output_type": "execute_result"
    }
   ],
   "source": [
    "EndlicherKoerper(1009,10)"
   ]
  },
  {
   "cell_type": "markdown",
   "metadata": {},
   "source": [
    "Dieses Beispiel ist interessant, weil es wohl kein irreduzibles Polynom der Form x^10 + [a] gibt und das vollständige Suchen nach solchen Polynomen recht lange dauert. Hier sollte dann rechtzeitig zu einer Suche nach einem andersartigen Polynom übergegangen werden.\n",
    "\n",
    "Dieses Vorgehen testen wir jetzt. Desweiteren testen wir, ob Ihre Funktion auch mit großen Primpotenzen umgehen kann:"
   ]
  },
  {
   "cell_type": "code",
   "execution_count": 9,
   "metadata": {},
   "outputs": [
    {
     "data": {
      "text/plain": [
       "[ℤ/10000000019ℤ][x]/([5799468440] + [7921731533]*x + [1]*x^2)"
      ]
     },
     "execution_count": 9,
     "metadata": {},
     "output_type": "execute_result"
    }
   ],
   "source": [
    "EndlicherKoerper((10 ** 10 + 19)**2)"
   ]
  },
  {
   "cell_type": "code",
   "execution_count": 10,
   "metadata": {},
   "outputs": [
    {
     "data": {
      "text/plain": [
       "[ℤ/10000000019ℤ][x]/([3763728174] + [678552594]*x^2 + [6960866214]*x^3 + [3136572021]*x^4 + [1]*x^5)"
      ]
     },
     "execution_count": 10,
     "metadata": {},
     "output_type": "execute_result"
    }
   ],
   "source": [
    "EndlicherKoerper((10 ** 10 + 19)**5)"
   ]
  },
  {
   "cell_type": "markdown",
   "metadata": {},
   "source": [
    "Hier muss die Suche nach Polynomen der Form x^5 + [a] auf jeden Fall rechtzeitig abgebrochen werden."
   ]
  },
  {
   "cell_type": "markdown",
   "metadata": {},
   "source": [
    "Jetzt spielen wir noch ein wenig mit Körpererweiterungen:"
   ]
  },
  {
   "cell_type": "code",
   "execution_count": 11,
   "metadata": {},
   "outputs": [],
   "source": [
    "K = EndlicherKoerper(4)"
   ]
  },
  {
   "cell_type": "code",
   "execution_count": 12,
   "metadata": {},
   "outputs": [
    {
     "data": {
      "text/plain": [
       "[ℤ/2ℤ][x]/([1] + [1]*x + [1]*x^2)"
      ]
     },
     "execution_count": 12,
     "metadata": {},
     "output_type": "execute_result"
    }
   ],
   "source": [
    "K"
   ]
  },
  {
   "cell_type": "code",
   "execution_count": 13,
   "metadata": {},
   "outputs": [],
   "source": [
    "PK = Polynomring(K,\"y\")"
   ]
  },
  {
   "cell_type": "code",
   "execution_count": 14,
   "metadata": {},
   "outputs": [
    {
     "data": {
      "text/plain": [
       "[[ℤ/2ℤ][x]/([1] + [1]*x + [1]*x^2)][y]"
      ]
     },
     "execution_count": 14,
     "metadata": {},
     "output_type": "execute_result"
    }
   ],
   "source": [
    "PK"
   ]
  },
  {
   "cell_type": "code",
   "execution_count": 15,
   "metadata": {},
   "outputs": [],
   "source": [
    "f = PK.variable ** 3 + PK.variable + PK.eins"
   ]
  },
  {
   "cell_type": "markdown",
   "metadata": {},
   "source": [
    "Dieses Polynom (das zunächst ein Polynom über F_2 ist) ist, ist auch irreduzibel über K:"
   ]
  },
  {
   "cell_type": "code",
   "execution_count": 16,
   "metadata": {},
   "outputs": [
    {
     "data": {
      "text/plain": [
       "True"
      ]
     },
     "execution_count": 16,
     "metadata": {},
     "output_type": "execute_result"
    }
   ],
   "source": [
    "PolynomringElement.irreduzibel(f)"
   ]
  },
  {
   "cell_type": "markdown",
   "metadata": {},
   "source": [
    "Wir konstruieren die entsprechende Erweiterung von K:"
   ]
  },
  {
   "cell_type": "code",
   "execution_count": 17,
   "metadata": {},
   "outputs": [],
   "source": [
    "L =PolynomRestklassenring(f)"
   ]
  },
  {
   "cell_type": "code",
   "execution_count": 18,
   "metadata": {},
   "outputs": [
    {
     "data": {
      "text/plain": [
       "True"
      ]
     },
     "execution_count": 18,
     "metadata": {},
     "output_type": "execute_result"
    }
   ],
   "source": [
    "L.ist_endlicher_koerper()"
   ]
  },
  {
   "cell_type": "markdown",
   "metadata": {},
   "source": [
    "Kommentar:\n",
    "\n",
    "Ich habe \"ist_endlicher_koerper\" als Instanzmethode implementiert, um das schon bei der abstrakten Klasse Ringe vorsehen zu können, und zwar deshalb:\n",
    "\n",
    "Ich berechne dies zu Beginn nicht, sondern erst, wenn es gebraucht wird. Dann speichere ich das Ergebnis als Attribut ab, damit es ab dann immer verfügbar ist. \n",
    "\n",
    "Hierzu muss man den Ring aber zuerst \"auftauen\", und dazu muss man die Klasse UnveraenderbaresObjekt in AbstrakterAnfang ändern ..."
   ]
  },
  {
   "cell_type": "markdown",
   "metadata": {},
   "source": [
    "Andererseits ist das Polynom x^2 + x + 1 reduzibel über K, weil K gerade so konstruiert ist, dass es eine Nullstelle hat:"
   ]
  },
  {
   "cell_type": "code",
   "execution_count": 19,
   "metadata": {},
   "outputs": [
    {
     "data": {
      "text/plain": [
       "False"
      ]
     },
     "execution_count": 19,
     "metadata": {},
     "output_type": "execute_result"
    }
   ],
   "source": [
    "PolynomringElement.irreduzibel(PK.variable ** 2 + PK.variable + PK.eins)"
   ]
  },
  {
   "cell_type": "markdown",
   "metadata": {},
   "source": [
    "Durch welches Polynom kann dann eine Körpererweiterung von Grad 2 von K gegeben werden?"
   ]
  },
  {
   "cell_type": "code",
   "execution_count": 20,
   "metadata": {},
   "outputs": [
    {
     "data": {
      "text/plain": [
       "[[ℤ/2ℤ][x]/([1] + [1]*x + [1]*x^2)][x]/([1] + [1]*x*x + [1]*x^2)"
      ]
     },
     "execution_count": 20,
     "metadata": {},
     "output_type": "execute_result"
    }
   ],
   "source": [
    "EndlicherKoerper(K,2)"
   ]
  },
  {
   "cell_type": "markdown",
   "metadata": {},
   "source": [
    "Das sieht nicht so gut aus, da \"x\" doppelt vorkommt. Ich hab nun noch die Ausgabe schön gemacht:"
   ]
  },
  {
   "cell_type": "code",
   "execution_count": 21,
   "metadata": {},
   "outputs": [
    {
     "data": {
      "text/plain": [
       "[[ℤ/2ℤ][x]/([1] + [1]*x + [1]*x^2)][y]/([1] + [1]*x*y + [1]*y^2)"
      ]
     },
     "execution_count": 21,
     "metadata": {},
     "output_type": "execute_result"
    }
   ],
   "source": [
    "EndlicherKoerper(K, 2, \"y\")"
   ]
  },
  {
   "cell_type": "markdown",
   "metadata": {},
   "source": [
    "Sieht es bei Ihnen auch so aus und hat alles andere auch geklappt?\n",
    "\n",
    "Dann sind Sie fertig!"
   ]
  },
  {
   "cell_type": "code",
   "execution_count": null,
   "metadata": {},
   "outputs": [],
   "source": []
  },
  {
   "cell_type": "code",
   "execution_count": null,
   "metadata": {},
   "outputs": [],
   "source": []
  }
 ],
 "metadata": {
  "kernelspec": {
   "display_name": "Python 3",
   "language": "python",
   "name": "python3"
  },
  "language_info": {
   "codemirror_mode": {
    "name": "ipython",
    "version": 3
   },
   "file_extension": ".py",
   "mimetype": "text/x-python",
   "name": "python",
   "nbconvert_exporter": "python",
   "pygments_lexer": "ipython3",
   "version": "3.6.5"
  }
 },
 "nbformat": 4,
 "nbformat_minor": 2
}
