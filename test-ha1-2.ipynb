{
 "cells": [
  {
   "cell_type": "markdown",
   "metadata": {},
   "source": [
    "Der große Test\n",
    "\n",
    "Dieser Test ist für die 1. und 2. Hausaufgabe, d.h. für das erste Blatt.\n",
    "\n",
    "Wenn \"bei mir\" True rauskommt, sollte dies bei Ihnen auch der Fall sein."
   ]
  },
  {
   "cell_type": "code",
   "execution_count": 1,
   "metadata": {},
   "outputs": [],
   "source": [
    "from tocas import *\n",
    "from bruchzahlring import *\n",
    "from format_extension import *\n",
    "from polynom_extension import *\n",
    "from polynom_restklassenring import *"
   ]
  },
  {
   "cell_type": "code",
   "execution_count": 2,
   "metadata": {},
   "outputs": [],
   "source": [
    "#Q\n",
    "Q = Bruchzahlring()"
   ]
  },
  {
   "cell_type": "code",
   "execution_count": 3,
   "metadata": {},
   "outputs": [
    {
     "data": {
      "text/plain": [
       "Q"
      ]
     },
     "execution_count": 3,
     "metadata": {},
     "output_type": "execute_result"
    }
   ],
   "source": [
    "Q"
   ]
  },
  {
   "cell_type": "code",
   "execution_count": 4,
   "metadata": {},
   "outputs": [
    {
     "data": {
      "text/plain": [
       "(True, False)"
      ]
     },
     "execution_count": 4,
     "metadata": {},
     "output_type": "execute_result"
    }
   ],
   "source": [
    "QQ = Bruchzahlring()\n",
    "Q == QQ, Q == Z"
   ]
  },
  {
   "cell_type": "code",
   "execution_count": 5,
   "metadata": {},
   "outputs": [
    {
     "data": {
      "text/plain": [
       "1/2  in Q"
      ]
     },
     "execution_count": 5,
     "metadata": {},
     "output_type": "execute_result"
    }
   ],
   "source": [
    "BruchzahlringElement(1,2,Q)"
   ]
  },
  {
   "cell_type": "code",
   "execution_count": 6,
   "metadata": {},
   "outputs": [
    {
     "data": {
      "text/plain": [
       "(2  in Q, 2  in Q, 1/2  in Q, 3/2  in Q, 5/2  in Q)"
      ]
     },
     "execution_count": 6,
     "metadata": {},
     "output_type": "execute_result"
    }
   ],
   "source": [
    "2*Q.eins, Q.eins*2, Q.eins/2, 3*Q.eins/2, 3*Q.eins/2 +1"
   ]
  },
  {
   "cell_type": "code",
   "execution_count": 7,
   "metadata": {},
   "outputs": [],
   "source": [
    "a = 5*Q.eins/3"
   ]
  },
  {
   "cell_type": "code",
   "execution_count": 8,
   "metadata": {},
   "outputs": [
    {
     "data": {
      "text/plain": [
       "3/5  in Q"
      ]
     },
     "execution_count": 8,
     "metadata": {},
     "output_type": "execute_result"
    }
   ],
   "source": [
    "a ** -1"
   ]
  },
  {
   "cell_type": "code",
   "execution_count": 9,
   "metadata": {},
   "outputs": [
    {
     "data": {
      "text/plain": [
       "1  in Q"
      ]
     },
     "execution_count": 9,
     "metadata": {},
     "output_type": "execute_result"
    }
   ],
   "source": [
    "a/a"
   ]
  },
  {
   "cell_type": "code",
   "execution_count": 10,
   "metadata": {},
   "outputs": [
    {
     "data": {
      "text/plain": [
       "Q[x]"
      ]
     },
     "execution_count": 10,
     "metadata": {},
     "output_type": "execute_result"
    }
   ],
   "source": [
    "# Q[x]\n",
    "P = Polynomring(Q)\n",
    "P"
   ]
  },
  {
   "cell_type": "code",
   "execution_count": 11,
   "metadata": {},
   "outputs": [
    {
     "data": {
      "text/plain": [
       "1*x^3 + 1  in Q[x]"
      ]
     },
     "execution_count": 11,
     "metadata": {},
     "output_type": "execute_result"
    }
   ],
   "source": [
    "f = P.variable ** 3 + P.eins\n",
    "f"
   ]
  },
  {
   "cell_type": "code",
   "execution_count": 12,
   "metadata": {},
   "outputs": [
    {
     "data": {
      "text/plain": [
       "True"
      ]
     },
     "execution_count": 12,
     "metadata": {},
     "output_type": "execute_result"
    }
   ],
   "source": [
    "g = P.variable ** 3 + Q.eins\n",
    "f == g"
   ]
  },
  {
   "cell_type": "code",
   "execution_count": 13,
   "metadata": {},
   "outputs": [
    {
     "data": {
      "text/plain": [
       "[1*x]_(1*x^3 + 1)  in Q[x]/(1*x^3 + 1)"
      ]
     },
     "execution_count": 13,
     "metadata": {},
     "output_type": "execute_result"
    }
   ],
   "source": [
    "# Q[x]/(x^3 + 1)\n",
    "PR = PolynomRestklassenring(f)\n",
    "a = PR.erzeuger\n",
    "a"
   ]
  },
  {
   "cell_type": "code",
   "execution_count": 14,
   "metadata": {},
   "outputs": [
    {
     "data": {
      "text/plain": [
       "True"
      ]
     },
     "execution_count": 14,
     "metadata": {},
     "output_type": "execute_result"
    }
   ],
   "source": [
    "a == PR.element(P.variable)"
   ]
  },
  {
   "cell_type": "code",
   "execution_count": 15,
   "metadata": {},
   "outputs": [
    {
     "data": {
      "text/plain": [
       "[1*x]_(1*x^3 + 1)  in Q[x]/(1*x^3 + 1)"
      ]
     },
     "execution_count": 15,
     "metadata": {},
     "output_type": "execute_result"
    }
   ],
   "source": [
    "a"
   ]
  },
  {
   "cell_type": "code",
   "execution_count": 16,
   "metadata": {},
   "outputs": [
    {
     "data": {
      "text/plain": [
       "[0]_(1*x^3 + 1)  in Q[x]/(1*x^3 + 1)"
      ]
     },
     "execution_count": 16,
     "metadata": {},
     "output_type": "execute_result"
    }
   ],
   "source": [
    "a ** 3 + a**0"
   ]
  },
  {
   "cell_type": "markdown",
   "metadata": {},
   "source": [
    "Das obige ist genau f(a), und dies ist Null. Alternativ kann man auch f in den Restklassenring abbilden:"
   ]
  },
  {
   "cell_type": "code",
   "execution_count": 17,
   "metadata": {},
   "outputs": [
    {
     "data": {
      "text/plain": [
       "[0]_(1*x^3 + 1)  in Q[x]/(1*x^3 + 1)"
      ]
     },
     "execution_count": 17,
     "metadata": {},
     "output_type": "execute_result"
    }
   ],
   "source": [
    "PR.element(f)"
   ]
  },
  {
   "cell_type": "code",
   "execution_count": 18,
   "metadata": {},
   "outputs": [
    {
     "data": {
      "text/plain": [
       "[-1*x^2]_(1*x^3 + 1)  in Q[x]/(1*x^3 + 1)"
      ]
     },
     "execution_count": 18,
     "metadata": {},
     "output_type": "execute_result"
    }
   ],
   "source": [
    "b=a.invers()\n",
    "b"
   ]
  },
  {
   "cell_type": "code",
   "execution_count": 19,
   "metadata": {},
   "outputs": [
    {
     "data": {
      "text/plain": [
       "[1*x^2]_(1*x^3 + 1)  in Q[x]/(1*x^3 + 1)"
      ]
     },
     "execution_count": 19,
     "metadata": {},
     "output_type": "execute_result"
    }
   ],
   "source": [
    "a/b"
   ]
  },
  {
   "cell_type": "markdown",
   "metadata": {},
   "source": [
    "Dies ist die 1 in diesem Ring, also stimmt's."
   ]
  },
  {
   "cell_type": "code",
   "execution_count": 20,
   "metadata": {},
   "outputs": [
    {
     "ename": "InvertierungsFehler",
     "evalue": "[10]_100*x^2 + [1]_100  in Z/100Z[x] ist nicht invertierbar.",
     "output_type": "error",
     "traceback": [
      "\u001b[0;31m---------------------------------------------------------------------------\u001b[0m",
      "\u001b[0;31mInvertierungsFehler\u001b[0m                       Traceback (most recent call last)",
      "\u001b[0;32m~/daten/mathe/programme/python/tocas/tocas-zum-entwickeln/tocas-zum-entwickeln/Polynomringe.py\u001b[0m in \u001b[0;36mnormiert\u001b[0;34m(self)\u001b[0m\n\u001b[1;32m    302\u001b[0m         \u001b[0;32mtry\u001b[0m\u001b[0;34m:\u001b[0m\u001b[0;34m\u001b[0m\u001b[0m\n\u001b[0;32m--> 303\u001b[0;31m             \u001b[0;32mreturn\u001b[0m \u001b[0mRingElement\u001b[0m\u001b[0;34m.\u001b[0m\u001b[0minvers\u001b[0m\u001b[0;34m(\u001b[0m\u001b[0mself\u001b[0m\u001b[0;34m.\u001b[0m\u001b[0mfuehrender_koeffizient\u001b[0m\u001b[0;34m(\u001b[0m\u001b[0;34m)\u001b[0m\u001b[0;34m)\u001b[0m \u001b[0;34m*\u001b[0m \u001b[0mself\u001b[0m\u001b[0;34m\u001b[0m\u001b[0m\n\u001b[0m\u001b[1;32m    304\u001b[0m         \u001b[0;32mexcept\u001b[0m\u001b[0;34m:\u001b[0m\u001b[0;34m\u001b[0m\u001b[0m\n",
      "\u001b[0;32m~/daten/mathe/programme/python/tocas/tocas-zum-entwickeln/tocas-zum-entwickeln/AbstrakteRinge.py\u001b[0m in \u001b[0;36minvers\u001b[0;34m(ringelement)\u001b[0m\n\u001b[1;32m    297\u001b[0m         \u001b[0;32mif\u001b[0m \u001b[0misinstance\u001b[0m\u001b[0;34m(\u001b[0m\u001b[0mringelement\u001b[0m\u001b[0;34m,\u001b[0m\u001b[0mRingElement\u001b[0m\u001b[0;34m)\u001b[0m\u001b[0;34m:\u001b[0m\u001b[0;34m\u001b[0m\u001b[0m\n\u001b[0;32m--> 298\u001b[0;31m             \u001b[0;32mreturn\u001b[0m \u001b[0mringelement\u001b[0m\u001b[0;34m.\u001b[0m\u001b[0minvers\u001b[0m\u001b[0;34m(\u001b[0m\u001b[0;34m)\u001b[0m\u001b[0;34m\u001b[0m\u001b[0m\n\u001b[0m\u001b[1;32m    299\u001b[0m \u001b[0;34m\u001b[0m\u001b[0m\n",
      "\u001b[0;32m~/daten/mathe/programme/python/tocas/tocas-zum-entwickeln/tocas-zum-entwickeln/Restklassenringe.py\u001b[0m in \u001b[0;36minvers\u001b[0;34m(self)\u001b[0m\n\u001b[1;32m    177\u001b[0m         \u001b[0;32mif\u001b[0m \u001b[0ma\u001b[0m \u001b[0;34m!=\u001b[0m \u001b[0;36m1\u001b[0m\u001b[0;34m:\u001b[0m\u001b[0;34m\u001b[0m\u001b[0m\n\u001b[0;32m--> 178\u001b[0;31m             \u001b[0;32mraise\u001b[0m \u001b[0mInvertierungsFehler\u001b[0m\u001b[0;34m(\u001b[0m\u001b[0mself\u001b[0m\u001b[0;34m)\u001b[0m\u001b[0;34m\u001b[0m\u001b[0m\n\u001b[0m\u001b[1;32m    179\u001b[0m \u001b[0;34m\u001b[0m\u001b[0m\n",
      "\u001b[0;31mInvertierungsFehler\u001b[0m: [10]_100  in Z/100Z ist nicht invertierbar.",
      "\nDuring handling of the above exception, another exception occurred:\n",
      "\u001b[0;31mInvertierungsFehler\u001b[0m                       Traceback (most recent call last)",
      "\u001b[0;32m<ipython-input-20-8bd181329701>\u001b[0m in \u001b[0;36m<module>\u001b[0;34m()\u001b[0m\n\u001b[1;32m      3\u001b[0m \u001b[0mP\u001b[0m \u001b[0;34m=\u001b[0m \u001b[0mPolynomring\u001b[0m\u001b[0;34m(\u001b[0m\u001b[0mR\u001b[0m\u001b[0;34m)\u001b[0m\u001b[0;34m\u001b[0m\u001b[0m\n\u001b[1;32m      4\u001b[0m \u001b[0mf\u001b[0m \u001b[0;34m=\u001b[0m \u001b[0;36m10\u001b[0m\u001b[0;34m*\u001b[0m\u001b[0mP\u001b[0m\u001b[0;34m.\u001b[0m\u001b[0mvariable\u001b[0m \u001b[0;34m**\u001b[0m \u001b[0;36m2\u001b[0m \u001b[0;34m+\u001b[0m \u001b[0mP\u001b[0m\u001b[0;34m.\u001b[0m\u001b[0meins\u001b[0m\u001b[0;34m\u001b[0m\u001b[0m\n\u001b[0;32m----> 5\u001b[0;31m \u001b[0mPolynomRestklassenring\u001b[0m\u001b[0;34m(\u001b[0m\u001b[0mf\u001b[0m\u001b[0;34m)\u001b[0m\u001b[0;34m\u001b[0m\u001b[0m\n\u001b[0m\u001b[1;32m      6\u001b[0m \u001b[0;34m\u001b[0m\u001b[0m\n\u001b[1;32m      7\u001b[0m \u001b[0;31m#Dies sollte fehlschlagen, weil das Polynom zu Beginn normiert werden muss (s.o.)\u001b[0m\u001b[0;34m\u001b[0m\u001b[0;34m\u001b[0m\u001b[0m\n",
      "\u001b[0;32m~/daten/mathe/programme/python/tocas/tocas-zum-entwickeln/tocas-zum-entwickeln/PolynomRestklassenringe.py\u001b[0m in \u001b[0;36m__init__\u001b[0;34m(self, f, erzeugername)\u001b[0m\n\u001b[1;32m     18\u001b[0m             \u001b[0;32mraise\u001b[0m \u001b[0mTypeError\u001b[0m\u001b[0;34m(\u001b[0m\u001b[0;34m\"Die zweite Eingabe ist kein String.\"\u001b[0m\u001b[0;34m)\u001b[0m\u001b[0;34m\u001b[0m\u001b[0m\n\u001b[1;32m     19\u001b[0m \u001b[0;34m\u001b[0m\u001b[0m\n\u001b[0;32m---> 20\u001b[0;31m         \u001b[0mf\u001b[0m \u001b[0;34m=\u001b[0m \u001b[0mf\u001b[0m\u001b[0;34m.\u001b[0m\u001b[0mnormiert\u001b[0m\u001b[0;34m(\u001b[0m\u001b[0;34m)\u001b[0m\u001b[0;34m\u001b[0m\u001b[0m\n\u001b[0m\u001b[1;32m     21\u001b[0m \u001b[0;34m\u001b[0m\u001b[0m\n\u001b[1;32m     22\u001b[0m         \u001b[0mself\u001b[0m\u001b[0;34m.\u001b[0m\u001b[0mbasisring\u001b[0m \u001b[0;34m=\u001b[0m \u001b[0mf\u001b[0m\u001b[0;34m.\u001b[0m\u001b[0mring\u001b[0m\u001b[0;34m.\u001b[0m\u001b[0mbasisring\u001b[0m\u001b[0;34m\u001b[0m\u001b[0m\n",
      "\u001b[0;32m~/daten/mathe/programme/python/tocas/tocas-zum-entwickeln/tocas-zum-entwickeln/Polynomringe.py\u001b[0m in \u001b[0;36mnormiert\u001b[0;34m(self)\u001b[0m\n\u001b[1;32m    303\u001b[0m             \u001b[0;32mreturn\u001b[0m \u001b[0mRingElement\u001b[0m\u001b[0;34m.\u001b[0m\u001b[0minvers\u001b[0m\u001b[0;34m(\u001b[0m\u001b[0mself\u001b[0m\u001b[0;34m.\u001b[0m\u001b[0mfuehrender_koeffizient\u001b[0m\u001b[0;34m(\u001b[0m\u001b[0;34m)\u001b[0m\u001b[0;34m)\u001b[0m \u001b[0;34m*\u001b[0m \u001b[0mself\u001b[0m\u001b[0;34m\u001b[0m\u001b[0m\n\u001b[1;32m    304\u001b[0m         \u001b[0;32mexcept\u001b[0m\u001b[0;34m:\u001b[0m\u001b[0;34m\u001b[0m\u001b[0m\n\u001b[0;32m--> 305\u001b[0;31m             \u001b[0;32mraise\u001b[0m \u001b[0mInvertierungsFehler\u001b[0m\u001b[0;34m(\u001b[0m\u001b[0mself\u001b[0m\u001b[0;34m)\u001b[0m\u001b[0;34m\u001b[0m\u001b[0m\n\u001b[0m\u001b[1;32m    306\u001b[0m \u001b[0;34m\u001b[0m\u001b[0m\n\u001b[1;32m    307\u001b[0m \u001b[0;34m\u001b[0m\u001b[0m\n",
      "\u001b[0;31mInvertierungsFehler\u001b[0m: [10]_100*x^2 + [1]_100  in Z/100Z[x] ist nicht invertierbar."
     ]
    }
   ],
   "source": [
    "# Z/100[x]/ ...\n",
    "R = Restklassenring(100)\n",
    "P = Polynomring(R)\n",
    "f = 10*P.variable ** 2 + P.eins\n",
    "PolynomRestklassenring(f)\n",
    "\n",
    "#Dies sollte fehlschlagen, weil das Polynom zu Beginn normiert werden muss (s.o.)\n"
   ]
  },
  {
   "cell_type": "code",
   "execution_count": 21,
   "metadata": {},
   "outputs": [],
   "source": [
    "# F_1009[x]/(x^10 +1)\n",
    "R = Restklassenring(1009)\n",
    "P = Polynomring(R)\n",
    "f = P.variable ** 5 + R.eins\n",
    "PR = PolynomRestklassenring(f)"
   ]
  },
  {
   "cell_type": "code",
   "execution_count": 22,
   "metadata": {},
   "outputs": [
    {
     "data": {
      "text/plain": [
       "[[1]_1009*x]_([1]_1009*x^5 + [1]_1009)  in Z/1009Z[x]/([1]_1009*x^5 + [1]_1009)"
      ]
     },
     "execution_count": 22,
     "metadata": {},
     "output_type": "execute_result"
    }
   ],
   "source": [
    "PR.erzeuger"
   ]
  },
  {
   "cell_type": "code",
   "execution_count": 23,
   "metadata": {},
   "outputs": [
    {
     "data": {
      "text/plain": [
       "([632]_1009  in Z/1009Z, [760]_1009  in Z/1009Z)"
      ]
     },
     "execution_count": 23,
     "metadata": {},
     "output_type": "execute_result"
    }
   ],
   "source": [
    "a = R.random()\n",
    "b = R.random()\n",
    "a,b"
   ]
  },
  {
   "cell_type": "code",
   "execution_count": 24,
   "metadata": {},
   "outputs": [
    {
     "data": {
      "text/plain": [
       "[383]_1009  in Z/1009Z"
      ]
     },
     "execution_count": 24,
     "metadata": {},
     "output_type": "execute_result"
    }
   ],
   "source": [
    "a + b"
   ]
  },
  {
   "cell_type": "code",
   "execution_count": 25,
   "metadata": {},
   "outputs": [
    {
     "data": {
      "text/plain": [
       "[869]_1009  in Z/1009Z"
      ]
     },
     "execution_count": 25,
     "metadata": {},
     "output_type": "execute_result"
    }
   ],
   "source": [
    "a**2"
   ]
  },
  {
   "cell_type": "code",
   "execution_count": 26,
   "metadata": {},
   "outputs": [
    {
     "data": {
      "text/plain": [
       "[918]_1009  in Z/1009Z"
      ]
     },
     "execution_count": 26,
     "metadata": {},
     "output_type": "execute_result"
    }
   ],
   "source": [
    "a ** -1"
   ]
  },
  {
   "cell_type": "code",
   "execution_count": 27,
   "metadata": {},
   "outputs": [
    {
     "data": {
      "text/plain": [
       "[[1]_1009*x]_([1]_1009*x^5 + [1]_1009)  in Z/1009Z[x]/([1]_1009*x^5 + [1]_1009)"
      ]
     },
     "execution_count": 27,
     "metadata": {},
     "output_type": "execute_result"
    }
   ],
   "source": [
    "PR.erzeuger"
   ]
  },
  {
   "cell_type": "code",
   "execution_count": 28,
   "metadata": {},
   "outputs": [
    {
     "data": {
      "text/plain": [
       "[[1]_1009*x + [632]_1009]_([1]_1009*x^5 + [1]_1009)  in Z/1009Z[x]/([1]_1009*x^5 + [1]_1009)"
      ]
     },
     "execution_count": 28,
     "metadata": {},
     "output_type": "execute_result"
    }
   ],
   "source": [
    "PR.erzeuger+ a"
   ]
  },
  {
   "cell_type": "markdown",
   "metadata": {},
   "source": [
    "Vielleicht funktioniert dies bei Ihnen nicht. Dann sollte aber auf jeden Fall PR.erzeuger + a*PR.eins funktionieren."
   ]
  },
  {
   "cell_type": "code",
   "execution_count": 29,
   "metadata": {},
   "outputs": [
    {
     "data": {
      "text/plain": [
       "[[1]_1009]_([1]_1009*x^5 + [1]_1009)*y^3 + [[1]_1009]_([1]_1009*x^5 + [1]_1009)*y + [[632]_1009]_([1]_1009*x^5 + [1]_1009)  in Z/1009Z[x]/([1]_1009*x^5 + [1]_1009)[y]"
      ]
     },
     "execution_count": 29,
     "metadata": {},
     "output_type": "execute_result"
    }
   ],
   "source": [
    "# (F_1009[x]/(x^10 +1))[y]/(f)\n",
    "# (Erweiterung eines Erweiterungskörpers)\n",
    "P2 = Polynomring(PR,\"y\")\n",
    "f = P2.variable**3 + P2.variable + a*PR.eins\n",
    "# Das a am Ende ist kein Schreibfehler. Man kann dafür auch a*P.eins\n",
    "# schreiben.\n",
    "f"
   ]
  },
  {
   "cell_type": "code",
   "execution_count": 30,
   "metadata": {},
   "outputs": [
    {
     "data": {
      "text/plain": [
       "Z/1009Z[x]/([1]_1009*x^5 + [1]_1009)[y]/([[1]_1009]_([1]_1009*x^5 + [1]_1009)*y^3 + [[1]_1009]_([1]_1009*x^5 + [1]_1009)*y + [[632]_1009]_([1]_1009*x^5 + [1]_1009))"
      ]
     },
     "execution_count": 30,
     "metadata": {},
     "output_type": "execute_result"
    }
   ],
   "source": [
    "PR2 = PolynomRestklassenring(f)\n",
    "PR2"
   ]
  },
  {
   "cell_type": "code",
   "execution_count": 31,
   "metadata": {},
   "outputs": [
    {
     "data": {
      "text/plain": [
       "[[[941]_1009*x^4 + [25]_1009*x^3 + [470]_1009*x^2 + [825]_1009*x + [502]_1009]_([1]_1009*x^5 + [1]_1009)*y^2 + [[939]_1009*x^4 + [19]_1009*x^3 + [571]_1009*x^2 + [100]_1009*x + [863]_1009]_([1]_1009*x^5 + [1]_1009)*y + [[55]_1009*x^4 + [861]_1009*x^3 + [612]_1009*x^2 + [959]_1009*x + [543]_1009]_([1]_1009*x^5 + [1]_1009)]_([[1]_1009]_([1]_1009*x^5 + [1]_1009)*y^3 + [[1]_1009]_([1]_1009*x^5 + [1]_1009)*y + [[632]_1009]_([1]_1009*x^5 + [1]_1009))  in Z/1009Z[x]/([1]_1009*x^5 + [1]_1009)[y]/([[1]_1009]_([1]_1009*x^5 + [1]_1009)*y^3 + [[1]_1009]_([1]_1009*x^5 + [1]_1009)*y + [[632]_1009]_([1]_1009*x^5 + [1]_1009))"
      ]
     },
     "execution_count": 31,
     "metadata": {},
     "output_type": "execute_result"
    }
   ],
   "source": [
    "c= PR2.random()\n",
    "c"
   ]
  },
  {
   "cell_type": "code",
   "execution_count": 32,
   "metadata": {},
   "outputs": [
    {
     "data": {
      "text/plain": [
       "[[[197]_1009*x^4 + [219]_1009*x^3 + [105]_1009*x^2 + [79]_1009*x + [13]_1009]_([1]_1009*x^5 + [1]_1009)*y^2 + [[236]_1009*x^4 + [788]_1009*x^3 + [421]_1009*x^2 + [474]_1009*x + [518]_1009]_([1]_1009*x^5 + [1]_1009)*y + [[568]_1009*x^4 + [233]_1009*x^3 + [970]_1009*x^2 + [275]_1009*x + [27]_1009]_([1]_1009*x^5 + [1]_1009)]_([[1]_1009]_([1]_1009*x^5 + [1]_1009)*y^3 + [[1]_1009]_([1]_1009*x^5 + [1]_1009)*y + [[632]_1009]_([1]_1009*x^5 + [1]_1009))  in Z/1009Z[x]/([1]_1009*x^5 + [1]_1009)[y]/([[1]_1009]_([1]_1009*x^5 + [1]_1009)*y^3 + [[1]_1009]_([1]_1009*x^5 + [1]_1009)*y + [[632]_1009]_([1]_1009*x^5 + [1]_1009))"
      ]
     },
     "execution_count": 32,
     "metadata": {},
     "output_type": "execute_result"
    }
   ],
   "source": [
    "c ** 2"
   ]
  },
  {
   "cell_type": "code",
   "execution_count": 33,
   "metadata": {},
   "outputs": [
    {
     "data": {
      "text/plain": [
       "True"
      ]
     },
     "execution_count": 33,
     "metadata": {},
     "output_type": "execute_result"
    }
   ],
   "source": [
    "(c + 5*PR.erzeuger) - 5*PR.erzeuger == c"
   ]
  },
  {
   "cell_type": "code",
   "execution_count": 34,
   "metadata": {},
   "outputs": [
    {
     "data": {
      "text/plain": [
       "[[[379]_1009*x^4 + [729]_1009*x^3 + [520]_1009*x^2 + [587]_1009*x + [876]_1009]_([1]_1009*x^5 + [1]_1009)*y^2 + [[666]_1009*x^4 + [45]_1009*x^3 + [71]_1009*x^2 + [465]_1009*x + [522]_1009]_([1]_1009*x^5 + [1]_1009)*y + [[653]_1009*x^4 + [875]_1009*x^3 + [886]_1009*x^2 + [868]_1009*x + [295]_1009]_([1]_1009*x^5 + [1]_1009)]_([[1]_1009]_([1]_1009*x^5 + [1]_1009)*y^3 + [[1]_1009]_([1]_1009*x^5 + [1]_1009)*y + [[632]_1009]_([1]_1009*x^5 + [1]_1009))  in Z/1009Z[x]/([1]_1009*x^5 + [1]_1009)[y]/([[1]_1009]_([1]_1009*x^5 + [1]_1009)*y^3 + [[1]_1009]_([1]_1009*x^5 + [1]_1009)*y + [[632]_1009]_([1]_1009*x^5 + [1]_1009))"
      ]
     },
     "execution_count": 34,
     "metadata": {},
     "output_type": "execute_result"
    }
   ],
   "source": [
    "d = c ** -1\n",
    "d"
   ]
  },
  {
   "cell_type": "code",
   "execution_count": 38,
   "metadata": {},
   "outputs": [
    {
     "data": {
      "text/plain": [
       "True"
      ]
     },
     "execution_count": 38,
     "metadata": {},
     "output_type": "execute_result"
    }
   ],
   "source": [
    "c*d == PR2.eins"
   ]
  },
  {
   "cell_type": "markdown",
   "metadata": {},
   "source": [
    "So, das war's ..."
   ]
  },
  {
   "cell_type": "code",
   "execution_count": null,
   "metadata": {},
   "outputs": [],
   "source": []
  }
 ],
 "metadata": {
  "kernelspec": {
   "display_name": "Python 3",
   "language": "python",
   "name": "python3"
  },
  "language_info": {
   "codemirror_mode": {
    "name": "ipython",
    "version": 3
   },
   "file_extension": ".py",
   "mimetype": "text/x-python",
   "name": "python",
   "nbconvert_exporter": "python",
   "pygments_lexer": "ipython3",
   "version": "3.6.5"
  }
 },
 "nbformat": 4,
 "nbformat_minor": 2
}
