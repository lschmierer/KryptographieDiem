{
 "cells": [
  {
   "cell_type": "code",
   "execution_count": 2,
   "metadata": {},
   "outputs": [
    {
     "name": "stdout",
     "output_type": "stream",
     "text": [
      "False\n",
      "False\n",
      "False\n",
      "False\n",
      "True\n",
      "False\n",
      "True\n"
     ]
    }
   ],
   "source": [
    "from tocas import Z, Polynomring, PolynomringElement, Restklassenring\n",
    "\n",
    "import format_extension\n",
    "import ganzzahl_extension\n",
    "import polynom_extension\n",
    "import restklassen_extension\n",
    "from bruchzahlring import Q\n",
    "from polynom_restklassenring import PolynomRestklassenring\n",
    "\n",
    "KX = Polynomring(Z)\n",
    "R = Restklassenring(6)\n",
    "F = Restklassenring(7)\n",
    "\n",
    "f = PolynomringElement([1, 0, 1], KX)\n",
    "RX_f = PolynomRestklassenring(f)\n",
    "\n",
    "FX = Polynomring(F)\n",
    "g = PolynomringElement([1, 0, 1], FX)\n",
    "FX_g = PolynomRestklassenring(g)\n",
    "\n",
    "print(Z.ist_endlicher_koerper())\n",
    "print(KX.ist_endlicher_koerper())\n",
    "print(Q.ist_endlicher_koerper())\n",
    "print(R.ist_endlicher_koerper())\n",
    "print(F.ist_endlicher_koerper())\n",
    "print(RX_f.ist_endlicher_koerper())\n",
    "print(FX_g.ist_endlicher_koerper())"
   ]
  },
  {
   "cell_type": "code",
   "execution_count": null,
   "metadata": {},
   "outputs": [],
   "source": []
  }
 ],
 "metadata": {
  "kernelspec": {
   "display_name": "Python 3",
   "language": "python",
   "name": "python3"
  },
  "language_info": {
   "codemirror_mode": {
    "name": "ipython",
    "version": 3
   },
   "file_extension": ".py",
   "mimetype": "text/x-python",
   "name": "python",
   "nbconvert_exporter": "python",
   "pygments_lexer": "ipython3",
   "version": "3.6.5"
  }
 },
 "nbformat": 4,
 "nbformat_minor": 2
}
