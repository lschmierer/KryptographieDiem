{
 "cells": [
  {
   "cell_type": "code",
   "execution_count": 1,
   "metadata": {},
   "outputs": [
    {
     "data": {
      "text/plain": [
       "True"
      ]
     },
     "execution_count": 1,
     "metadata": {},
     "output_type": "execute_result"
    }
   ],
   "source": [
    "import project_path\n",
    "from tocas import Restklassenring\n",
    "\n",
    "import ha.format_extension\n",
    "import ha.restklassen_extension\n",
    "from projekt.weierstrass_kurvengruppe import WeierstrassKurvengruppe, WeierstrassKurvengruppenElement\n",
    "\n",
    "F_13 = Restklassenring(13)\n",
    "F_13.ist_endlicher_koerper()"
   ]
  },
  {
   "cell_type": "code",
   "execution_count": 2,
   "metadata": {},
   "outputs": [
    {
     "data": {
      "text/plain": [
       "WeierstrassKurvengruppe(ring=ℤ/13ℤ, a=[5] in ℤ/13ℤ, b=[4] in ℤ/13ℤ)"
      ]
     },
     "execution_count": 2,
     "metadata": {},
     "output_type": "execute_result"
    }
   ],
   "source": [
    "WC = WeierstrassKurvengruppe(F_13, F_13.element(5), F_13.element(4))\n",
    "WC"
   ]
  },
  {
   "cell_type": "code",
   "execution_count": 3,
   "metadata": {},
   "outputs": [
    {
     "data": {
      "text/plain": [
       "(Point_At_Infinity) in WeierstrassKurvengruppe(ring=ℤ/13ℤ, a=[5] in ℤ/13ℤ, b=[4] in ℤ/13ℤ)"
      ]
     },
     "execution_count": 3,
     "metadata": {},
     "output_type": "execute_result"
    }
   ],
   "source": [
    "WC.neutral"
   ]
  },
  {
   "cell_type": "code",
   "execution_count": 4,
   "metadata": {},
   "outputs": [
    {
     "data": {
      "text/plain": [
       "(Point_At_Infinity) in WeierstrassKurvengruppe(ring=ℤ/13ℤ, a=[5] in ℤ/13ℤ, b=[4] in ℤ/13ℤ)"
      ]
     },
     "execution_count": 4,
     "metadata": {},
     "output_type": "execute_result"
    }
   ],
   "source": [
    "WC.neutral + WC.neutral"
   ]
  },
  {
   "cell_type": "code",
   "execution_count": 5,
   "metadata": {},
   "outputs": [
    {
     "data": {
      "text/plain": [
       "(Point_At_Infinity) in WeierstrassKurvengruppe(ring=ℤ/13ℤ, a=[5] in ℤ/13ℤ, b=[4] in ℤ/13ℤ)"
      ]
     },
     "execution_count": 5,
     "metadata": {},
     "output_type": "execute_result"
    }
   ],
   "source": [
    "3 * WC.neutral"
   ]
  },
  {
   "cell_type": "code",
   "execution_count": 6,
   "metadata": {},
   "outputs": [
    {
     "data": {
      "text/plain": [
       "([1] in ℤ/13ℤ, [2] in ℤ/13ℤ) in WeierstrassKurvengruppe(ring=ℤ/13ℤ, a=[5] in ℤ/13ℤ, b=[4] in ℤ/13ℤ)"
      ]
     },
     "execution_count": 6,
     "metadata": {},
     "output_type": "execute_result"
    }
   ],
   "source": [
    "WeierstrassKurvengruppenElement(F_13.element(1), F_13.element(2), WC)"
   ]
  },
  {
   "cell_type": "code",
   "execution_count": 7,
   "metadata": {},
   "outputs": [
    {
     "data": {
      "text/plain": [
       "([2] in ℤ/13ℤ, [9] in ℤ/13ℤ) in WeierstrassKurvengruppe(ring=ℤ/13ℤ, a=[5] in ℤ/13ℤ, b=[4] in ℤ/13ℤ)"
      ]
     },
     "execution_count": 7,
     "metadata": {},
     "output_type": "execute_result"
    }
   ],
   "source": [
    "WeierstrassKurvengruppenElement(F_13.element(1), F_13.element(2), WC) + WeierstrassKurvengruppenElement(F_13.element(1), F_13.element(2), WC)"
   ]
  },
  {
   "cell_type": "code",
   "execution_count": 8,
   "metadata": {},
   "outputs": [],
   "source": [
    "element = WeierstrassKurvengruppenElement(F_13.element(1), F_13.element(2), WC)"
   ]
  },
  {
   "cell_type": "code",
   "execution_count": 9,
   "metadata": {},
   "outputs": [
    {
     "data": {
      "text/plain": [
       "([6] in ℤ/13ℤ, [6] in ℤ/13ℤ) in WeierstrassKurvengruppe(ring=ℤ/13ℤ, a=[5] in ℤ/13ℤ, b=[4] in ℤ/13ℤ)"
      ]
     },
     "execution_count": 9,
     "metadata": {},
     "output_type": "execute_result"
    }
   ],
   "source": [
    "4 * element"
   ]
  },
  {
   "cell_type": "code",
   "execution_count": 10,
   "metadata": {},
   "outputs": [
    {
     "data": {
      "text/plain": [
       "([6] in ℤ/13ℤ, [6] in ℤ/13ℤ) in WeierstrassKurvengruppe(ring=ℤ/13ℤ, a=[5] in ℤ/13ℤ, b=[4] in ℤ/13ℤ)"
      ]
     },
     "execution_count": 10,
     "metadata": {},
     "output_type": "execute_result"
    }
   ],
   "source": [
    "element + element + element + element"
   ]
  },
  {
   "cell_type": "code",
   "execution_count": 11,
   "metadata": {},
   "outputs": [
    {
     "data": {
      "text/plain": [
       "([6] in ℤ/13ℤ, [6] in ℤ/13ℤ) in WeierstrassKurvengruppe(ring=ℤ/13ℤ, a=[5] in ℤ/13ℤ, b=[4] in ℤ/13ℤ)"
      ]
     },
     "execution_count": 11,
     "metadata": {},
     "output_type": "execute_result"
    }
   ],
   "source": [
    "element.double().double()"
   ]
  },
  {
   "cell_type": "code",
   "execution_count": 12,
   "metadata": {},
   "outputs": [
    {
     "data": {
      "text/plain": [
       "True"
      ]
     },
     "execution_count": 12,
     "metadata": {},
     "output_type": "execute_result"
    }
   ],
   "source": [
    "(element + WC.neutral) == element"
   ]
  },
  {
   "cell_type": "code",
   "execution_count": 13,
   "metadata": {},
   "outputs": [
    {
     "data": {
      "text/plain": [
       "(Point_At_Infinity) in WeierstrassKurvengruppe(ring=ℤ/13ℤ, a=[5] in ℤ/13ℤ, b=[4] in ℤ/13ℤ)"
      ]
     },
     "execution_count": 13,
     "metadata": {},
     "output_type": "execute_result"
    }
   ],
   "source": [
    "'''Hier muss Point at infinity herauskommen!'''\n",
    "WeierstrassKurvengruppenElement(F_13.element(1), F_13.element(0), WC) + WeierstrassKurvengruppenElement(F_13.element(1), F_13.element(1), WC)"
   ]
  },
  {
   "cell_type": "code",
   "execution_count": null,
   "metadata": {},
   "outputs": [],
   "source": []
  }
 ],
 "metadata": {
  "kernelspec": {
   "display_name": "Python 3",
   "language": "python",
   "name": "python3"
  },
  "language_info": {
   "codemirror_mode": {
    "name": "ipython",
    "version": 3
   },
   "file_extension": ".py",
   "mimetype": "text/x-python",
   "name": "python",
   "nbconvert_exporter": "python",
   "pygments_lexer": "ipython3",
   "version": "3.6.5"
  }
 },
 "nbformat": 4,
 "nbformat_minor": 2
}
