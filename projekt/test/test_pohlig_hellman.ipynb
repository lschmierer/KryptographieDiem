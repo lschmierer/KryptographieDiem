{
 "cells": [
  {
   "cell_type": "code",
   "execution_count": 1,
   "metadata": {},
   "outputs": [
    {
     "data": {
      "text/plain": [
       "True"
      ]
     },
     "execution_count": 1,
     "metadata": {},
     "output_type": "execute_result"
    }
   ],
   "source": [
    "import project_path\n",
    "from tocas import Restklassenring\n",
    "\n",
    "import ha.format_extension\n",
    "import ha.restklassen_extension\n",
    "from projekt.weierstrass_kurvengruppe import WeierstrassKurvengruppe, WeierstrassKurvengruppenElement\n",
    "from projekt.pohlig_hellman import pohlig_hellman\n",
    "\n",
    "F_19 = Restklassenring(19)\n",
    "F_19.ist_endlicher_koerper()"
   ]
  },
  {
   "cell_type": "code",
   "execution_count": 2,
   "metadata": {},
   "outputs": [
    {
     "name": "stdout",
     "output_type": "stream",
     "text": [
      "18\n",
      "[[[18] in ℤ/19ℤ], [[7] in ℤ/19ℤ, [4] in ℤ/19ℤ]]\n",
      "[[[1] in ℤ/19ℤ], [[7] in ℤ/19ℤ, [6] in ℤ/19ℤ]]\n",
      "g_0 = [18] in ℤ/19ℤ\n",
      "h_0 = [1] in ℤ/19ℤ\n",
      "0\n",
      "u = [1] in ℤ/19ℤ\n",
      "h_0 = [1] in ℤ/19ℤ\n",
      "0\n",
      "g_0 = [7] in ℤ/19ℤ\n",
      "h_0 = [7] in ℤ/19ℤ\n",
      "0\n",
      "u = [1] in ℤ/19ℤ\n",
      "h_0 = [7] in ℤ/19ℤ\n",
      "g_0 = [7] in ℤ/19ℤ\n",
      "T = [7] in ℤ/19ℤ\n",
      "g_0 = [4] in ℤ/19ℤ\n",
      "h_0 = [6] in ℤ/19ℤ\n",
      "1\n",
      "u = [5] in ℤ/19ℤ\n",
      "h_0 = [11] in ℤ/19ℤ\n",
      "g_0 = [7] in ℤ/19ℤ\n",
      "T = [7] in ℤ/19ℤ\n",
      "T = [11] in ℤ/19ℤ\n",
      "7\n",
      "[0, 7]\n",
      "9 2\n",
      "0\n",
      "(1, 1, -4)\n",
      "2 9\n",
      "7\n",
      "(1, -4, 1)\n"
     ]
    },
    {
     "data": {
      "text/plain": [
       "16"
      ]
     },
     "execution_count": 2,
     "metadata": {},
     "output_type": "execute_result"
    }
   ],
   "source": [
    "g = F_19.element(2) # N = ord(g) = 18\n",
    "h = F_19.element(5)\n",
    "# 2 * 3^2\n",
    "l = [(2, 1), (3, 2)]\n",
    "\n",
    "pohlig_hellman(g, h, l)"
   ]
  },
  {
   "cell_type": "code",
   "execution_count": null,
   "metadata": {},
   "outputs": [],
   "source": []
  }
 ],
 "metadata": {
  "kernelspec": {
   "display_name": "Python 3",
   "language": "python",
   "name": "python3"
  },
  "language_info": {
   "codemirror_mode": {
    "name": "ipython",
    "version": 3
   },
   "file_extension": ".py",
   "mimetype": "text/x-python",
   "name": "python",
   "nbconvert_exporter": "python",
   "pygments_lexer": "ipython3",
   "version": "3.6.5"
  }
 },
 "nbformat": 4,
 "nbformat_minor": 2
}
