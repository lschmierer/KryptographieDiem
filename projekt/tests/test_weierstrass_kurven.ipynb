{
 "cells": [
  {
   "cell_type": "markdown",
   "metadata": {},
   "source": [
    "Wir testen hier grundlegende Funktionen unserer Realisierung Elliptischer Kurven über endliche Körper in Weierstrass-Darstellung."
   ]
  },
  {
   "cell_type": "code",
   "execution_count": 22,
   "metadata": {},
   "outputs": [],
   "source": [
    "import project_path\n",
    "from tocas import Polynomring, PolynomringElement, Restklassenring\n",
    "\n",
    "import ha.ganzzahl_extension\n",
    "import ha.format_extension\n",
    "import ha.restklassen_extension\n",
    "import ha.polynom_extension\n",
    "\n",
    "from ha.polynom_restklassenring import PolynomRestklassenring, PolynomRestklassenringElement\n",
    "\n",
    "from projekt.weierstrass_kurvengruppe import WeierstrassKurvengruppe, WeierstrassKurvengruppenElement"
   ]
  },
  {
   "cell_type": "markdown",
   "metadata": {},
   "source": [
    "Wir beginnen mit 2 endlichen Körper (Restklassenring und PolynomRestklassenring):"
   ]
  },
  {
   "cell_type": "code",
   "execution_count": 23,
   "metadata": {},
   "outputs": [
    {
     "name": "stdout",
     "output_type": "stream",
     "text": [
      "ℤ/13ℤ\n",
      "True\n",
      "[ℤ/7ℤ][x]/([1] + [1]*x^2)\n",
      "True\n"
     ]
    }
   ],
   "source": [
    "F_13 = Restklassenring(13)\n",
    "print(F_13)\n",
    "print(F_13.ist_endlicher_koerper())\n",
    "\n",
    "RX = Polynomring(Restklassenring(7))\n",
    "f = PolynomringElement([1, 0, 1], RX)\n",
    "RX_f = PolynomRestklassenring(f)\n",
    "print(RX_f)\n",
    "print(RX_f.ist_endlicher_koerper())"
   ]
  },
  {
   "cell_type": "markdown",
   "metadata": {},
   "source": [
    "Darauf aufbauend erhalten wir elliptische Kurvengruppen:"
   ]
  },
  {
   "cell_type": "code",
   "execution_count": 24,
   "metadata": {},
   "outputs": [
    {
     "name": "stdout",
     "output_type": "stream",
     "text": [
      "WeierstrassKurvengruppe(ring=ℤ/13ℤ, a=[5] in ℤ/13ℤ, b=[4] in ℤ/13ℤ)\n",
      "WeierstrassKurvengruppe(ring=[ℤ/7ℤ][x]/([1] + [1]*x^2), a=[3] in [ℤ/7ℤ][x]/([1] + [1]*x^2), b=[2] + [3]*x in [ℤ/7ℤ][x]/([1] + [1]*x^2))\n"
     ]
    }
   ],
   "source": [
    "WC = WeierstrassKurvengruppe(F_13, F_13.element(5), F_13.element(4))\n",
    "print(WC)\n",
    "WC2 = WeierstrassKurvengruppe(RX_f, RX_f.element([3]),  RX_f.element([2,3]))\n",
    "print(WC2)"
   ]
  },
  {
   "cell_type": "markdown",
   "metadata": {},
   "source": [
    "Für WC haben wir den Erzeuger (6,4). Damit können wir alle Elemente der zyklischen Gruppe erzeugen. \n",
    "Wir speichern uns die Elemente in einer Liste WC_element."
   ]
  },
  {
   "cell_type": "code",
   "execution_count": 25,
   "metadata": {},
   "outputs": [
    {
     "name": "stdout",
     "output_type": "stream",
     "text": [
      "0 : (Point_At_Infinity) in WeierstrassKurvengruppe(ring=ℤ/13ℤ, a=[5] in ℤ/13ℤ, b=[4] in ℤ/13ℤ)\n",
      "1 : ([6] in ℤ/13ℤ, [4] in ℤ/13ℤ) in WeierstrassKurvengruppe(ring=ℤ/13ℤ, a=[5] in ℤ/13ℤ, b=[4] in ℤ/13ℤ)\n",
      "2 : ([11] in ℤ/13ℤ, [5] in ℤ/13ℤ) in WeierstrassKurvengruppe(ring=ℤ/13ℤ, a=[5] in ℤ/13ℤ, b=[4] in ℤ/13ℤ)\n",
      "3 : ([8] in ℤ/13ℤ, [6] in ℤ/13ℤ) in WeierstrassKurvengruppe(ring=ℤ/13ℤ, a=[5] in ℤ/13ℤ, b=[4] in ℤ/13ℤ)\n",
      "4 : ([0] in ℤ/13ℤ, [2] in ℤ/13ℤ) in WeierstrassKurvengruppe(ring=ℤ/13ℤ, a=[5] in ℤ/13ℤ, b=[4] in ℤ/13ℤ)\n",
      "5 : ([10] in ℤ/13ℤ, [12] in ℤ/13ℤ) in WeierstrassKurvengruppe(ring=ℤ/13ℤ, a=[5] in ℤ/13ℤ, b=[4] in ℤ/13ℤ)\n",
      "6 : ([1] in ℤ/13ℤ, [6] in ℤ/13ℤ) in WeierstrassKurvengruppe(ring=ℤ/13ℤ, a=[5] in ℤ/13ℤ, b=[4] in ℤ/13ℤ)\n",
      "7 : ([2] in ℤ/13ℤ, [10] in ℤ/13ℤ) in WeierstrassKurvengruppe(ring=ℤ/13ℤ, a=[5] in ℤ/13ℤ, b=[4] in ℤ/13ℤ)\n",
      "8 : ([4] in ℤ/13ℤ, [6] in ℤ/13ℤ) in WeierstrassKurvengruppe(ring=ℤ/13ℤ, a=[5] in ℤ/13ℤ, b=[4] in ℤ/13ℤ)\n",
      "9 : ([4] in ℤ/13ℤ, [7] in ℤ/13ℤ) in WeierstrassKurvengruppe(ring=ℤ/13ℤ, a=[5] in ℤ/13ℤ, b=[4] in ℤ/13ℤ)\n",
      "10 : ([2] in ℤ/13ℤ, [3] in ℤ/13ℤ) in WeierstrassKurvengruppe(ring=ℤ/13ℤ, a=[5] in ℤ/13ℤ, b=[4] in ℤ/13ℤ)\n",
      "11 : ([1] in ℤ/13ℤ, [7] in ℤ/13ℤ) in WeierstrassKurvengruppe(ring=ℤ/13ℤ, a=[5] in ℤ/13ℤ, b=[4] in ℤ/13ℤ)\n",
      "12 : ([10] in ℤ/13ℤ, [1] in ℤ/13ℤ) in WeierstrassKurvengruppe(ring=ℤ/13ℤ, a=[5] in ℤ/13ℤ, b=[4] in ℤ/13ℤ)\n",
      "13 : ([0] in ℤ/13ℤ, [11] in ℤ/13ℤ) in WeierstrassKurvengruppe(ring=ℤ/13ℤ, a=[5] in ℤ/13ℤ, b=[4] in ℤ/13ℤ)\n",
      "14 : ([8] in ℤ/13ℤ, [7] in ℤ/13ℤ) in WeierstrassKurvengruppe(ring=ℤ/13ℤ, a=[5] in ℤ/13ℤ, b=[4] in ℤ/13ℤ)\n",
      "15 : ([11] in ℤ/13ℤ, [8] in ℤ/13ℤ) in WeierstrassKurvengruppe(ring=ℤ/13ℤ, a=[5] in ℤ/13ℤ, b=[4] in ℤ/13ℤ)\n",
      "16 : ([6] in ℤ/13ℤ, [9] in ℤ/13ℤ) in WeierstrassKurvengruppe(ring=ℤ/13ℤ, a=[5] in ℤ/13ℤ, b=[4] in ℤ/13ℤ)\n"
     ]
    }
   ],
   "source": [
    "erzeuger = WeierstrassKurvengruppenElement(F_13.element(6), F_13.element(4), WC)\n",
    "WC_element = []\n",
    "\n",
    "current = WC.neutral\n",
    "i=0\n",
    "while True:\n",
    "    print(str(i) + \" : \" + str(current))\n",
    "    current = current + erzeuger\n",
    "    WC_element.append(current)\n",
    "    i+=1\n",
    "    if current == WC.neutral:\n",
    "        break\n"
   ]
  },
  {
   "cell_type": "markdown",
   "metadata": {},
   "source": [
    "Wir testen nun die Arithmetik über unserer additven Kurvengruppe:"
   ]
  },
  {
   "cell_type": "code",
   "execution_count": 26,
   "metadata": {},
   "outputs": [
    {
     "name": "stdout",
     "output_type": "stream",
     "text": [
      "([0] in ℤ/13ℤ, [2] in ℤ/13ℤ) in WeierstrassKurvengruppe(ring=ℤ/13ℤ, a=[5] in ℤ/13ℤ, b=[4] in ℤ/13ℤ)\n",
      "([1] in ℤ/13ℤ, [6] in ℤ/13ℤ) in WeierstrassKurvengruppe(ring=ℤ/13ℤ, a=[5] in ℤ/13ℤ, b=[4] in ℤ/13ℤ)\n",
      "([2] in ℤ/13ℤ, [3] in ℤ/13ℤ) in WeierstrassKurvengruppe(ring=ℤ/13ℤ, a=[5] in ℤ/13ℤ, b=[4] in ℤ/13ℤ)\n",
      "([10] in ℤ/13ℤ, [1] in ℤ/13ℤ) in WeierstrassKurvengruppe(ring=ℤ/13ℤ, a=[5] in ℤ/13ℤ, b=[4] in ℤ/13ℤ)\n"
     ]
    }
   ],
   "source": [
    "print( WC_element[3] )\n",
    "print( WC_element[5] )\n",
    "print( WC_element[5] + WC_element[3] )\n",
    "print( WC_element[5] * 2 )"
   ]
  },
  {
   "cell_type": "markdown",
   "metadata": {},
   "source": [
    "Das neutrale Element ist der Punkt im Unendlichen:"
   ]
  },
  {
   "cell_type": "code",
   "execution_count": 27,
   "metadata": {},
   "outputs": [
    {
     "name": "stdout",
     "output_type": "stream",
     "text": [
      "(Point_At_Infinity) in WeierstrassKurvengruppe(ring=ℤ/13ℤ, a=[5] in ℤ/13ℤ, b=[4] in ℤ/13ℤ)\n",
      "(Point_At_Infinity) in WeierstrassKurvengruppe(ring=ℤ/13ℤ, a=[5] in ℤ/13ℤ, b=[4] in ℤ/13ℤ)\n",
      "(Point_At_Infinity) in WeierstrassKurvengruppe(ring=ℤ/13ℤ, a=[5] in ℤ/13ℤ, b=[4] in ℤ/13ℤ)\n",
      "True\n"
     ]
    }
   ],
   "source": [
    "print(WC.neutral)\n",
    "print(WC.neutral + WC.neutral)\n",
    "print(WC.neutral * 3)\n",
    "print(WC_element[5] == WC_element[5] + WC.neutral )"
   ]
  },
  {
   "cell_type": "markdown",
   "metadata": {},
   "source": [
    "Multiplikation funktioniert natürlich nur mit Skalaren:"
   ]
  },
  {
   "cell_type": "code",
   "execution_count": 28,
   "metadata": {},
   "outputs": [
    {
     "ename": "TypeError",
     "evalue": "Multiplikation nur mit Skalaren möglich.",
     "output_type": "error",
     "traceback": [
      "\u001b[0;31m---------------------------------------------------------------------------\u001b[0m",
      "\u001b[0;31mTypeError\u001b[0m                                 Traceback (most recent call last)",
      "\u001b[0;32m<ipython-input-28-a9d1e9213e81>\u001b[0m in \u001b[0;36m<module>\u001b[0;34m()\u001b[0m\n\u001b[0;32m----> 1\u001b[0;31m \u001b[0mprint\u001b[0m\u001b[0;34m(\u001b[0m \u001b[0mWC_element\u001b[0m\u001b[0;34m[\u001b[0m\u001b[0;36m5\u001b[0m\u001b[0;34m]\u001b[0m \u001b[0;34m*\u001b[0m \u001b[0mWC_element\u001b[0m\u001b[0;34m[\u001b[0m\u001b[0;36m3\u001b[0m\u001b[0;34m]\u001b[0m \u001b[0;34m)\u001b[0m\u001b[0;34m\u001b[0m\u001b[0m\n\u001b[0m",
      "\u001b[0;32m~/Documents/Studium/Master/SS2018/Kryptographie/KryptographieDiem/projekt/weierstrass_kurvengruppe.py\u001b[0m in \u001b[0;36m__mul__\u001b[0;34m(self, other)\u001b[0m\n\u001b[1;32m    124\u001b[0m \u001b[0;34m\u001b[0m\u001b[0m\n\u001b[1;32m    125\u001b[0m     \u001b[0;32mdef\u001b[0m \u001b[0m__mul__\u001b[0m\u001b[0;34m(\u001b[0m\u001b[0mself\u001b[0m\u001b[0;34m,\u001b[0m \u001b[0mother\u001b[0m\u001b[0;34m)\u001b[0m\u001b[0;34m:\u001b[0m\u001b[0;34m\u001b[0m\u001b[0m\n\u001b[0;32m--> 126\u001b[0;31m         \u001b[0msuper\u001b[0m\u001b[0;34m(\u001b[0m\u001b[0;34m)\u001b[0m\u001b[0;34m.\u001b[0m\u001b[0m__mul__\u001b[0m\u001b[0;34m(\u001b[0m\u001b[0mother\u001b[0m\u001b[0;34m)\u001b[0m\u001b[0;34m\u001b[0m\u001b[0m\n\u001b[0m\u001b[1;32m    127\u001b[0m \u001b[0;34m\u001b[0m\u001b[0m\n\u001b[1;32m    128\u001b[0m         \u001b[0;32mif\u001b[0m \u001b[0;34m(\u001b[0m\u001b[0mother\u001b[0m \u001b[0;34m<\u001b[0m \u001b[0;36m0\u001b[0m\u001b[0;34m)\u001b[0m\u001b[0;34m:\u001b[0m\u001b[0;34m\u001b[0m\u001b[0m\n",
      "\u001b[0;32m~/Documents/Studium/Master/SS2018/Kryptographie/KryptographieDiem/projekt/abstrakte_gruppen.py\u001b[0m in \u001b[0;36m__mul__\u001b[0;34m(self, other)\u001b[0m\n\u001b[1;32m     75\u001b[0m     \u001b[0;32mdef\u001b[0m \u001b[0m__mul__\u001b[0m\u001b[0;34m(\u001b[0m\u001b[0mself\u001b[0m\u001b[0;34m,\u001b[0m \u001b[0mother\u001b[0m\u001b[0;34m)\u001b[0m\u001b[0;34m:\u001b[0m\u001b[0;34m\u001b[0m\u001b[0m\n\u001b[1;32m     76\u001b[0m         \u001b[0;32mif\u001b[0m \u001b[0mtype\u001b[0m\u001b[0;34m(\u001b[0m\u001b[0mother\u001b[0m\u001b[0;34m)\u001b[0m \u001b[0;34m!=\u001b[0m \u001b[0mint\u001b[0m\u001b[0;34m:\u001b[0m\u001b[0;34m\u001b[0m\u001b[0m\n\u001b[0;32m---> 77\u001b[0;31m             \u001b[0;32mraise\u001b[0m \u001b[0mTypeError\u001b[0m\u001b[0;34m(\u001b[0m\u001b[0;34m'Multiplikation nur mit Skalaren möglich.'\u001b[0m\u001b[0;34m)\u001b[0m\u001b[0;34m\u001b[0m\u001b[0m\n\u001b[0m\u001b[1;32m     78\u001b[0m \u001b[0;34m\u001b[0m\u001b[0m\n\u001b[1;32m     79\u001b[0m     \u001b[0;32mdef\u001b[0m \u001b[0m__rmul__\u001b[0m\u001b[0;34m(\u001b[0m\u001b[0mself\u001b[0m\u001b[0;34m,\u001b[0m \u001b[0mother\u001b[0m\u001b[0;34m)\u001b[0m\u001b[0;34m:\u001b[0m\u001b[0;34m\u001b[0m\u001b[0m\n",
      "\u001b[0;31mTypeError\u001b[0m: Multiplikation nur mit Skalaren möglich."
     ]
    }
   ],
   "source": [
    "print( WC_element[5] * WC_element[3] )"
   ]
  },
  {
   "cell_type": "markdown",
   "metadata": {},
   "source": [
    "Aber mit Skalaren funktioniert die Multiplikation:"
   ]
  },
  {
   "cell_type": "code",
   "execution_count": 29,
   "metadata": {},
   "outputs": [
    {
     "name": "stdout",
     "output_type": "stream",
     "text": [
      "True\n",
      "True\n"
     ]
    }
   ],
   "source": [
    "print( 3 * WC_element[9] == WC_element[9] + WC_element[9] + WC_element[9])\n",
    "print( (WC_element[5] + WC_element[3]) * 2 == 2 * WC_element[5] + 2 * WC_element[3] )"
   ]
  },
  {
   "cell_type": "markdown",
   "metadata": {},
   "source": [
    "In unserer abelschen Gruppe gilt Assoziativität und Kommutativität:"
   ]
  },
  {
   "cell_type": "code",
   "execution_count": 30,
   "metadata": {},
   "outputs": [
    {
     "name": "stdout",
     "output_type": "stream",
     "text": [
      "True\n",
      "True\n"
     ]
    }
   ],
   "source": [
    "print( (WC_element[5] + WC_element[3]) +  WC_element[7] == WC_element[5] + (WC_element[3] +  WC_element[7]) )\n",
    "print( WC_element[5] + WC_element[3] == WC_element[3] + WC_element[5] )"
   ]
  },
  {
   "cell_type": "markdown",
   "metadata": {},
   "source": [
    "Wir erhalten das inverse Element mit der Minus-Operation."
   ]
  },
  {
   "cell_type": "code",
   "execution_count": 31,
   "metadata": {},
   "outputs": [
    {
     "name": "stdout",
     "output_type": "stream",
     "text": [
      "(Point_At_Infinity) in WeierstrassKurvengruppe(ring=ℤ/13ℤ, a=[5] in ℤ/13ℤ, b=[4] in ℤ/13ℤ)\n",
      "([0] in ℤ/13ℤ, [11] in ℤ/13ℤ) in WeierstrassKurvengruppe(ring=ℤ/13ℤ, a=[5] in ℤ/13ℤ, b=[4] in ℤ/13ℤ)\n",
      "(Point_At_Infinity) in WeierstrassKurvengruppe(ring=ℤ/13ℤ, a=[5] in ℤ/13ℤ, b=[4] in ℤ/13ℤ)\n"
     ]
    }
   ],
   "source": [
    "print( WC_element[3] - WC_element[3])\n",
    "print( - WC_element[3] )\n",
    "print( - WC.neutral)"
   ]
  },
  {
   "cell_type": "code",
   "execution_count": null,
   "metadata": {},
   "outputs": [],
   "source": []
  }
 ],
 "metadata": {
  "kernelspec": {
   "display_name": "Python 3",
   "language": "python",
   "name": "python3"
  },
  "language_info": {
   "codemirror_mode": {
    "name": "ipython",
    "version": 3
   },
   "file_extension": ".py",
   "mimetype": "text/x-python",
   "name": "python",
   "nbconvert_exporter": "python",
   "pygments_lexer": "ipython3",
   "version": "3.6.5"
  }
 },
 "nbformat": 4,
 "nbformat_minor": 2
}
