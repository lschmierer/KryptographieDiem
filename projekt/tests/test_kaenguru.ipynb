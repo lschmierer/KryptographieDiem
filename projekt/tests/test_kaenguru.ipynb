{
 "cells": [
  {
   "cell_type": "code",
   "execution_count": 1,
   "metadata": {},
   "outputs": [
    {
     "name": "stdout",
     "output_type": "stream",
     "text": [
      "[([1] in ℤ/263ℤ, [3] in ℤ/263ℤ), ([2] in ℤ/263ℤ, [9] in ℤ/263ℤ), ([4] in ℤ/263ℤ, [81] in ℤ/263ℤ), ([8] in ℤ/263ℤ, [249] in ℤ/263ℤ)]\n"
     ]
    },
    {
     "data": {
      "text/plain": [
       "12"
      ]
     },
     "execution_count": 1,
     "metadata": {},
     "output_type": "execute_result"
    }
   ],
   "source": [
    "import project_path\n",
    "from tocas import Restklassenring, Polynomring, PolynomringElement\n",
    "\n",
    "import ha.format_extension\n",
    "import ha.restklassen_extension\n",
    "from ha.polynom_restklassenring import PolynomRestklassenring, PolynomRestklassenringElement\n",
    "\n",
    "from projekt.kaenguru import kaenguru\n",
    "\n",
    "F_263 = Restklassenring(263)\n",
    "g = F_263.element(3) # r = ord(g) = 101 (ist prim)\n",
    "h = F_263.element(181) # = g ^ 12\n",
    "\n",
    "kaenguru(g, h, 263, 0, 52, 3, n_s=4)"
   ]
  },
  {
   "cell_type": "code",
   "execution_count": 2,
   "metadata": {},
   "outputs": [
    {
     "name": "stdout",
     "output_type": "stream",
     "text": [
      "[([1] in ℤ/809ℤ, [89] in ℤ/809ℤ), ([2] in ℤ/809ℤ, [640] in ℤ/809ℤ), ([4] in ℤ/809ℤ, [246] in ℤ/809ℤ), ([8] in ℤ/809ℤ, [650] in ℤ/809ℤ)]\n"
     ]
    },
    {
     "data": {
      "text/plain": [
       "50"
      ]
     },
     "execution_count": 2,
     "metadata": {},
     "output_type": "execute_result"
    }
   ],
   "source": [
    "F_809 = Restklassenring(809)\n",
    "g = F_809.element(89) # r = ord(g) = 101 (ist prim)\n",
    "h = F_809.element(799) # = g ^ 50\n",
    "\n",
    "kaenguru(g, h, 809, 0, 90, 2, n_s=4)"
   ]
  },
  {
   "cell_type": "code",
   "execution_count": null,
   "metadata": {},
   "outputs": [],
   "source": []
  }
 ],
 "metadata": {
  "kernelspec": {
   "display_name": "Python 3",
   "language": "python",
   "name": "python3"
  },
  "language_info": {
   "codemirror_mode": {
    "name": "ipython",
    "version": 3
   },
   "file_extension": ".py",
   "mimetype": "text/x-python",
   "name": "python",
   "nbconvert_exporter": "python",
   "pygments_lexer": "ipython3",
   "version": "3.6.5"
  }
 },
 "nbformat": 4,
 "nbformat_minor": 2
}
