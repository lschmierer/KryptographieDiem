{
 "cells": [
  {
   "cell_type": "code",
   "execution_count": 1,
   "metadata": {},
   "outputs": [
    {
     "data": {
      "text/plain": [
       "12"
      ]
     },
     "execution_count": 1,
     "metadata": {},
     "output_type": "execute_result"
    }
   ],
   "source": [
    "import project_path\n",
    "from tocas import Restklassenring, Polynomring, PolynomringElement\n",
    "\n",
    "import ha.format_extension\n",
    "import ha.restklassen_extension\n",
    "from ha.polynom_restklassenring import PolynomRestklassenring, PolynomRestklassenringElement\n",
    "\n",
    "from projekt.kaenguru import kaenguru\n",
    "\n",
    "F_263 = Restklassenring(263)\n",
    "g = F_263.element(3) # r = ord(g) = 131 (ist prim)\n",
    "h = F_263.element(181) # = g ^ 12\n",
    "\n",
    "kaenguru(g, h, 131, 10, 20, 4, n_s=4)"
   ]
  },
  {
   "cell_type": "code",
   "execution_count": 2,
   "metadata": {},
   "outputs": [
    {
     "data": {
      "text/plain": [
       "50"
      ]
     },
     "execution_count": 2,
     "metadata": {},
     "output_type": "execute_result"
    }
   ],
   "source": [
    "F_809 = Restklassenring(809)\n",
    "g = F_809.element(89) # r = ord(g) = 101 (ist prim)\n",
    "h = F_809.element(799) # = g ^ 50\n",
    "\n",
    "kaenguru(g, h, 809, 0, 90, 2, n_s=4)"
   ]
  },
  {
   "cell_type": "code",
   "execution_count": null,
   "metadata": {},
   "outputs": [],
   "source": []
  }
 ],
 "metadata": {
  "kernelspec": {
   "display_name": "Python 3",
   "language": "python",
   "name": "python3"
  },
  "language_info": {
   "codemirror_mode": {
    "name": "ipython",
    "version": 3
   },
   "file_extension": ".py",
   "mimetype": "text/x-python",
   "name": "python",
   "nbconvert_exporter": "python",
   "pygments_lexer": "ipython3",
   "version": "3.6.5"
  }
 },
 "nbformat": 4,
 "nbformat_minor": 2
}
