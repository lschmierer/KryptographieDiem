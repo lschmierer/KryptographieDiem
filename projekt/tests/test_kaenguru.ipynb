{
 "cells": [
  {
   "cell_type": "markdown",
   "metadata": {},
   "source": [
    "Hier wird die Kängeru-Methode zur Lösung des diskreten Logarithmus getestet!\n",
    "\n",
    "kaenguru(g, h, r, b ,w, n_d, n_s) löst diskrete Logarithmen zwischen b und b + w\n",
    "\n",
    "    h = g ^ a \n",
    "    r.. Ordnung von h\n",
    "    n_d.. Anzahl an least-significant bits an, die null sein müssen,\n",
    "    n_s.. definiert die Länge des Walks."
   ]
  },
  {
   "cell_type": "code",
   "execution_count": 16,
   "metadata": {},
   "outputs": [],
   "source": [
    "import project_path\n",
    "from tocas import Restklassenring, Polynomring, PolynomringElement\n",
    "\n",
    "import ha.format_extension\n",
    "import ha.restklassen_extension\n",
    "from ha.polynom_restklassenring import PolynomRestklassenring, PolynomRestklassenringElement\n",
    "\n",
    "from projekt.weierstrass_kurvengruppe import WeierstrassKurvengruppe, WeierstrassKurvengruppenElement\n",
    "from projekt.edwards_kurvengruppe import EdwardsKurvengruppe, EdwardsKurvengruppenElement\n",
    "\n",
    "from projekt.kaenguru import kaenguru"
   ]
  },
  {
   "cell_type": "markdown",
   "metadata": {},
   "source": [
    "Zunächst 2 Beispiele mit einem Restklassenring:"
   ]
  },
  {
   "cell_type": "code",
   "execution_count": 17,
   "metadata": {},
   "outputs": [
    {
     "data": {
      "text/plain": [
       "12"
      ]
     },
     "execution_count": 17,
     "metadata": {},
     "output_type": "execute_result"
    }
   ],
   "source": [
    "F_263 = Restklassenring(263)\n",
    "g = F_263.element(3) # r = ord(g) = 131 (ist prim)\n",
    "h = F_263.element(181) # = g ^ 12\n",
    "\n",
    "kaenguru(g, h, 131, 10, 20, 4, n_s=4)"
   ]
  },
  {
   "cell_type": "code",
   "execution_count": 18,
   "metadata": {},
   "outputs": [
    {
     "data": {
      "text/plain": [
       "50"
      ]
     },
     "execution_count": 18,
     "metadata": {},
     "output_type": "execute_result"
    }
   ],
   "source": [
    "F_809 = Restklassenring(809)\n",
    "g = F_809.element(89) # r = ord(g) = 101 (ist prim)\n",
    "h = F_809.element(799) # = g ^ 50\n",
    "\n",
    "kaenguru(g, h, 101, 0, 90, 2, n_s=4)"
   ]
  },
  {
   "cell_type": "markdown",
   "metadata": {},
   "source": [
    "Hier noch ein Beispiel mit einem PolynomRestklassenring:"
   ]
  },
  {
   "cell_type": "code",
   "execution_count": 19,
   "metadata": {},
   "outputs": [
    {
     "data": {
      "text/plain": [
       "17"
      ]
     },
     "execution_count": 19,
     "metadata": {},
     "output_type": "execute_result"
    }
   ],
   "source": [
    "F_19 = Restklassenring(19)\n",
    "FX = Polynomring(F_19)\n",
    "FX_g = PolynomRestklassenring(PolynomringElement([1, 0, 1], FX))\n",
    "\n",
    "g = PolynomRestklassenringElement([2, 0, 0], FX_g) # N = 18\n",
    "h = PolynomRestklassenringElement([10, 0, 0], FX_g) # = g ^ 17\n",
    "\n",
    "\n",
    "kaenguru(g, h, 18, 0 ,30, 2, n_s=4)"
   ]
  },
  {
   "cell_type": "markdown",
   "metadata": {},
   "source": [
    "Und noch zwei Beispiele letzes Beispiel mit einer elliptischen Kurve über einen Polynomrestklassenring:"
   ]
  },
  {
   "cell_type": "code",
   "execution_count": 20,
   "metadata": {},
   "outputs": [
    {
     "data": {
      "text/plain": [
       "16"
      ]
     },
     "execution_count": 20,
     "metadata": {},
     "output_type": "execute_result"
    }
   ],
   "source": [
    "F_13 = Restklassenring(13)\n",
    "WC = WeierstrassKurvengruppe(F_13, F_13.element(5), F_13.element(4))\n",
    "\n",
    "g3 = WeierstrassKurvengruppenElement(F_13.element(2), F_13.element(3), WC) # order 17\n",
    "h3 = WeierstrassKurvengruppenElement(F_13.element(2), F_13.element(10), WC) # = g3 * 16\n",
    "\n",
    "kaenguru(g3, h3, 17, 0 ,30, 2, n_s=4)"
   ]
  },
  {
   "cell_type": "code",
   "execution_count": 21,
   "metadata": {},
   "outputs": [
    {
     "data": {
      "text/plain": [
       "32"
      ]
     },
     "execution_count": 21,
     "metadata": {},
     "output_type": "execute_result"
    }
   ],
   "source": [
    "F_647 = Restklassenring(647)\n",
    "EC = EdwardsKurvengruppe(F_647, F_647.element(5))\n",
    "\n",
    "g4 = EdwardsKurvengruppenElement(F_647.element(6), F_647.element(195), EC) # Erzeuger der Ordnung 53\n",
    "h4 =  EdwardsKurvengruppenElement(F_647.element(71), F_647.element(366), EC) # = g4 * 32\n",
    "\n",
    "kaenguru(g4, h4, 53, 0 ,30, 3, n_s=4)"
   ]
  },
  {
   "cell_type": "code",
   "execution_count": null,
   "metadata": {},
   "outputs": [],
   "source": []
  }
 ],
 "metadata": {
  "kernelspec": {
   "display_name": "Python 3",
   "language": "python",
   "name": "python3"
  },
  "language_info": {
   "codemirror_mode": {
    "name": "ipython",
    "version": 3
   },
   "file_extension": ".py",
   "mimetype": "text/x-python",
   "name": "python",
   "nbconvert_exporter": "python",
   "pygments_lexer": "ipython3",
   "version": "3.6.5"
  }
 },
 "nbformat": 4,
 "nbformat_minor": 2
}
