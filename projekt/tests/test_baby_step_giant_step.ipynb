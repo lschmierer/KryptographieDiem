{
 "cells": [
  {
   "cell_type": "raw",
   "metadata": {},
   "source": [
    "Hier wird der Baby-Step Giant-Step Algorithmus zur Lösung des diskreten Logarithmus getestet!"
   ]
  },
  {
   "cell_type": "code",
   "execution_count": 9,
   "metadata": {},
   "outputs": [],
   "source": [
    "import project_path\n",
    "from tocas import Restklassenring, Polynomring, PolynomringElement\n",
    "\n",
    "import ha.format_extension\n",
    "import ha.restklassen_extension\n",
    "from ha.polynom_restklassenring import PolynomRestklassenring, PolynomRestklassenringElement\n",
    "\n",
    "from projekt.edwards_kurvengruppe import EdwardsKurvengruppe, EdwardsKurvengruppenElement\n",
    "from projekt.weierstrass_kurvengruppe import WeierstrassKurvengruppe, WeierstrassKurvengruppenElement\n",
    "from projekt.baby_step_giant_step import baby_step_giant_step\n"
   ]
  },
  {
   "cell_type": "markdown",
   "metadata": {},
   "source": [
    "Beispiel (1) mit Restklassenring:"
   ]
  },
  {
   "cell_type": "code",
   "execution_count": 10,
   "metadata": {},
   "outputs": [
    {
     "data": {
      "text/plain": [
       "16"
      ]
     },
     "execution_count": 10,
     "metadata": {},
     "output_type": "execute_result"
    }
   ],
   "source": [
    "F_19 = Restklassenring(19)\n",
    "g = F_19.element(2) # N = ord(g) = 18\n",
    "h = F_19.element(5) # = g ^ 16\n",
    "\n",
    "baby_step_giant_step(g, h, 18)"
   ]
  },
  {
   "cell_type": "markdown",
   "metadata": {},
   "source": [
    "Beispiel (2) mit PolynomRestklassenring:"
   ]
  },
  {
   "cell_type": "code",
   "execution_count": 11,
   "metadata": {},
   "outputs": [
    {
     "data": {
      "text/plain": [
       "17"
      ]
     },
     "execution_count": 11,
     "metadata": {},
     "output_type": "execute_result"
    }
   ],
   "source": [
    "FX = Polynomring(F_19)\n",
    "FX_g = PolynomRestklassenring(PolynomringElement([1, 0, 1], FX))\n",
    "\n",
    "g2 = PolynomRestklassenringElement([2, 0, 0], FX_g) # N = 18\n",
    "h2 = PolynomRestklassenringElement([10, 0, 0], FX_g) # = g ^ 17\n",
    "\n",
    "\n",
    "baby_step_giant_step(g2, h2, 18)"
   ]
  },
  {
   "cell_type": "markdown",
   "metadata": {},
   "source": [
    "Beispiel (3) mit einer elliptischen Kurve über einen Restklassenring in Weierstrass Darstellung:"
   ]
  },
  {
   "cell_type": "code",
   "execution_count": 12,
   "metadata": {},
   "outputs": [
    {
     "data": {
      "text/plain": [
       "2"
      ]
     },
     "execution_count": 12,
     "metadata": {},
     "output_type": "execute_result"
    }
   ],
   "source": [
    "WC = WeierstrassKurvengruppe(F_19, F_19.element(5), F_19.element(4))\n",
    "# Ord(WC) = 18 => [(2,1),(3,2)]\n",
    "# (10,16) ist ein erzeugender Punkt\n",
    "g3 = WeierstrassKurvengruppenElement(F_19.element(10), F_19.element(16), WC)\n",
    "h3 = WeierstrassKurvengruppenElement(F_19.element(8), F_19.element(9), WC)\n",
    "\n",
    "baby_step_giant_step(g3, h3, 18)\n",
    "# nach sage muss hier 2 heraus kommen"
   ]
  },
  {
   "cell_type": "markdown",
   "metadata": {},
   "source": [
    "Beispiel (4) mit einer elliptischen Kurve über einen Restklassenring in Edwards Darstellung:"
   ]
  },
  {
   "cell_type": "code",
   "execution_count": 13,
   "metadata": {},
   "outputs": [
    {
     "data": {
      "text/plain": [
       "32"
      ]
     },
     "execution_count": 13,
     "metadata": {},
     "output_type": "execute_result"
    }
   ],
   "source": [
    "F_647 = Restklassenring(647)\n",
    "EC = EdwardsKurvengruppe(F_647, F_647.element(5))\n",
    "\n",
    "g4 = EdwardsKurvengruppenElement(F_647.element(6), F_647.element(195), EC) # Erzeuger der Ordnung 53\n",
    "h4 =  EdwardsKurvengruppenElement(F_647.element(71), F_647.element(366), EC) # = g4 * 32\n",
    "\n",
    "baby_step_giant_step(g4, h4, 53)"
   ]
  }
 ],
 "metadata": {
  "kernelspec": {
   "display_name": "Python 3",
   "language": "python",
   "name": "python3"
  },
  "language_info": {
   "codemirror_mode": {
    "name": "ipython",
    "version": 3
   },
   "file_extension": ".py",
   "mimetype": "text/x-python",
   "name": "python",
   "nbconvert_exporter": "python",
   "pygments_lexer": "ipython3",
   "version": "3.6.5"
  }
 },
 "nbformat": 4,
 "nbformat_minor": 2
}
