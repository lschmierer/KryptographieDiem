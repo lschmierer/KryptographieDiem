{
 "cells": [
  {
   "cell_type": "code",
   "execution_count": 1,
   "metadata": {},
   "outputs": [
    {
     "data": {
      "text/plain": [
       "True"
      ]
     },
     "execution_count": 1,
     "metadata": {},
     "output_type": "execute_result"
    }
   ],
   "source": [
    "import project_path\n",
    "from tocas import Restklassenring\n",
    "\n",
    "import ha.format_extension\n",
    "import ha.restklassen_extension\n",
    "from projekt.edwards_kurvengruppe import EdwardsKurvengruppe, EdwardsKurvengruppenElement\n",
    "\n",
    "F_13 = Restklassenring(13)\n",
    "F_13.ist_endlicher_koerper()"
   ]
  },
  {
   "cell_type": "code",
   "execution_count": 2,
   "metadata": {},
   "outputs": [
    {
     "data": {
      "text/plain": [
       "EdwardsKurvengruppe(ring=ℤ/13ℤ, d=[5] in ℤ/13ℤ)"
      ]
     },
     "execution_count": 2,
     "metadata": {},
     "output_type": "execute_result"
    }
   ],
   "source": [
    "EC = EdwardsKurvengruppe(F_13, F_13.element(5))\n",
    "EC"
   ]
  },
  {
   "cell_type": "code",
   "execution_count": 3,
   "metadata": {},
   "outputs": [
    {
     "data": {
      "text/plain": [
       "([0] in ℤ/13ℤ, [1] in ℤ/13ℤ) in EdwardsKurvengruppe(ring=ℤ/13ℤ, d=[5] in ℤ/13ℤ)"
      ]
     },
     "execution_count": 3,
     "metadata": {},
     "output_type": "execute_result"
    }
   ],
   "source": [
    "EC.neutral"
   ]
  },
  {
   "cell_type": "code",
   "execution_count": 4,
   "metadata": {},
   "outputs": [
    {
     "data": {
      "text/plain": [
       "([0] in ℤ/13ℤ, [1] in ℤ/13ℤ) in EdwardsKurvengruppe(ring=ℤ/13ℤ, d=[5] in ℤ/13ℤ)"
      ]
     },
     "execution_count": 4,
     "metadata": {},
     "output_type": "execute_result"
    }
   ],
   "source": [
    "EC.neutral + EC.neutral"
   ]
  },
  {
   "cell_type": "code",
   "execution_count": 5,
   "metadata": {},
   "outputs": [
    {
     "data": {
      "text/plain": [
       "([0] in ℤ/13ℤ, [1] in ℤ/13ℤ) in EdwardsKurvengruppe(ring=ℤ/13ℤ, d=[5] in ℤ/13ℤ)"
      ]
     },
     "execution_count": 5,
     "metadata": {},
     "output_type": "execute_result"
    }
   ],
   "source": [
    "3 * EC.neutral"
   ]
  },
  {
   "cell_type": "code",
   "execution_count": 6,
   "metadata": {},
   "outputs": [
    {
     "data": {
      "text/plain": [
       "([1] in ℤ/13ℤ, [2] in ℤ/13ℤ) in EdwardsKurvengruppe(ring=ℤ/13ℤ, d=[5] in ℤ/13ℤ)"
      ]
     },
     "execution_count": 6,
     "metadata": {},
     "output_type": "execute_result"
    }
   ],
   "source": [
    "EdwardsKurvengruppenElement(F_13.element(1), F_13.element(2), EC)"
   ]
  },
  {
   "cell_type": "code",
   "execution_count": 7,
   "metadata": {},
   "outputs": [
    {
     "data": {
      "text/plain": [
       "([7] in ℤ/13ℤ, [10] in ℤ/13ℤ) in EdwardsKurvengruppe(ring=ℤ/13ℤ, d=[5] in ℤ/13ℤ)"
      ]
     },
     "execution_count": 7,
     "metadata": {},
     "output_type": "execute_result"
    }
   ],
   "source": [
    "EdwardsKurvengruppenElement(F_13.element(1), F_13.element(2), EC) + EdwardsKurvengruppenElement(F_13.element(1), F_13.element(2), EC)"
   ]
  },
  {
   "cell_type": "code",
   "execution_count": 8,
   "metadata": {},
   "outputs": [
    {
     "data": {
      "text/plain": [
       "True"
      ]
     },
     "execution_count": 8,
     "metadata": {},
     "output_type": "execute_result"
    }
   ],
   "source": [
    "EC.ist_endlich()"
   ]
  },
  {
   "cell_type": "code",
   "execution_count": null,
   "metadata": {},
   "outputs": [],
   "source": []
  }
 ],
 "metadata": {
  "kernelspec": {
   "display_name": "Python 3",
   "language": "python",
   "name": "python3"
  },
  "language_info": {
   "codemirror_mode": {
    "name": "ipython",
    "version": 3
   },
   "file_extension": ".py",
   "mimetype": "text/x-python",
   "name": "python",
   "nbconvert_exporter": "python",
   "pygments_lexer": "ipython3",
   "version": "3.6.5"
  }
 },
 "nbformat": 4,
 "nbformat_minor": 2
}
