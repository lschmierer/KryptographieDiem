{
 "cells": [
  {
   "cell_type": "markdown",
   "metadata": {},
   "source": [
    "Wir testen hier grundlegende Funktionen unserer Realisierung Elliptischer Kurven über endliche Körper in Edward-Darstellung."
   ]
  },
  {
   "cell_type": "code",
   "execution_count": 34,
   "metadata": {},
   "outputs": [],
   "source": [
    "import project_path\n",
    "from tocas import Polynomring, PolynomringElement, Restklassenring, RestklassenringElement\n",
    "\n",
    "import ha.ganzzahl_extension\n",
    "import ha.format_extension\n",
    "import ha.restklassen_extension\n",
    "import ha.polynom_extension\n",
    "\n",
    "from sympy import *\n",
    "\n",
    "from ha.polynom_restklassenring import PolynomRestklassenring, PolynomRestklassenringElement\n",
    "\n",
    "from projekt.edwards_kurvengruppe import EdwardsKurvengruppe, EdwardsKurvengruppenElement"
   ]
  },
  {
   "cell_type": "markdown",
   "metadata": {},
   "source": [
    "Wir beginnen mit 2 endlichen Körper (Restklassenring und PolynomRestklassenring):"
   ]
  },
  {
   "cell_type": "code",
   "execution_count": 35,
   "metadata": {},
   "outputs": [
    {
     "name": "stdout",
     "output_type": "stream",
     "text": [
      "ℤ/647ℤ\n",
      "True\n",
      "[ℤ/7ℤ][x]/([1] + [1]*x^2)\n",
      "True\n"
     ]
    }
   ],
   "source": [
    "F_647 = Restklassenring(647)\n",
    "print(F_647)\n",
    "print(F_647.ist_endlicher_koerper())\n",
    "\n",
    "RX = Polynomring(Restklassenring(7))\n",
    "f = PolynomringElement([1, 0, 1], RX)\n",
    "RX_f = PolynomRestklassenring(f)\n",
    "print(RX_f)\n",
    "print(RX_f.ist_endlicher_koerper())"
   ]
  },
  {
   "cell_type": "markdown",
   "metadata": {},
   "source": [
    "Darauf aufbauend erhalten wir elliptische Kurvengruppen:"
   ]
  },
  {
   "cell_type": "code",
   "execution_count": 38,
   "metadata": {},
   "outputs": [
    {
     "name": "stdout",
     "output_type": "stream",
     "text": [
      "EdwardsKurvengruppe(ring=ℤ/647ℤ, d=[5] in ℤ/647ℤ)\n",
      "True\n",
      "EdwardsKurvengruppe(ring=[ℤ/7ℤ][x]/([1] + [1]*x^2), d=[3] in [ℤ/7ℤ][x]/([1] + [1]*x^2))\n"
     ]
    }
   ],
   "source": [
    "EC = EdwardsKurvengruppe(F_647, F_647.element(5))\n",
    "print(EC)\n",
    "print(EC.ist_endlich())\n",
    "EC2 = EdwardsKurvengruppe(RX_f, RX_f.element([3]))\n",
    "print(EC2)"
   ]
  },
  {
   "cell_type": "markdown",
   "metadata": {},
   "source": [
    "Wir erzeugen mit (6,195) eine zyklische Gruppe.  \n",
    "Wir speichern uns die Elemente in einer Liste EC_element."
   ]
  },
  {
   "cell_type": "code",
   "execution_count": 39,
   "metadata": {},
   "outputs": [
    {
     "name": "stdout",
     "output_type": "stream",
     "text": [
      "0 : ([0] in ℤ/647ℤ, [1] in ℤ/647ℤ) in EdwardsKurvengruppe(ring=ℤ/647ℤ, d=[5] in ℤ/647ℤ)\n",
      "1 : ([6] in ℤ/647ℤ, [195] in ℤ/647ℤ) in EdwardsKurvengruppe(ring=ℤ/647ℤ, d=[5] in ℤ/647ℤ)\n",
      "2 : ([603] in ℤ/647ℤ, [180] in ℤ/647ℤ) in EdwardsKurvengruppe(ring=ℤ/647ℤ, d=[5] in ℤ/647ℤ)\n",
      "3 : ([599] in ℤ/647ℤ, [445] in ℤ/647ℤ) in EdwardsKurvengruppe(ring=ℤ/647ℤ, d=[5] in ℤ/647ℤ)\n",
      "4 : ([295] in ℤ/647ℤ, [89] in ℤ/647ℤ) in EdwardsKurvengruppe(ring=ℤ/647ℤ, d=[5] in ℤ/647ℤ)\n",
      "5 : ([267] in ℤ/647ℤ, [162] in ℤ/647ℤ) in EdwardsKurvengruppe(ring=ℤ/647ℤ, d=[5] in ℤ/647ℤ)\n",
      "6 : ([188] in ℤ/647ℤ, [225] in ℤ/647ℤ) in EdwardsKurvengruppe(ring=ℤ/647ℤ, d=[5] in ℤ/647ℤ)\n",
      "7 : ([606] in ℤ/647ℤ, [121] in ℤ/647ℤ) in EdwardsKurvengruppe(ring=ℤ/647ℤ, d=[5] in ℤ/647ℤ)\n",
      "8 : ([47] in ℤ/647ℤ, [97] in ℤ/647ℤ) in EdwardsKurvengruppe(ring=ℤ/647ℤ, d=[5] in ℤ/647ℤ)\n",
      "9 : ([450] in ℤ/647ℤ, [520] in ℤ/647ℤ) in EdwardsKurvengruppe(ring=ℤ/647ℤ, d=[5] in ℤ/647ℤ)\n",
      "10 : ([372] in ℤ/647ℤ, [286] in ℤ/647ℤ) in EdwardsKurvengruppe(ring=ℤ/647ℤ, d=[5] in ℤ/647ℤ)\n",
      "11 : ([22] in ℤ/647ℤ, [25] in ℤ/647ℤ) in EdwardsKurvengruppe(ring=ℤ/647ℤ, d=[5] in ℤ/647ℤ)\n",
      "12 : ([499] in ℤ/647ℤ, [128] in ℤ/647ℤ) in EdwardsKurvengruppe(ring=ℤ/647ℤ, d=[5] in ℤ/647ℤ)\n",
      "13 : ([95] in ℤ/647ℤ, [72] in ℤ/647ℤ) in EdwardsKurvengruppe(ring=ℤ/647ℤ, d=[5] in ℤ/647ℤ)\n",
      "14 : ([245] in ℤ/647ℤ, [513] in ℤ/647ℤ) in EdwardsKurvengruppe(ring=ℤ/647ℤ, d=[5] in ℤ/647ℤ)\n",
      "15 : ([218] in ℤ/647ℤ, [257] in ℤ/647ℤ) in EdwardsKurvengruppe(ring=ℤ/647ℤ, d=[5] in ℤ/647ℤ)\n",
      "16 : ([460] in ℤ/647ℤ, [240] in ℤ/647ℤ) in EdwardsKurvengruppe(ring=ℤ/647ℤ, d=[5] in ℤ/647ℤ)\n",
      "17 : ([511] in ℤ/647ℤ, [480] in ℤ/647ℤ) in EdwardsKurvengruppe(ring=ℤ/647ℤ, d=[5] in ℤ/647ℤ)\n",
      "18 : ([541] in ℤ/647ℤ, [131] in ℤ/647ℤ) in EdwardsKurvengruppe(ring=ℤ/647ℤ, d=[5] in ℤ/647ℤ)\n",
      "19 : ([199] in ℤ/647ℤ, [433] in ℤ/647ℤ) in EdwardsKurvengruppe(ring=ℤ/647ℤ, d=[5] in ℤ/647ℤ)\n",
      "20 : ([184] in ℤ/647ℤ, [508] in ℤ/647ℤ) in EdwardsKurvengruppe(ring=ℤ/647ℤ, d=[5] in ℤ/647ℤ)\n",
      "21 : ([576] in ℤ/647ℤ, [366] in ℤ/647ℤ) in EdwardsKurvengruppe(ring=ℤ/647ℤ, d=[5] in ℤ/647ℤ)\n",
      "22 : ([64] in ℤ/647ℤ, [454] in ℤ/647ℤ) in EdwardsKurvengruppe(ring=ℤ/647ℤ, d=[5] in ℤ/647ℤ)\n",
      "23 : ([444] in ℤ/647ℤ, [255] in ℤ/647ℤ) in EdwardsKurvengruppe(ring=ℤ/647ℤ, d=[5] in ℤ/647ℤ)\n",
      "24 : ([115] in ℤ/647ℤ, [484] in ℤ/647ℤ) in EdwardsKurvengruppe(ring=ℤ/647ℤ, d=[5] in ℤ/647ℤ)\n",
      "25 : ([517] in ℤ/647ℤ, [147] in ℤ/647ℤ) in EdwardsKurvengruppe(ring=ℤ/647ℤ, d=[5] in ℤ/647ℤ)\n",
      "26 : ([488] in ℤ/647ℤ, [337] in ℤ/647ℤ) in EdwardsKurvengruppe(ring=ℤ/647ℤ, d=[5] in ℤ/647ℤ)\n",
      "27 : ([159] in ℤ/647ℤ, [337] in ℤ/647ℤ) in EdwardsKurvengruppe(ring=ℤ/647ℤ, d=[5] in ℤ/647ℤ)\n",
      "28 : ([130] in ℤ/647ℤ, [147] in ℤ/647ℤ) in EdwardsKurvengruppe(ring=ℤ/647ℤ, d=[5] in ℤ/647ℤ)\n",
      "29 : ([532] in ℤ/647ℤ, [484] in ℤ/647ℤ) in EdwardsKurvengruppe(ring=ℤ/647ℤ, d=[5] in ℤ/647ℤ)\n",
      "30 : ([203] in ℤ/647ℤ, [255] in ℤ/647ℤ) in EdwardsKurvengruppe(ring=ℤ/647ℤ, d=[5] in ℤ/647ℤ)\n",
      "31 : ([583] in ℤ/647ℤ, [454] in ℤ/647ℤ) in EdwardsKurvengruppe(ring=ℤ/647ℤ, d=[5] in ℤ/647ℤ)\n",
      "32 : ([71] in ℤ/647ℤ, [366] in ℤ/647ℤ) in EdwardsKurvengruppe(ring=ℤ/647ℤ, d=[5] in ℤ/647ℤ)\n",
      "33 : ([463] in ℤ/647ℤ, [508] in ℤ/647ℤ) in EdwardsKurvengruppe(ring=ℤ/647ℤ, d=[5] in ℤ/647ℤ)\n",
      "34 : ([448] in ℤ/647ℤ, [433] in ℤ/647ℤ) in EdwardsKurvengruppe(ring=ℤ/647ℤ, d=[5] in ℤ/647ℤ)\n",
      "35 : ([106] in ℤ/647ℤ, [131] in ℤ/647ℤ) in EdwardsKurvengruppe(ring=ℤ/647ℤ, d=[5] in ℤ/647ℤ)\n",
      "36 : ([136] in ℤ/647ℤ, [480] in ℤ/647ℤ) in EdwardsKurvengruppe(ring=ℤ/647ℤ, d=[5] in ℤ/647ℤ)\n",
      "37 : ([187] in ℤ/647ℤ, [240] in ℤ/647ℤ) in EdwardsKurvengruppe(ring=ℤ/647ℤ, d=[5] in ℤ/647ℤ)\n",
      "38 : ([429] in ℤ/647ℤ, [257] in ℤ/647ℤ) in EdwardsKurvengruppe(ring=ℤ/647ℤ, d=[5] in ℤ/647ℤ)\n",
      "39 : ([402] in ℤ/647ℤ, [513] in ℤ/647ℤ) in EdwardsKurvengruppe(ring=ℤ/647ℤ, d=[5] in ℤ/647ℤ)\n",
      "40 : ([552] in ℤ/647ℤ, [72] in ℤ/647ℤ) in EdwardsKurvengruppe(ring=ℤ/647ℤ, d=[5] in ℤ/647ℤ)\n",
      "41 : ([148] in ℤ/647ℤ, [128] in ℤ/647ℤ) in EdwardsKurvengruppe(ring=ℤ/647ℤ, d=[5] in ℤ/647ℤ)\n",
      "42 : ([625] in ℤ/647ℤ, [25] in ℤ/647ℤ) in EdwardsKurvengruppe(ring=ℤ/647ℤ, d=[5] in ℤ/647ℤ)\n",
      "43 : ([275] in ℤ/647ℤ, [286] in ℤ/647ℤ) in EdwardsKurvengruppe(ring=ℤ/647ℤ, d=[5] in ℤ/647ℤ)\n",
      "44 : ([197] in ℤ/647ℤ, [520] in ℤ/647ℤ) in EdwardsKurvengruppe(ring=ℤ/647ℤ, d=[5] in ℤ/647ℤ)\n",
      "45 : ([600] in ℤ/647ℤ, [97] in ℤ/647ℤ) in EdwardsKurvengruppe(ring=ℤ/647ℤ, d=[5] in ℤ/647ℤ)\n",
      "46 : ([41] in ℤ/647ℤ, [121] in ℤ/647ℤ) in EdwardsKurvengruppe(ring=ℤ/647ℤ, d=[5] in ℤ/647ℤ)\n",
      "47 : ([459] in ℤ/647ℤ, [225] in ℤ/647ℤ) in EdwardsKurvengruppe(ring=ℤ/647ℤ, d=[5] in ℤ/647ℤ)\n",
      "48 : ([380] in ℤ/647ℤ, [162] in ℤ/647ℤ) in EdwardsKurvengruppe(ring=ℤ/647ℤ, d=[5] in ℤ/647ℤ)\n",
      "49 : ([352] in ℤ/647ℤ, [89] in ℤ/647ℤ) in EdwardsKurvengruppe(ring=ℤ/647ℤ, d=[5] in ℤ/647ℤ)\n",
      "50 : ([48] in ℤ/647ℤ, [445] in ℤ/647ℤ) in EdwardsKurvengruppe(ring=ℤ/647ℤ, d=[5] in ℤ/647ℤ)\n",
      "51 : ([44] in ℤ/647ℤ, [180] in ℤ/647ℤ) in EdwardsKurvengruppe(ring=ℤ/647ℤ, d=[5] in ℤ/647ℤ)\n",
      "52 : ([641] in ℤ/647ℤ, [195] in ℤ/647ℤ) in EdwardsKurvengruppe(ring=ℤ/647ℤ, d=[5] in ℤ/647ℤ)\n"
     ]
    }
   ],
   "source": [
    "erzeuger = EdwardsKurvengruppenElement(F_647.element(6), F_647.element(195), EC)\n",
    "EC_element = []\n",
    "\n",
    "current = EC.neutral\n",
    "i=0\n",
    "while True:\n",
    "    print(str(i) + \" : \" + str(current))\n",
    "    current = current + erzeuger\n",
    "    EC_element.append(current)\n",
    "    i+=1\n",
    "    if current == EC.neutral:\n",
    "        break\n"
   ]
  },
  {
   "cell_type": "markdown",
   "metadata": {},
   "source": [
    "Wir testen nun die Arithmetik über unserer additven Kurvengruppe:"
   ]
  },
  {
   "cell_type": "code",
   "execution_count": 40,
   "metadata": {},
   "outputs": [
    {
     "name": "stdout",
     "output_type": "stream",
     "text": [
      "([295] in ℤ/647ℤ, [89] in ℤ/647ℤ) in EdwardsKurvengruppe(ring=ℤ/647ℤ, d=[5] in ℤ/647ℤ)\n",
      "([606] in ℤ/647ℤ, [121] in ℤ/647ℤ) in EdwardsKurvengruppe(ring=ℤ/647ℤ, d=[5] in ℤ/647ℤ)\n",
      "([22] in ℤ/647ℤ, [25] in ℤ/647ℤ) in EdwardsKurvengruppe(ring=ℤ/647ℤ, d=[5] in ℤ/647ℤ)\n",
      "([245] in ℤ/647ℤ, [513] in ℤ/647ℤ) in EdwardsKurvengruppe(ring=ℤ/647ℤ, d=[5] in ℤ/647ℤ)\n"
     ]
    }
   ],
   "source": [
    "print( EC_element[3] )\n",
    "print( EC_element[6] )\n",
    "print( EC_element[6] + EC_element[3] )\n",
    "print( EC_element[6] * 2 )"
   ]
  },
  {
   "cell_type": "markdown",
   "metadata": {},
   "source": [
    "Das neutrale Element ist der Punkt (0,1)"
   ]
  },
  {
   "cell_type": "code",
   "execution_count": 41,
   "metadata": {},
   "outputs": [
    {
     "name": "stdout",
     "output_type": "stream",
     "text": [
      "([0] in ℤ/647ℤ, [1] in ℤ/647ℤ) in EdwardsKurvengruppe(ring=ℤ/647ℤ, d=[5] in ℤ/647ℤ)\n",
      "([0] in ℤ/647ℤ, [1] in ℤ/647ℤ) in EdwardsKurvengruppe(ring=ℤ/647ℤ, d=[5] in ℤ/647ℤ)\n",
      "([0] in ℤ/647ℤ, [1] in ℤ/647ℤ) in EdwardsKurvengruppe(ring=ℤ/647ℤ, d=[5] in ℤ/647ℤ)\n",
      "True\n"
     ]
    }
   ],
   "source": [
    "print(EC.neutral)\n",
    "print(EC.neutral + EC.neutral)\n",
    "print(EC.neutral * 3)\n",
    "print(EC_element[5] == EC_element[5] + EC.neutral )"
   ]
  },
  {
   "cell_type": "markdown",
   "metadata": {},
   "source": [
    "Multiplikation funktioniert natürlich nur mit Skalaren:"
   ]
  },
  {
   "cell_type": "code",
   "execution_count": 42,
   "metadata": {},
   "outputs": [
    {
     "ename": "TypeError",
     "evalue": "Multiplikation nur mit Skalaren möglich.",
     "output_type": "error",
     "traceback": [
      "\u001b[0;31m---------------------------------------------------------------------------\u001b[0m",
      "\u001b[0;31mTypeError\u001b[0m                                 Traceback (most recent call last)",
      "\u001b[0;32m<ipython-input-42-f7f81ce0c795>\u001b[0m in \u001b[0;36m<module>\u001b[0;34m()\u001b[0m\n\u001b[0;32m----> 1\u001b[0;31m \u001b[0mprint\u001b[0m\u001b[0;34m(\u001b[0m \u001b[0mEC_element\u001b[0m\u001b[0;34m[\u001b[0m\u001b[0;36m5\u001b[0m\u001b[0;34m]\u001b[0m \u001b[0;34m*\u001b[0m \u001b[0mEC_element\u001b[0m\u001b[0;34m[\u001b[0m\u001b[0;36m3\u001b[0m\u001b[0;34m]\u001b[0m \u001b[0;34m)\u001b[0m\u001b[0;34m\u001b[0m\u001b[0m\n\u001b[0m",
      "\u001b[0;32m~/Documents/Studium/Master/SS2018/Kryptographie/KryptographieDiem/projekt/edwards_kurvengruppe.py\u001b[0m in \u001b[0;36m__mul__\u001b[0;34m(self, other)\u001b[0m\n\u001b[1;32m    100\u001b[0m \u001b[0;34m\u001b[0m\u001b[0m\n\u001b[1;32m    101\u001b[0m     \u001b[0;32mdef\u001b[0m \u001b[0m__mul__\u001b[0m\u001b[0;34m(\u001b[0m\u001b[0mself\u001b[0m\u001b[0;34m,\u001b[0m \u001b[0mother\u001b[0m\u001b[0;34m)\u001b[0m\u001b[0;34m:\u001b[0m\u001b[0;34m\u001b[0m\u001b[0m\n\u001b[0;32m--> 102\u001b[0;31m         \u001b[0msuper\u001b[0m\u001b[0;34m(\u001b[0m\u001b[0;34m)\u001b[0m\u001b[0;34m.\u001b[0m\u001b[0m__mul__\u001b[0m\u001b[0;34m(\u001b[0m\u001b[0mother\u001b[0m\u001b[0;34m)\u001b[0m\u001b[0;34m\u001b[0m\u001b[0m\n\u001b[0m\u001b[1;32m    103\u001b[0m \u001b[0;34m\u001b[0m\u001b[0m\n\u001b[1;32m    104\u001b[0m         \u001b[0;32mif\u001b[0m \u001b[0;34m(\u001b[0m\u001b[0mother\u001b[0m \u001b[0;34m<\u001b[0m \u001b[0;36m0\u001b[0m\u001b[0;34m)\u001b[0m\u001b[0;34m:\u001b[0m\u001b[0;34m\u001b[0m\u001b[0m\n",
      "\u001b[0;32m~/Documents/Studium/Master/SS2018/Kryptographie/KryptographieDiem/projekt/abstrakte_gruppen.py\u001b[0m in \u001b[0;36m__mul__\u001b[0;34m(self, other)\u001b[0m\n\u001b[1;32m     76\u001b[0m     \u001b[0;32mdef\u001b[0m \u001b[0m__mul__\u001b[0m\u001b[0;34m(\u001b[0m\u001b[0mself\u001b[0m\u001b[0;34m,\u001b[0m \u001b[0mother\u001b[0m\u001b[0;34m)\u001b[0m\u001b[0;34m:\u001b[0m\u001b[0;34m\u001b[0m\u001b[0m\n\u001b[1;32m     77\u001b[0m         \u001b[0;32mif\u001b[0m \u001b[0mtype\u001b[0m\u001b[0;34m(\u001b[0m\u001b[0mother\u001b[0m\u001b[0;34m)\u001b[0m \u001b[0;34m!=\u001b[0m \u001b[0mint\u001b[0m\u001b[0;34m:\u001b[0m\u001b[0;34m\u001b[0m\u001b[0m\n\u001b[0;32m---> 78\u001b[0;31m             \u001b[0;32mraise\u001b[0m \u001b[0mTypeError\u001b[0m\u001b[0;34m(\u001b[0m\u001b[0;34m'Multiplikation nur mit Skalaren möglich.'\u001b[0m\u001b[0;34m)\u001b[0m\u001b[0;34m\u001b[0m\u001b[0m\n\u001b[0m\u001b[1;32m     79\u001b[0m \u001b[0;34m\u001b[0m\u001b[0m\n\u001b[1;32m     80\u001b[0m     \u001b[0;32mdef\u001b[0m \u001b[0m__rmul__\u001b[0m\u001b[0;34m(\u001b[0m\u001b[0mself\u001b[0m\u001b[0;34m,\u001b[0m \u001b[0mother\u001b[0m\u001b[0;34m)\u001b[0m\u001b[0;34m:\u001b[0m\u001b[0;34m\u001b[0m\u001b[0m\n",
      "\u001b[0;31mTypeError\u001b[0m: Multiplikation nur mit Skalaren möglich."
     ]
    }
   ],
   "source": [
    "print( EC_element[5] * EC_element[3] )"
   ]
  },
  {
   "cell_type": "markdown",
   "metadata": {},
   "source": [
    "Aber mit Skalaren funktioniert die Multiplikation:"
   ]
  },
  {
   "cell_type": "code",
   "execution_count": 43,
   "metadata": {},
   "outputs": [
    {
     "name": "stdout",
     "output_type": "stream",
     "text": [
      "True\n",
      "True\n"
     ]
    }
   ],
   "source": [
    "print( 3 * EC_element[9] == EC_element[9] + EC_element[9] + EC_element[9])\n",
    "print( (EC_element[5] + EC_element[3]) * 2 == 2 * EC_element[5] + 2 * EC_element[3] )"
   ]
  },
  {
   "cell_type": "markdown",
   "metadata": {},
   "source": [
    "In unserer abelschen Gruppe gilt Assoziativität und Kommutativität:"
   ]
  },
  {
   "cell_type": "code",
   "execution_count": 44,
   "metadata": {},
   "outputs": [
    {
     "name": "stdout",
     "output_type": "stream",
     "text": [
      "True\n",
      "True\n"
     ]
    }
   ],
   "source": [
    "print( (EC_element[5] + EC_element[3]) +  EC_element[7] == EC_element[5] + (EC_element[3] +  EC_element[7]) )\n",
    "print( EC_element[5] + EC_element[3] == EC_element[3] + EC_element[5] )"
   ]
  },
  {
   "cell_type": "markdown",
   "metadata": {},
   "source": [
    "Wir erhalten das inverse Element mit der Minus-Operation:"
   ]
  },
  {
   "cell_type": "code",
   "execution_count": 45,
   "metadata": {},
   "outputs": [
    {
     "name": "stdout",
     "output_type": "stream",
     "text": [
      "([267] in ℤ/647ℤ, [162] in ℤ/647ℤ) in EdwardsKurvengruppe(ring=ℤ/647ℤ, d=[5] in ℤ/647ℤ)\n",
      "([380] in ℤ/647ℤ, [162] in ℤ/647ℤ) in EdwardsKurvengruppe(ring=ℤ/647ℤ, d=[5] in ℤ/647ℤ)\n",
      "([0] in ℤ/647ℤ, [1] in ℤ/647ℤ) in EdwardsKurvengruppe(ring=ℤ/647ℤ, d=[5] in ℤ/647ℤ)\n",
      "([0] in ℤ/647ℤ, [1] in ℤ/647ℤ) in EdwardsKurvengruppe(ring=ℤ/647ℤ, d=[5] in ℤ/647ℤ)\n"
     ]
    }
   ],
   "source": [
    "print( EC_element[4] )\n",
    "print( - EC_element[4] )\n",
    "print( EC_element[4] - EC_element[4])\n",
    "print( EC.neutral)"
   ]
  }
 ],
 "metadata": {
  "kernelspec": {
   "display_name": "Python 3",
   "language": "python",
   "name": "python3"
  },
  "language_info": {
   "codemirror_mode": {
    "name": "ipython",
    "version": 3
   },
   "file_extension": ".py",
   "mimetype": "text/x-python",
   "name": "python",
   "nbconvert_exporter": "python",
   "pygments_lexer": "ipython3",
   "version": "3.6.5"
  }
 },
 "nbformat": 4,
 "nbformat_minor": 2
}
