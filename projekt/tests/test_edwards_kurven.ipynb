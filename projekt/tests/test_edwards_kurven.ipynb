{
 "cells": [
  {
   "cell_type": "markdown",
   "metadata": {},
   "source": [
    "Wir testen hier grundlegende Funktionen unserer Realisierung Elliptischer Kurven über endliche Körper in Edward-Darstellung."
   ]
  },
  {
   "cell_type": "code",
   "execution_count": 50,
   "metadata": {},
   "outputs": [],
   "source": [
    "import project_path\n",
    "from tocas import Polynomring, PolynomringElement, Restklassenring\n",
    "\n",
    "import ha.ganzzahl_extension\n",
    "import ha.format_extension\n",
    "import ha.restklassen_extension\n",
    "import ha.polynom_extension\n",
    "\n",
    "from ha.polynom_restklassenring import PolynomRestklassenring, PolynomRestklassenringElement\n",
    "\n",
    "from projekt.edwards_kurvengruppe import EdwardsKurvengruppe, EdwardsKurvengruppenElement"
   ]
  },
  {
   "cell_type": "markdown",
   "metadata": {},
   "source": [
    "Wir beginnen mit 2 endlichen Körper (Restklassenring und PolynomRestklassenring):"
   ]
  },
  {
   "cell_type": "code",
   "execution_count": 51,
   "metadata": {},
   "outputs": [
    {
     "name": "stdout",
     "output_type": "stream",
     "text": [
      "ℤ/13ℤ\n",
      "True\n",
      "[ℤ/7ℤ][x]/([1] + [1]*x^2)\n",
      "True\n"
     ]
    }
   ],
   "source": [
    "F_13 = Restklassenring(13)\n",
    "print(F_13)\n",
    "print(F_13.ist_endlicher_koerper())\n",
    "\n",
    "RX = Polynomring(Restklassenring(7))\n",
    "f = PolynomringElement([1, 0, 1], RX)\n",
    "RX_f = PolynomRestklassenring(f)\n",
    "print(RX_f)\n",
    "print(RX_f.ist_endlicher_koerper())"
   ]
  },
  {
   "cell_type": "markdown",
   "metadata": {},
   "source": [
    "Darauf aufbauend erhalten wir elliptische Kurvengruppen:"
   ]
  },
  {
   "cell_type": "code",
   "execution_count": 52,
   "metadata": {},
   "outputs": [
    {
     "name": "stdout",
     "output_type": "stream",
     "text": [
      "EdwardsKurvengruppe(ring=ℤ/13ℤ, d=[5] in ℤ/13ℤ)\n",
      "True\n",
      "EdwardsKurvengruppe(ring=[ℤ/7ℤ][x]/([1] + [1]*x^2), d=[3] in [ℤ/7ℤ][x]/([1] + [1]*x^2))\n"
     ]
    }
   ],
   "source": [
    "EC = EdwardsKurvengruppe(F_13, F_13.element(5))\n",
    "print(EC)\n",
    "print(EC.ist_endlich())\n",
    "EC2 = EdwardsKurvengruppe(RX_f, RX_f.element([3]))\n",
    "print(EC2)"
   ]
  },
  {
   "cell_type": "markdown",
   "metadata": {},
   "source": [
    "Wir erzeugen mit (1,1) eine zyklische Gruppe.  \n",
    "Wir speichern uns die Elemente in einer Liste EC_element."
   ]
  },
  {
   "cell_type": "code",
   "execution_count": 53,
   "metadata": {},
   "outputs": [
    {
     "name": "stdout",
     "output_type": "stream",
     "text": [
      "0 : ([0] in ℤ/13ℤ, [1] in ℤ/13ℤ) in EdwardsKurvengruppe(ring=ℤ/13ℤ, d=[5] in ℤ/13ℤ)\n",
      "1 : ([1] in ℤ/13ℤ, [1] in ℤ/13ℤ) in EdwardsKurvengruppe(ring=ℤ/13ℤ, d=[5] in ℤ/13ℤ)\n",
      "2 : ([9] in ℤ/13ℤ, [0] in ℤ/13ℤ) in EdwardsKurvengruppe(ring=ℤ/13ℤ, d=[5] in ℤ/13ℤ)\n",
      "3 : ([9] in ℤ/13ℤ, [4] in ℤ/13ℤ) in EdwardsKurvengruppe(ring=ℤ/13ℤ, d=[5] in ℤ/13ℤ)\n",
      "4 : ([0] in ℤ/13ℤ, [7] in ℤ/13ℤ) in EdwardsKurvengruppe(ring=ℤ/13ℤ, d=[5] in ℤ/13ℤ)\n",
      "5 : ([7] in ℤ/13ℤ, [7] in ℤ/13ℤ) in EdwardsKurvengruppe(ring=ℤ/13ℤ, d=[5] in ℤ/13ℤ)\n",
      "6 : ([12] in ℤ/13ℤ, [0] in ℤ/13ℤ) in EdwardsKurvengruppe(ring=ℤ/13ℤ, d=[5] in ℤ/13ℤ)\n",
      "7 : ([12] in ℤ/13ℤ, [1] in ℤ/13ℤ) in EdwardsKurvengruppe(ring=ℤ/13ℤ, d=[5] in ℤ/13ℤ)\n",
      "8 : ([0] in ℤ/13ℤ, [9] in ℤ/13ℤ) in EdwardsKurvengruppe(ring=ℤ/13ℤ, d=[5] in ℤ/13ℤ)\n",
      "9 : ([9] in ℤ/13ℤ, [9] in ℤ/13ℤ) in EdwardsKurvengruppe(ring=ℤ/13ℤ, d=[5] in ℤ/13ℤ)\n",
      "10 : ([6] in ℤ/13ℤ, [0] in ℤ/13ℤ) in EdwardsKurvengruppe(ring=ℤ/13ℤ, d=[5] in ℤ/13ℤ)\n",
      "11 : ([6] in ℤ/13ℤ, [7] in ℤ/13ℤ) in EdwardsKurvengruppe(ring=ℤ/13ℤ, d=[5] in ℤ/13ℤ)\n",
      "12 : ([0] in ℤ/13ℤ, [12] in ℤ/13ℤ) in EdwardsKurvengruppe(ring=ℤ/13ℤ, d=[5] in ℤ/13ℤ)\n",
      "13 : ([12] in ℤ/13ℤ, [12] in ℤ/13ℤ) in EdwardsKurvengruppe(ring=ℤ/13ℤ, d=[5] in ℤ/13ℤ)\n",
      "14 : ([4] in ℤ/13ℤ, [0] in ℤ/13ℤ) in EdwardsKurvengruppe(ring=ℤ/13ℤ, d=[5] in ℤ/13ℤ)\n",
      "15 : ([4] in ℤ/13ℤ, [9] in ℤ/13ℤ) in EdwardsKurvengruppe(ring=ℤ/13ℤ, d=[5] in ℤ/13ℤ)\n",
      "16 : ([0] in ℤ/13ℤ, [6] in ℤ/13ℤ) in EdwardsKurvengruppe(ring=ℤ/13ℤ, d=[5] in ℤ/13ℤ)\n",
      "17 : ([6] in ℤ/13ℤ, [6] in ℤ/13ℤ) in EdwardsKurvengruppe(ring=ℤ/13ℤ, d=[5] in ℤ/13ℤ)\n",
      "18 : ([1] in ℤ/13ℤ, [0] in ℤ/13ℤ) in EdwardsKurvengruppe(ring=ℤ/13ℤ, d=[5] in ℤ/13ℤ)\n",
      "19 : ([1] in ℤ/13ℤ, [12] in ℤ/13ℤ) in EdwardsKurvengruppe(ring=ℤ/13ℤ, d=[5] in ℤ/13ℤ)\n",
      "20 : ([0] in ℤ/13ℤ, [4] in ℤ/13ℤ) in EdwardsKurvengruppe(ring=ℤ/13ℤ, d=[5] in ℤ/13ℤ)\n",
      "21 : ([4] in ℤ/13ℤ, [4] in ℤ/13ℤ) in EdwardsKurvengruppe(ring=ℤ/13ℤ, d=[5] in ℤ/13ℤ)\n",
      "22 : ([7] in ℤ/13ℤ, [0] in ℤ/13ℤ) in EdwardsKurvengruppe(ring=ℤ/13ℤ, d=[5] in ℤ/13ℤ)\n",
      "23 : ([7] in ℤ/13ℤ, [6] in ℤ/13ℤ) in EdwardsKurvengruppe(ring=ℤ/13ℤ, d=[5] in ℤ/13ℤ)\n"
     ]
    }
   ],
   "source": [
    "erzeuger = EdwardsKurvengruppenElement(F_13.element(1), F_13.element(1), EC)\n",
    "EC_element = []\n",
    "\n",
    "current = EC.neutral\n",
    "i=0\n",
    "while True:\n",
    "    print(str(i) + \" : \" + str(current))\n",
    "    current = current + erzeuger\n",
    "    EC_element.append(current)\n",
    "    i+=1\n",
    "    if current == EC.neutral:\n",
    "        break\n"
   ]
  },
  {
   "cell_type": "markdown",
   "metadata": {},
   "source": [
    "Wir testen nun die Arithmetik über unserer additven Kurvengruppe:"
   ]
  },
  {
   "cell_type": "code",
   "execution_count": 54,
   "metadata": {},
   "outputs": [
    {
     "name": "stdout",
     "output_type": "stream",
     "text": [
      "([0] in ℤ/13ℤ, [7] in ℤ/13ℤ) in EdwardsKurvengruppe(ring=ℤ/13ℤ, d=[5] in ℤ/13ℤ)\n",
      "([12] in ℤ/13ℤ, [1] in ℤ/13ℤ) in EdwardsKurvengruppe(ring=ℤ/13ℤ, d=[5] in ℤ/13ℤ)\n",
      "([6] in ℤ/13ℤ, [7] in ℤ/13ℤ) in EdwardsKurvengruppe(ring=ℤ/13ℤ, d=[5] in ℤ/13ℤ)\n",
      "([4] in ℤ/13ℤ, [0] in ℤ/13ℤ) in EdwardsKurvengruppe(ring=ℤ/13ℤ, d=[5] in ℤ/13ℤ)\n"
     ]
    }
   ],
   "source": [
    "print( EC_element[3] )\n",
    "print( EC_element[6] )\n",
    "print( EC_element[6] + EC_element[3] )\n",
    "print( EC_element[6] * 2 )"
   ]
  },
  {
   "cell_type": "markdown",
   "metadata": {},
   "source": [
    "Das neutrale Element ist der Punkt (0,1)"
   ]
  },
  {
   "cell_type": "code",
   "execution_count": 55,
   "metadata": {},
   "outputs": [
    {
     "name": "stdout",
     "output_type": "stream",
     "text": [
      "([0] in ℤ/13ℤ, [1] in ℤ/13ℤ) in EdwardsKurvengruppe(ring=ℤ/13ℤ, d=[5] in ℤ/13ℤ)\n",
      "([0] in ℤ/13ℤ, [1] in ℤ/13ℤ) in EdwardsKurvengruppe(ring=ℤ/13ℤ, d=[5] in ℤ/13ℤ)\n",
      "([0] in ℤ/13ℤ, [1] in ℤ/13ℤ) in EdwardsKurvengruppe(ring=ℤ/13ℤ, d=[5] in ℤ/13ℤ)\n",
      "True\n"
     ]
    }
   ],
   "source": [
    "print(EC.neutral)\n",
    "print(EC.neutral + EC.neutral)\n",
    "print(EC.neutral * 3)\n",
    "print(EC_element[5] == EC_element[5] + EC.neutral )"
   ]
  },
  {
   "cell_type": "markdown",
   "metadata": {},
   "source": [
    "Multiplikation funktioniert natürlich nur mit Skalaren:"
   ]
  },
  {
   "cell_type": "code",
   "execution_count": 56,
   "metadata": {},
   "outputs": [
    {
     "ename": "TypeError",
     "evalue": "Multiplikation nur mit Skalaren möglich.",
     "output_type": "error",
     "traceback": [
      "\u001b[0;31m---------------------------------------------------------------------------\u001b[0m",
      "\u001b[0;31mTypeError\u001b[0m                                 Traceback (most recent call last)",
      "\u001b[0;32m<ipython-input-56-f7f81ce0c795>\u001b[0m in \u001b[0;36m<module>\u001b[0;34m()\u001b[0m\n\u001b[0;32m----> 1\u001b[0;31m \u001b[0mprint\u001b[0m\u001b[0;34m(\u001b[0m \u001b[0mEC_element\u001b[0m\u001b[0;34m[\u001b[0m\u001b[0;36m5\u001b[0m\u001b[0;34m]\u001b[0m \u001b[0;34m*\u001b[0m \u001b[0mEC_element\u001b[0m\u001b[0;34m[\u001b[0m\u001b[0;36m3\u001b[0m\u001b[0;34m]\u001b[0m \u001b[0;34m)\u001b[0m\u001b[0;34m\u001b[0m\u001b[0m\n\u001b[0m",
      "\u001b[0;32m~/Documents/Studium/Master/SS2018/Kryptographie/KryptographieDiem/projekt/edwards_kurvengruppe.py\u001b[0m in \u001b[0;36m__mul__\u001b[0;34m(self, other)\u001b[0m\n\u001b[1;32m    100\u001b[0m \u001b[0;34m\u001b[0m\u001b[0m\n\u001b[1;32m    101\u001b[0m     \u001b[0;32mdef\u001b[0m \u001b[0m__mul__\u001b[0m\u001b[0;34m(\u001b[0m\u001b[0mself\u001b[0m\u001b[0;34m,\u001b[0m \u001b[0mother\u001b[0m\u001b[0;34m)\u001b[0m\u001b[0;34m:\u001b[0m\u001b[0;34m\u001b[0m\u001b[0m\n\u001b[0;32m--> 102\u001b[0;31m         \u001b[0msuper\u001b[0m\u001b[0;34m(\u001b[0m\u001b[0;34m)\u001b[0m\u001b[0;34m.\u001b[0m\u001b[0m__mul__\u001b[0m\u001b[0;34m(\u001b[0m\u001b[0mother\u001b[0m\u001b[0;34m)\u001b[0m\u001b[0;34m\u001b[0m\u001b[0m\n\u001b[0m\u001b[1;32m    103\u001b[0m \u001b[0;34m\u001b[0m\u001b[0m\n\u001b[1;32m    104\u001b[0m         \u001b[0;32mif\u001b[0m \u001b[0;34m(\u001b[0m\u001b[0mother\u001b[0m \u001b[0;34m<\u001b[0m \u001b[0;36m0\u001b[0m\u001b[0;34m)\u001b[0m\u001b[0;34m:\u001b[0m\u001b[0;34m\u001b[0m\u001b[0m\n",
      "\u001b[0;32m~/Documents/Studium/Master/SS2018/Kryptographie/KryptographieDiem/projekt/abstrakte_gruppen.py\u001b[0m in \u001b[0;36m__mul__\u001b[0;34m(self, other)\u001b[0m\n\u001b[1;32m     75\u001b[0m     \u001b[0;32mdef\u001b[0m \u001b[0m__mul__\u001b[0m\u001b[0;34m(\u001b[0m\u001b[0mself\u001b[0m\u001b[0;34m,\u001b[0m \u001b[0mother\u001b[0m\u001b[0;34m)\u001b[0m\u001b[0;34m:\u001b[0m\u001b[0;34m\u001b[0m\u001b[0m\n\u001b[1;32m     76\u001b[0m         \u001b[0;32mif\u001b[0m \u001b[0mtype\u001b[0m\u001b[0;34m(\u001b[0m\u001b[0mother\u001b[0m\u001b[0;34m)\u001b[0m \u001b[0;34m!=\u001b[0m \u001b[0mint\u001b[0m\u001b[0;34m:\u001b[0m\u001b[0;34m\u001b[0m\u001b[0m\n\u001b[0;32m---> 77\u001b[0;31m             \u001b[0;32mraise\u001b[0m \u001b[0mTypeError\u001b[0m\u001b[0;34m(\u001b[0m\u001b[0;34m'Multiplikation nur mit Skalaren möglich.'\u001b[0m\u001b[0;34m)\u001b[0m\u001b[0;34m\u001b[0m\u001b[0m\n\u001b[0m\u001b[1;32m     78\u001b[0m \u001b[0;34m\u001b[0m\u001b[0m\n\u001b[1;32m     79\u001b[0m     \u001b[0;32mdef\u001b[0m \u001b[0m__rmul__\u001b[0m\u001b[0;34m(\u001b[0m\u001b[0mself\u001b[0m\u001b[0;34m,\u001b[0m \u001b[0mother\u001b[0m\u001b[0;34m)\u001b[0m\u001b[0;34m:\u001b[0m\u001b[0;34m\u001b[0m\u001b[0m\n",
      "\u001b[0;31mTypeError\u001b[0m: Multiplikation nur mit Skalaren möglich."
     ]
    }
   ],
   "source": [
    "print( EC_element[5] * EC_element[3] )"
   ]
  },
  {
   "cell_type": "markdown",
   "metadata": {},
   "source": [
    "Aber mit Skalaren funktioniert die Multiplikation:"
   ]
  },
  {
   "cell_type": "code",
   "execution_count": 57,
   "metadata": {},
   "outputs": [
    {
     "name": "stdout",
     "output_type": "stream",
     "text": [
      "True\n",
      "True\n"
     ]
    }
   ],
   "source": [
    "print( 3 * EC_element[9] == EC_element[9] + EC_element[9] + EC_element[9])\n",
    "print( (EC_element[5] + EC_element[3]) * 2 == 2 * EC_element[5] + 2 * EC_element[3] )"
   ]
  },
  {
   "cell_type": "markdown",
   "metadata": {},
   "source": [
    "In unserer abelschen Gruppe gilt Assoziativität und Kommutativität:"
   ]
  },
  {
   "cell_type": "code",
   "execution_count": 58,
   "metadata": {},
   "outputs": [
    {
     "name": "stdout",
     "output_type": "stream",
     "text": [
      "True\n",
      "True\n"
     ]
    }
   ],
   "source": [
    "print( (EC_element[5] + EC_element[3]) +  EC_element[7] == EC_element[5] + (EC_element[3] +  EC_element[7]) )\n",
    "print( EC_element[5] + EC_element[3] == EC_element[3] + EC_element[5] )"
   ]
  },
  {
   "cell_type": "markdown",
   "metadata": {},
   "source": [
    "Wir erhalten das inverse Element mit der Minus-Operation:"
   ]
  },
  {
   "cell_type": "code",
   "execution_count": 59,
   "metadata": {},
   "outputs": [
    {
     "name": "stdout",
     "output_type": "stream",
     "text": [
      "([7] in ℤ/13ℤ, [7] in ℤ/13ℤ) in EdwardsKurvengruppe(ring=ℤ/13ℤ, d=[5] in ℤ/13ℤ)\n",
      "([6] in ℤ/13ℤ, [7] in ℤ/13ℤ) in EdwardsKurvengruppe(ring=ℤ/13ℤ, d=[5] in ℤ/13ℤ)\n",
      "([0] in ℤ/13ℤ, [1] in ℤ/13ℤ) in EdwardsKurvengruppe(ring=ℤ/13ℤ, d=[5] in ℤ/13ℤ)\n",
      "([0] in ℤ/13ℤ, [1] in ℤ/13ℤ) in EdwardsKurvengruppe(ring=ℤ/13ℤ, d=[5] in ℤ/13ℤ)\n"
     ]
    }
   ],
   "source": [
    "print( EC_element[4] )\n",
    "print( - EC_element[4] )\n",
    "print( EC_element[4] - EC_element[4])\n",
    "print( - EC.neutral)"
   ]
  }
 ],
 "metadata": {
  "kernelspec": {
   "display_name": "Python 3",
   "language": "python",
   "name": "python3"
  },
  "language_info": {
   "codemirror_mode": {
    "name": "ipython",
    "version": 3
   },
   "file_extension": ".py",
   "mimetype": "text/x-python",
   "name": "python",
   "nbconvert_exporter": "python",
   "pygments_lexer": "ipython3",
   "version": "3.6.5"
  }
 },
 "nbformat": 4,
 "nbformat_minor": 2
}
