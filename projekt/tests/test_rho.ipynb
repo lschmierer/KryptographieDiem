{
 "cells": [
  {
   "cell_type": "markdown",
   "metadata": {},
   "source": [
    "Hier wird die Rho-Methode zur Lösung des diskreten Logarithmus in verschiedenen Varianten getestet!"
   ]
  },
  {
   "cell_type": "code",
   "execution_count": 2,
   "metadata": {
    "scrolled": true
   },
   "outputs": [],
   "source": [
    "import project_path\n",
    "from tocas import Restklassenring, Polynomring, PolynomringElement\n",
    "\n",
    "import ha.format_extension\n",
    "import ha.restklassen_extension\n",
    "from ha.polynom_restklassenring import PolynomRestklassenring, PolynomRestklassenringElement\n",
    "\n",
    "from projekt.weierstrass_kurvengruppe import WeierstrassKurvengruppe, WeierstrassKurvengruppenElement\n",
    "from projekt.edwards_kurvengruppe import EdwardsKurvengruppe, EdwardsKurvengruppenElement\n",
    "\n",
    "from projekt.rho import floyd_cycle_rho, brent_cycle_rho, distinguished_rho, generiere_additiv_walk"
   ]
  },
  {
   "cell_type": "markdown",
   "metadata": {},
   "source": [
    "Beispiel (1) mit Restklassenring:"
   ]
  },
  {
   "cell_type": "code",
   "execution_count": 3,
   "metadata": {},
   "outputs": [
    {
     "data": {
      "text/plain": [
       "50"
      ]
     },
     "execution_count": 3,
     "metadata": {},
     "output_type": "execute_result"
    }
   ],
   "source": [
    "F_809 = Restklassenring(809)\n",
    "g = F_809.element(89) # r = ord(g) = 101 (ist prim)\n",
    "h = F_809.element(799) # = g ^ 50\n",
    "\n",
    "floyd_cycle_rho(g, h, 101, n_s=4)"
   ]
  },
  {
   "cell_type": "markdown",
   "metadata": {},
   "source": [
    "Beispiel (2) mit PolynomRestklassenring:"
   ]
  },
  {
   "cell_type": "code",
   "execution_count": 4,
   "metadata": {},
   "outputs": [
    {
     "data": {
      "text/plain": [
       "2"
      ]
     },
     "execution_count": 4,
     "metadata": {},
     "output_type": "execute_result"
    }
   ],
   "source": [
    "F_19 = Restklassenring(19)\n",
    "FX = Polynomring(F_19)\n",
    "FX_g = PolynomRestklassenring(PolynomringElement([1, 0, 1], FX))\n",
    "\n",
    "g2 = PolynomRestklassenringElement([7, 0, 0], FX_g) # N = r = ord(g) = 3\n",
    "h2 = PolynomRestklassenringElement([11, 0, 0], FX_g) # = g ^ 2\n",
    "\n",
    "brent_cycle_rho(g2, h2, 3, n_s=128)"
   ]
  },
  {
   "cell_type": "markdown",
   "metadata": {},
   "source": [
    "Beispiel (3) mit Elliptischen Kurven (Weierstrass-Form):"
   ]
  },
  {
   "cell_type": "code",
   "execution_count": 5,
   "metadata": {},
   "outputs": [
    {
     "data": {
      "text/plain": [
       "16"
      ]
     },
     "execution_count": 5,
     "metadata": {},
     "output_type": "execute_result"
    }
   ],
   "source": [
    "# Beispiel für eine WeistrassKurve über endlichen Körper\n",
    "# nützlich: http://www.graui.de/code/elliptic2/\n",
    "F_13 = Restklassenring(13)\n",
    "WC = WeierstrassKurvengruppe(F_13, F_13.element(5), F_13.element(4))\n",
    "\n",
    "g3 = WeierstrassKurvengruppenElement(F_13.element(2), F_13.element(3), WC) # order 17\n",
    "h3 = WeierstrassKurvengruppenElement(F_13.element(2), F_13.element(10), WC) # = g2 * 16\n",
    "\n",
    "floyd_cycle_rho(g3, h3, 17, n_s=4)"
   ]
  },
  {
   "cell_type": "markdown",
   "metadata": {},
   "source": [
    "Beispiel (4) mit Elliptischen Kurven (Edwards-Form):"
   ]
  },
  {
   "cell_type": "code",
   "execution_count": 8,
   "metadata": {},
   "outputs": [
    {
     "data": {
      "text/plain": [
       "32"
      ]
     },
     "execution_count": 8,
     "metadata": {},
     "output_type": "execute_result"
    }
   ],
   "source": [
    "F_647 = Restklassenring(647)\n",
    "EC = EdwardsKurvengruppe(F_647, F_647.element(5))\n",
    "\n",
    "g4 = EdwardsKurvengruppenElement(F_647.element(6), F_647.element(195), EC) # Erzeuger der Ordnung 53\n",
    "h4 =  EdwardsKurvengruppenElement(F_647.element(71), F_647.element(366), EC) # = g4 * 32\n",
    "\n",
    "floyd_cycle_rho(g4, h4, 53, n_s=4)"
   ]
  },
  {
   "cell_type": "markdown",
   "metadata": {},
   "source": [
    "Beispiel (1) mit alternativer (einfacherer) additiven walk Funktion"
   ]
  },
  {
   "cell_type": "code",
   "execution_count": 9,
   "metadata": {},
   "outputs": [
    {
     "data": {
      "text/plain": [
       "50"
      ]
     },
     "execution_count": 9,
     "metadata": {},
     "output_type": "execute_result"
    }
   ],
   "source": [
    "floyd_cycle_rho(g, h, 101, n_s=4, walk_generator=generiere_additiv_walk)"
   ]
  },
  {
   "cell_type": "markdown",
   "metadata": {},
   "source": [
    "Beispiel (1) und (3) mit Brent's Cycle Variante:"
   ]
  },
  {
   "cell_type": "code",
   "execution_count": 15,
   "metadata": {},
   "outputs": [
    {
     "data": {
      "text/plain": [
       "50"
      ]
     },
     "execution_count": 15,
     "metadata": {},
     "output_type": "execute_result"
    }
   ],
   "source": [
    "brent_cycle_rho(g, h, 101, n_s=4)"
   ]
  },
  {
   "cell_type": "code",
   "execution_count": 16,
   "metadata": {},
   "outputs": [
    {
     "data": {
      "text/plain": [
       "16"
      ]
     },
     "execution_count": 16,
     "metadata": {},
     "output_type": "execute_result"
    }
   ],
   "source": [
    "brent_cycle_rho(g3, h3, 17, n_s=128)"
   ]
  },
  {
   "cell_type": "markdown",
   "metadata": {},
   "source": [
    "Beispiel (1), (3) und (4) mit der Rho-Methode mit Distinguished Points (bei kleinen Gruppen kann es passieren, dass der Algorithmus nicht terminiert -> Stop! und nochmal ausführen):"
   ]
  },
  {
   "cell_type": "code",
   "execution_count": 17,
   "metadata": {},
   "outputs": [
    {
     "data": {
      "text/plain": [
       "50"
      ]
     },
     "execution_count": 17,
     "metadata": {},
     "output_type": "execute_result"
    }
   ],
   "source": [
    "distinguished_rho(g, h, 101, 1, n_s=128)"
   ]
  },
  {
   "cell_type": "code",
   "execution_count": null,
   "metadata": {},
   "outputs": [],
   "source": [
    "distinguished_rho(g3, h3, 17, 1, n_s=128)"
   ]
  },
  {
   "cell_type": "code",
   "execution_count": null,
   "metadata": {},
   "outputs": [],
   "source": [
    "distinguished_rho(g4, h4, 53, 1, n_s=128)"
   ]
  },
  {
   "cell_type": "code",
   "execution_count": null,
   "metadata": {},
   "outputs": [],
   "source": []
  }
 ],
 "metadata": {
  "kernelspec": {
   "display_name": "Python 3",
   "language": "python",
   "name": "python3"
  },
  "language_info": {
   "codemirror_mode": {
    "name": "ipython",
    "version": 3
   },
   "file_extension": ".py",
   "mimetype": "text/x-python",
   "name": "python",
   "nbconvert_exporter": "python",
   "pygments_lexer": "ipython3",
   "version": "3.6.5"
  }
 },
 "nbformat": 4,
 "nbformat_minor": 2
}
