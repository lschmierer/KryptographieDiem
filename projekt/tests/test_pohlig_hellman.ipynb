{
 "cells": [
  {
   "cell_type": "code",
   "execution_count": 10,
   "metadata": {},
   "outputs": [
    {
     "data": {
      "text/plain": [
       "16"
      ]
     },
     "execution_count": 10,
     "metadata": {},
     "output_type": "execute_result"
    }
   ],
   "source": [
    "import project_path\n",
    "from tocas import Restklassenring, Polynomring, PolynomringElement\n",
    "\n",
    "import ha.format_extension\n",
    "import ha.restklassen_extension\n",
    "from ha.polynom_restklassenring import PolynomRestklassenring, PolynomRestklassenringElement\n",
    "\n",
    "from projekt.edwards_kurvengruppe import EdwardsKurvengruppe, EdwardsKurvengruppenElement\n",
    "from projekt.weierstrass_kurvengruppe import WeierstrassKurvengruppe, WeierstrassKurvengruppenElement\n",
    "from projekt.pohlig_hellman import pohlig_hellman\n",
    "from projekt.baby_step_giant_step import baby_step_giant_step\n",
    "from projekt.rho import floyd_cycle_rho\n",
    "\n",
    "F_19 = Restklassenring(19)\n",
    "g = F_19.element(2) # N = ord(g) = 18 \n",
    "h = F_19.element(5) # = g ^ 16\n",
    "# 2 * 3^2\n",
    "l = [(2, 1), (3, 2)]\n",
    "\n",
    "pohlig_hellman(g, h, l)"
   ]
  },
  {
   "cell_type": "code",
   "execution_count": 11,
   "metadata": {},
   "outputs": [
    {
     "data": {
      "text/plain": [
       "17"
      ]
     },
     "execution_count": 11,
     "metadata": {},
     "output_type": "execute_result"
    }
   ],
   "source": [
    "FX = Polynomring(F_19)\n",
    "FX_g = PolynomRestklassenring(PolynomringElement([1, 0, 1], FX))\n",
    "\n",
    "g = PolynomRestklassenringElement([2, 0, 0], FX_g) # N = 18\n",
    "h = PolynomRestklassenringElement([10, 0, 0], FX_g) # = g ^ 17\n",
    "l = [(2, 1), (3, 2)]\n",
    "\n",
    "pohlig_hellman(g, h, l)"
   ]
  },
  {
   "cell_type": "code",
   "execution_count": 12,
   "metadata": {},
   "outputs": [
    {
     "data": {
      "text/plain": [
       "2"
      ]
     },
     "execution_count": 12,
     "metadata": {},
     "output_type": "execute_result"
    }
   ],
   "source": [
    "# Beispiel für eine WeistrassKurve über endlichen Körper\n",
    "WC = WeierstrassKurvengruppe(F_19, F_19.element(5), F_19.element(4))\n",
    "# Ord(WC) = 18 => [(2,1),(3,2)]\n",
    "# (10,16) ist ein erzeugender Punkt\n",
    "g2 = WeierstrassKurvengruppenElement(F_19.element(1), F_19.element(8), WC)\n",
    "h2 = WeierstrassKurvengruppenElement(F_19.element(8), F_19.element(9), WC)\n",
    "l2 = [(2, 1), (3, 2)]\n",
    "\n",
    "pohlig_hellman(g2, h2, l2)\n",
    "# nach sage muss hier 2 heraus kommen"
   ]
  },
  {
   "cell_type": "code",
   "execution_count": 13,
   "metadata": {},
   "outputs": [
    {
     "data": {
      "text/plain": [
       "17"
      ]
     },
     "execution_count": 13,
     "metadata": {},
     "output_type": "execute_result"
    }
   ],
   "source": [
    "# Testen wir Pohlig Hellman mit Baby-Step-Giant-Step zum Lösen der Untergruppen\n",
    "pohlig_hellman(g, h, l, dlp_search_alg=baby_step_giant_step)"
   ]
  },
  {
   "cell_type": "code",
   "execution_count": 14,
   "metadata": {},
   "outputs": [
    {
     "data": {
      "text/plain": [
       "2"
      ]
     },
     "execution_count": 14,
     "metadata": {},
     "output_type": "execute_result"
    }
   ],
   "source": [
    "pohlig_hellman(g2, h2, l2, dlp_search_alg=baby_step_giant_step)"
   ]
  },
  {
   "cell_type": "code",
   "execution_count": null,
   "metadata": {},
   "outputs": [],
   "source": []
  }
 ],
 "metadata": {
  "kernelspec": {
   "display_name": "Python 3",
   "language": "python",
   "name": "python3"
  },
  "language_info": {
   "codemirror_mode": {
    "name": "ipython",
    "version": 3
   },
   "file_extension": ".py",
   "mimetype": "text/x-python",
   "name": "python",
   "nbconvert_exporter": "python",
   "pygments_lexer": "ipython3",
   "version": "3.6.5"
  }
 },
 "nbformat": 4,
 "nbformat_minor": 2
}
