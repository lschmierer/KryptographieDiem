{
 "cells": [
  {
   "cell_type": "markdown",
   "metadata": {},
   "source": [
    "Hier wird die parallelisierte Rho-Methode getestet!\n",
    "\n",
    "parallel_rho(g, h, r, n_d, n_s, worker)\n",
    "\n",
    "    h = g ^ a \n",
    "    r.. Ordnung von h\n",
    "    n_d.. Anzahl an least-significant bits an, die null sein müssen\n",
    "    n_s.. definiert die Länge des Walks.\n",
    "    worker.. Anzahl der Threads"
   ]
  },
  {
   "cell_type": "code",
   "execution_count": 1,
   "metadata": {},
   "outputs": [],
   "source": [
    "import project_path\n",
    "from tocas import Restklassenring, Polynomring, PolynomringElement\n",
    "\n",
    "import ha.format_extension\n",
    "import ha.restklassen_extension\n",
    "from ha.polynom_restklassenring import PolynomRestklassenring, PolynomRestklassenringElement\n",
    "from projekt.edwards_kurvengruppe import EdwardsKurvengruppe, EdwardsKurvengruppenElement\n",
    "\n",
    "\n",
    "from projekt.parallel_rho import parallel_rho"
   ]
  },
  {
   "cell_type": "markdown",
   "metadata": {},
   "source": [
    "zunächst ein einfaches Beispiel:"
   ]
  },
  {
   "cell_type": "code",
   "execution_count": 2,
   "metadata": {},
   "outputs": [
    {
     "data": {
      "text/plain": [
       "50"
      ]
     },
     "execution_count": 2,
     "metadata": {},
     "output_type": "execute_result"
    }
   ],
   "source": [
    "F_809 = Restklassenring(809)\n",
    "g = F_809.element(89) # r = ord(g) = 101 (ist prim)\n",
    "h = F_809.element(799) # = g ^ 50\n",
    "\n",
    "parallel_rho(g, h, 101, 3, n_s=32, worker=4)"
   ]
  },
  {
   "cell_type": "markdown",
   "metadata": {},
   "source": [
    "und nun das komplexere Beispiel aus dem Laufzeittest (kann einige Minuten dauern):"
   ]
  },
  {
   "cell_type": "code",
   "execution_count": 3,
   "metadata": {},
   "outputs": [
    {
     "data": {
      "text/plain": [
       "67782867"
      ]
     },
     "execution_count": 3,
     "metadata": {},
     "output_type": "execute_result"
    }
   ],
   "source": [
    "F_1624571841187 = Restklassenring(1624571841187)\n",
    "g = F_1624571841187.element(1580023) \n",
    "r = 12893427311 # = ord(g) (ist prim)\n",
    "h = F_1624571841187.element(541805201268) # = g ^ 67782867\n",
    "\n",
    "parallel_rho(g, h, r, 8, n_s=32, worker=4)"
   ]
  },
  {
   "cell_type": "code",
   "execution_count": 2,
   "metadata": {},
   "outputs": [
    {
     "data": {
      "text/plain": [
       "32"
      ]
     },
     "execution_count": 2,
     "metadata": {},
     "output_type": "execute_result"
    }
   ],
   "source": [
    "F_647 = Restklassenring(647)\n",
    "EC = EdwardsKurvengruppe(F_647, F_647.element(5))\n",
    "\n",
    "g4 = EdwardsKurvengruppenElement(F_647.element(6), F_647.element(195), EC) # Erzeuger der Ordnung 53\n",
    "h4 =  EdwardsKurvengruppenElement(F_647.element(71), F_647.element(366), EC) # = g4 * 32\n",
    "\n",
    "parallel_rho(g4, h4, 53, 3, n_s=32, worker=4)"
   ]
  },
  {
   "cell_type": "code",
   "execution_count": null,
   "metadata": {},
   "outputs": [],
   "source": []
  }
 ],
 "metadata": {
  "kernelspec": {
   "display_name": "Python 3",
   "language": "python",
   "name": "python3"
  },
  "language_info": {
   "codemirror_mode": {
    "name": "ipython",
    "version": 3
   },
   "file_extension": ".py",
   "mimetype": "text/x-python",
   "name": "python",
   "nbconvert_exporter": "python",
   "pygments_lexer": "ipython3",
   "version": "3.6.5"
  }
 },
 "nbformat": 4,
 "nbformat_minor": 2
}
