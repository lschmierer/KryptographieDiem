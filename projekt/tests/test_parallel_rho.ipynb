{
 "cells": [
  {
   "cell_type": "code",
   "execution_count": 1,
   "metadata": {},
   "outputs": [
    {
     "data": {
      "text/plain": [
       "50"
      ]
     },
     "execution_count": 1,
     "metadata": {},
     "output_type": "execute_result"
    }
   ],
   "source": [
    "import project_path\n",
    "from tocas import Restklassenring, Polynomring, PolynomringElement\n",
    "\n",
    "import ha.format_extension\n",
    "import ha.restklassen_extension\n",
    "from ha.polynom_restklassenring import PolynomRestklassenring, PolynomRestklassenringElement\n",
    "\n",
    "from projekt.parallel_rho import parallel_rho\n",
    "\n",
    "F_809 = Restklassenring(809)\n",
    "g = F_809.element(89) # r = ord(g) = 101 (ist prim)\n",
    "h = F_809.element(799) # = g ^ 50\n",
    "\n",
    "parallel_rho(g, h, 101, 3, n_s=32, worker=4)"
   ]
  },
  {
   "cell_type": "code",
   "execution_count": null,
   "metadata": {},
   "outputs": [],
   "source": []
  }
 ],
 "metadata": {
  "kernelspec": {
   "display_name": "Python 3",
   "language": "python",
   "name": "python3"
  },
  "language_info": {
   "codemirror_mode": {
    "name": "ipython",
    "version": 3
   },
   "file_extension": ".py",
   "mimetype": "text/x-python",
   "name": "python",
   "nbconvert_exporter": "python",
   "pygments_lexer": "ipython3",
   "version": "3.6.5"
  }
 },
 "nbformat": 4,
 "nbformat_minor": 2
}
